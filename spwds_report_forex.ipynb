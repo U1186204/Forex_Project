{
 "cells": [
  {
   "cell_type": "code",
<<<<<<< HEAD
   "execution_count": 544,
=======
   "execution_count": 571,
>>>>>>> 3a2ec1de7891262211cd8d2e2f6158b3919fa56b
   "metadata": {},
   "outputs": [],
   "source": [
    "import pandas as pd\n",
    "import numpy as np\n",
    "import matplotlib.pyplot as plt"
   ]
  },
  {
   "cell_type": "code",
<<<<<<< HEAD
   "execution_count": 545,
=======
   "execution_count": 572,
>>>>>>> 3a2ec1de7891262211cd8d2e2f6158b3919fa56b
   "metadata": {},
   "outputs": [],
   "source": [
    "base_url = (\n",
    "    \"https://raw.githubusercontent.com/U1186204/Forex_Project/refs/heads/main/datasets/\"\n",
    ")\n",
    "\n",
    "# Dictionary to map currencies to their respective countries\n",
    "currency_country_map = {\n",
    "    \"AUD\": \"Australia\",\n",
    "    \"BRL\": \"Brazil\",\n",
    "    \"CAD\": \"Canada\",\n",
    "    \"CHF\": \"Switzerland\",\n",
    "    \"EUR\": \"Eurozone\",\n",
    "    \"GBP\": \"United Kingdom\",\n",
    "    \"HKD\": \"Hong Kong\",\n",
    "    \"IDR\": \"Indonesia\",\n",
    "    \"INR\": \"India\",\n",
    "    \"JPY\": \"Japan\",\n",
    "    \"KRW\": \"South Korea\",\n",
    "    \"MXN\": \"Mexico\",\n",
    "    \"SGD\": \"Singapore\",\n",
    "    \"THB\": \"Thailand\",\n",
    "    \"ZAR\": \"South Africa\",\n",
    "}\n",
    "\n",
    "# Dictionary to map currencies to development status\n",
    "development_status_map = {\n",
    "    \"MXN\": \"Developing\",\n",
    "    \"INR\": \"Developing\",\n",
    "    \"BRL\": \"Developing\",\n",
    "    \"ZAR\": \"Developing\",\n",
    "    \"THB\": \"Developing\",\n",
    "    \"IDR\": \"Developing\",\n",
    "    \"EUR\": \"Developed\",\n",
    "    \"JPY\": \"Developed\",\n",
    "    \"GBP\": \"Developed\",\n",
    "    \"AUD\": \"Developed\",\n",
    "    \"CAD\": \"Developed\",\n",
    "    \"CHF\": \"Developed\",\n",
    "    \"HKD\": \"Developing\",\n",
    "    \"SGD\": \"Developing\",\n",
    "    \"KRW\": \"Developed\",\n",
    "}\n",
    "\n",
    "# Read all the files and add currency, country, and development status columns\n",
    "dfs = []\n",
    "\n",
    "for currency, country in currency_country_map.items():\n",
    "    file_name = f\"USD_{currency} Historical Data.csv\".replace(\n",
    "        \" \", \"%20\"\n",
    "    )  # Encode spaces\n",
    "    file_path = base_url + file_name  # Corrected URL\n",
    "\n",
    "    try:\n",
    "        df = pd.read_csv(file_path)\n",
    "        df[\"currency\"] = currency\n",
    "        df[\"country\"] = country\n",
    "        df[\"development_status\"] = development_status_map.get(\n",
    "            currency, \"Unknown\"\n",
    "        )  # Add status\n",
    "        dfs.append(df)\n",
    "    except Exception as e:\n",
    "        print(f\"Error reading {file_path}: {e}\")\n",
    "\n",
    "# Combine all data into a single DataFrame\n",
    "df_forex = pd.concat(dfs, ignore_index=True)"
   ]
  },
  {
   "cell_type": "code",
<<<<<<< HEAD
   "execution_count": 546,
=======
   "execution_count": 573,
>>>>>>> 3a2ec1de7891262211cd8d2e2f6158b3919fa56b
   "metadata": {},
   "outputs": [
    {
     "data": {
      "application/vnd.microsoft.datawrangler.viewer.v0+json": {
       "columns": [
        {
         "name": "index",
         "rawType": "int64",
         "type": "integer"
        },
        {
         "name": "Date",
         "rawType": "object",
         "type": "string"
        },
        {
         "name": "Price",
         "rawType": "object",
         "type": "unknown"
        },
        {
         "name": "Open",
         "rawType": "object",
         "type": "unknown"
        },
        {
         "name": "High",
         "rawType": "object",
         "type": "unknown"
        },
        {
         "name": "Low",
         "rawType": "object",
         "type": "unknown"
        },
        {
         "name": "Vol.",
         "rawType": "object",
         "type": "unknown"
        },
        {
         "name": "Change %",
         "rawType": "float64",
         "type": "float"
        },
        {
         "name": "currency",
         "rawType": "object",
         "type": "string"
        },
        {
         "name": "country",
         "rawType": "object",
         "type": "string"
        },
        {
         "name": "development_status",
         "rawType": "object",
         "type": "string"
        }
       ],
       "conversionMethod": "pd.DataFrame",
<<<<<<< HEAD
       "ref": "acf07691-f152-4ad1-ae91-03fa4ed4292f",
=======
       "ref": "0c572441-7ec0-45b1-b841-c1678d6b0cb9",
>>>>>>> 3a2ec1de7891262211cd8d2e2f6158b3919fa56b
       "rows": [
        [
         "0",
         "02/07/2025",
         "1.5944",
         "1.5924",
         "1.5993",
         "1.5874",
         null,
         "0.19",
         "AUD",
         "Australia",
         "Developed"
        ],
        [
         "1",
         "02/06/2025",
         "1.5913",
         "1.5911",
         "1.599",
         "1.59",
         null,
         "0.03",
         "AUD",
         "Australia",
         "Developed"
        ],
        [
         "2",
         "02/05/2025",
         "1.5908",
         "1.6",
         "1.6027",
         "1.5878",
         null,
         "-0.48",
         "AUD",
         "Australia",
         "Developed"
        ],
        [
         "3",
         "02/04/2025",
         "1.5985",
         "1.6063",
         "1.6209",
         "1.5966",
         null,
         "-0.45",
         "AUD",
         "Australia",
         "Developed"
        ],
        [
         "4",
         "02/03/2025",
         "1.6057",
         "1.6102",
         "1.643",
         "1.6031",
         null,
         "-0.24",
         "AUD",
         "Australia",
         "Developed"
        ],
        [
         "5",
         "01/31/2025",
         "1.6095",
         "1.6105",
         "1.6124",
         "1.5966",
         null,
         "-0.03",
         "AUD",
         "Australia",
         "Developed"
        ],
        [
         "6",
         "01/30/2025",
         "1.61",
         "1.6053",
         "1.6132",
         "1.6013",
         null,
         "0.35",
         "AUD",
         "Australia",
         "Developed"
        ],
        [
         "7",
         "01/29/2025",
         "1.6044",
         "1.5991",
         "1.6104",
         "1.5984",
         null,
         "0.36",
         "AUD",
         "Australia",
         "Developed"
        ],
        [
         "8",
         "01/28/2025",
         "1.5987",
         "1.5892",
         "1.6035",
         "1.5887",
         null,
         "0.62",
         "AUD",
         "Australia",
         "Developed"
        ],
        [
         "9",
         "01/27/2025",
         "1.5888",
         "1.5821",
         "1.5938",
         "1.5813",
         null,
         "0.32",
         "AUD",
         "Australia",
         "Developed"
        ]
       ],
       "shape": {
        "columns": 10,
        "rows": 10
       }
      },
      "text/html": [
       "<div>\n",
       "<style scoped>\n",
       "    .dataframe tbody tr th:only-of-type {\n",
       "        vertical-align: middle;\n",
       "    }\n",
       "\n",
       "    .dataframe tbody tr th {\n",
       "        vertical-align: top;\n",
       "    }\n",
       "\n",
       "    .dataframe thead th {\n",
       "        text-align: right;\n",
       "    }\n",
       "</style>\n",
       "<table border=\"1\" class=\"dataframe\">\n",
       "  <thead>\n",
       "    <tr style=\"text-align: right;\">\n",
       "      <th></th>\n",
       "      <th>Date</th>\n",
       "      <th>Price</th>\n",
       "      <th>Open</th>\n",
       "      <th>High</th>\n",
       "      <th>Low</th>\n",
       "      <th>Vol.</th>\n",
       "      <th>Change %</th>\n",
       "      <th>currency</th>\n",
       "      <th>country</th>\n",
       "      <th>development_status</th>\n",
       "    </tr>\n",
       "  </thead>\n",
       "  <tbody>\n",
       "    <tr>\n",
       "      <th>0</th>\n",
       "      <td>02/07/2025</td>\n",
       "      <td>1.5944</td>\n",
       "      <td>1.5924</td>\n",
       "      <td>1.5993</td>\n",
       "      <td>1.5874</td>\n",
       "      <td>NaN</td>\n",
       "      <td>0.19</td>\n",
       "      <td>AUD</td>\n",
       "      <td>Australia</td>\n",
       "      <td>Developed</td>\n",
       "    </tr>\n",
       "    <tr>\n",
       "      <th>1</th>\n",
       "      <td>02/06/2025</td>\n",
       "      <td>1.5913</td>\n",
       "      <td>1.5911</td>\n",
       "      <td>1.599</td>\n",
       "      <td>1.59</td>\n",
       "      <td>NaN</td>\n",
       "      <td>0.03</td>\n",
       "      <td>AUD</td>\n",
       "      <td>Australia</td>\n",
       "      <td>Developed</td>\n",
       "    </tr>\n",
       "    <tr>\n",
       "      <th>2</th>\n",
       "      <td>02/05/2025</td>\n",
       "      <td>1.5908</td>\n",
       "      <td>1.6</td>\n",
       "      <td>1.6027</td>\n",
       "      <td>1.5878</td>\n",
       "      <td>NaN</td>\n",
       "      <td>-0.48</td>\n",
       "      <td>AUD</td>\n",
       "      <td>Australia</td>\n",
       "      <td>Developed</td>\n",
       "    </tr>\n",
       "    <tr>\n",
       "      <th>3</th>\n",
       "      <td>02/04/2025</td>\n",
       "      <td>1.5985</td>\n",
       "      <td>1.6063</td>\n",
       "      <td>1.6209</td>\n",
       "      <td>1.5966</td>\n",
       "      <td>NaN</td>\n",
       "      <td>-0.45</td>\n",
       "      <td>AUD</td>\n",
       "      <td>Australia</td>\n",
       "      <td>Developed</td>\n",
       "    </tr>\n",
       "    <tr>\n",
       "      <th>4</th>\n",
       "      <td>02/03/2025</td>\n",
       "      <td>1.6057</td>\n",
       "      <td>1.6102</td>\n",
       "      <td>1.643</td>\n",
       "      <td>1.6031</td>\n",
       "      <td>NaN</td>\n",
       "      <td>-0.24</td>\n",
       "      <td>AUD</td>\n",
       "      <td>Australia</td>\n",
       "      <td>Developed</td>\n",
       "    </tr>\n",
       "    <tr>\n",
       "      <th>5</th>\n",
       "      <td>01/31/2025</td>\n",
       "      <td>1.6095</td>\n",
       "      <td>1.6105</td>\n",
       "      <td>1.6124</td>\n",
       "      <td>1.5966</td>\n",
       "      <td>NaN</td>\n",
       "      <td>-0.03</td>\n",
       "      <td>AUD</td>\n",
       "      <td>Australia</td>\n",
       "      <td>Developed</td>\n",
       "    </tr>\n",
       "    <tr>\n",
       "      <th>6</th>\n",
       "      <td>01/30/2025</td>\n",
       "      <td>1.61</td>\n",
       "      <td>1.6053</td>\n",
       "      <td>1.6132</td>\n",
       "      <td>1.6013</td>\n",
       "      <td>NaN</td>\n",
       "      <td>0.35</td>\n",
       "      <td>AUD</td>\n",
       "      <td>Australia</td>\n",
       "      <td>Developed</td>\n",
       "    </tr>\n",
       "    <tr>\n",
       "      <th>7</th>\n",
       "      <td>01/29/2025</td>\n",
       "      <td>1.6044</td>\n",
       "      <td>1.5991</td>\n",
       "      <td>1.6104</td>\n",
       "      <td>1.5984</td>\n",
       "      <td>NaN</td>\n",
       "      <td>0.36</td>\n",
       "      <td>AUD</td>\n",
       "      <td>Australia</td>\n",
       "      <td>Developed</td>\n",
       "    </tr>\n",
       "    <tr>\n",
       "      <th>8</th>\n",
       "      <td>01/28/2025</td>\n",
       "      <td>1.5987</td>\n",
       "      <td>1.5892</td>\n",
       "      <td>1.6035</td>\n",
       "      <td>1.5887</td>\n",
       "      <td>NaN</td>\n",
       "      <td>0.62</td>\n",
       "      <td>AUD</td>\n",
       "      <td>Australia</td>\n",
       "      <td>Developed</td>\n",
       "    </tr>\n",
       "    <tr>\n",
       "      <th>9</th>\n",
       "      <td>01/27/2025</td>\n",
       "      <td>1.5888</td>\n",
       "      <td>1.5821</td>\n",
       "      <td>1.5938</td>\n",
       "      <td>1.5813</td>\n",
       "      <td>NaN</td>\n",
       "      <td>0.32</td>\n",
       "      <td>AUD</td>\n",
       "      <td>Australia</td>\n",
       "      <td>Developed</td>\n",
       "    </tr>\n",
       "  </tbody>\n",
       "</table>\n",
       "</div>"
      ],
      "text/plain": [
       "         Date   Price    Open    High     Low Vol.  Change % currency  \\\n",
       "0  02/07/2025  1.5944  1.5924  1.5993  1.5874  NaN      0.19      AUD   \n",
       "1  02/06/2025  1.5913  1.5911   1.599    1.59  NaN      0.03      AUD   \n",
       "2  02/05/2025  1.5908     1.6  1.6027  1.5878  NaN     -0.48      AUD   \n",
       "3  02/04/2025  1.5985  1.6063  1.6209  1.5966  NaN     -0.45      AUD   \n",
       "4  02/03/2025  1.6057  1.6102   1.643  1.6031  NaN     -0.24      AUD   \n",
       "5  01/31/2025  1.6095  1.6105  1.6124  1.5966  NaN     -0.03      AUD   \n",
       "6  01/30/2025    1.61  1.6053  1.6132  1.6013  NaN      0.35      AUD   \n",
       "7  01/29/2025  1.6044  1.5991  1.6104  1.5984  NaN      0.36      AUD   \n",
       "8  01/28/2025  1.5987  1.5892  1.6035  1.5887  NaN      0.62      AUD   \n",
       "9  01/27/2025  1.5888  1.5821  1.5938  1.5813  NaN      0.32      AUD   \n",
       "\n",
       "     country development_status  \n",
       "0  Australia          Developed  \n",
       "1  Australia          Developed  \n",
       "2  Australia          Developed  \n",
       "3  Australia          Developed  \n",
       "4  Australia          Developed  \n",
       "5  Australia          Developed  \n",
       "6  Australia          Developed  \n",
       "7  Australia          Developed  \n",
       "8  Australia          Developed  \n",
       "9  Australia          Developed  "
      ]
     },
<<<<<<< HEAD
     "execution_count": 546,
=======
     "execution_count": 573,
>>>>>>> 3a2ec1de7891262211cd8d2e2f6158b3919fa56b
     "metadata": {},
     "output_type": "execute_result"
    }
   ],
   "source": [
    "df_forex[\"Change %\"] = pd.to_numeric(\n",
    "    df_forex[\"Change %\"].astype(str).str.replace(\"%\", \"\", regex=False), errors=\"coerce\"\n",
    ")\n",
    "\n",
    "df_stats = df_forex.groupby(\"currency\")[\"Change %\"].agg([\"mean\", \"std\"]).reset_index()\n",
    "\n",
    "df_stats.columns = [\"currency\", \"mean_change_pct\", \"stddev_change_pct\"]\n",
    "\n",
    "df_forex.head(10)"
   ]
  },
  {
   "cell_type": "code",
<<<<<<< HEAD
   "execution_count": 547,
=======
   "execution_count": 574,
>>>>>>> 3a2ec1de7891262211cd8d2e2f6158b3919fa56b
   "metadata": {},
   "outputs": [],
   "source": [
    "# Define the file path in your repository\n",
    "file_path = \"datasets/df_forex.csv\"\n",
    "\n",
    "# Save DataFrame to CSV\n",
    "df_forex.to_csv(file_path, index=False)"
   ]
  },
  {
   "cell_type": "code",
<<<<<<< HEAD
   "execution_count": 548,
=======
   "execution_count": 575,
>>>>>>> 3a2ec1de7891262211cd8d2e2f6158b3919fa56b
   "metadata": {},
   "outputs": [],
   "source": [
    "# Load forex data (assuming df_forex is already loaded)\n",
    "df_forex[\"Change %\"] = pd.to_numeric(\n",
    "    df_forex[\"Change %\"].astype(str).str.replace(\"%\", \"\", regex=False), errors=\"coerce\"\n",
    ")\n",
    "df_forex[\"Date\"] = pd.to_datetime(df_forex[\"Date\"])\n",
    "\n",
    "# Load statistical summary (assuming df_stats is already created)\n",
    "df_stats = df_forex.groupby(\"currency\")[\"Change %\"].agg([\"mean\", \"std\"]).reset_index()\n",
    "df_stats.columns = [\"currency\", \"mean_change_pct\", \"stddev_change_pct\"]"
   ]
  },
  {
   "cell_type": "code",
<<<<<<< HEAD
   "execution_count": 549,
=======
   "execution_count": 576,
>>>>>>> 3a2ec1de7891262211cd8d2e2f6158b3919fa56b
   "metadata": {},
   "outputs": [
    {
     "data": {
      "text/plain": [
       "<Figure size 1200x600 with 0 Axes>"
      ]
     },
     "metadata": {},
     "output_type": "display_data"
    },
    {
     "data": {
      "image/png": "iVBORw0KGgoAAAANSUhEUgAAAlEAAAG9CAYAAAA1EiO6AAAAOXRFWHRTb2Z0d2FyZQBNYXRwbG90bGliIHZlcnNpb24zLjkuMiwgaHR0cHM6Ly9tYXRwbG90bGliLm9yZy8hTgPZAAAACXBIWXMAAA9hAAAPYQGoP6dpAACf8klEQVR4nOzdeVxUVf8H8M8sAgMILjCAG4NgbpCW4oKgYpvIEASUlpWmbY+luYQGVmYmlEtqlpal2S9LfRKyHNTKBSOhUIsSXBIEDRxZVGZYhoGZOb8/fObGMAPMDIOgfN+v17yce8655567MPP13HPP8BhjDIQQQgghxCL89m4AIYQQQsjtiIIoQgghhBArUBBFCCGEEGIFCqIIIYQQQqxAQRQhhBBCiBUoiCKEEEIIsQIFUYQQQgghVqAgihBCCCHEChREEUIIIYRYgYIoQlqhsLAQPB4P27dvb++mGDh48CCGDx8OBwcH8Hg8VFRUtHeTTNIfvzVr1rR3U9qURqPB4sWL0bdvX/D5fERFRbV3k2wuLS0NPB4Pe/bsae+mEHLLUBBFOoTt27eDx+MZvMRiMUJDQ3HgwIFb3h79F4L+1aVLF/Tv3x9PP/00Ll68aJNtZGRk4K233rJ5gHPt2jU89thjEIlE+Oijj/Dll1/CycnJZNni4mKEh4fDxcUFQ4YMwb59+4zKpKSkQCwWQ6FQWNSO7OxsPPnkk+jbty/s7e3Ro0cP3H///fj888+h1Wqt2rfb1bZt27B69WrExsbiiy++wIIFC9p0exMnTjT6e9K/Bg0a1Kbbbq38/Hy88MIL6N+/PxwcHODi4oJx48Zhw4YNUKlU7d08QgwI27sBhDT09ttvw8fHB4wxlJSUYPv27ZgyZQr27dsHqVR6y9szb948BAYGor6+Hr///ju2bNmC1NRUnD59Gr169WpV3RkZGVi+fDlmzpyJbt262abBAE6cOIHKykqsWLEC999/f7NlZ8yYgeLiYrz33ns4fvw4Hn30UZw7dw4SiQQAUFtbi1dffRXvvPMOXF1dzW7DZ599hhdffBEeHh546qmnMGDAAFRWVuLw4cOYPXs25HI5EhISWrObt5UjR46gd+/eWLdu3S3bZp8+fZCUlGSUbsl5vNVSU1Px6KOPwt7eHk8//TT8/f1RV1eHX375BXFxccjNzcWWLVvau5mEcCiIIh1KWFgYRo4cyS3Pnj0bHh4e2LlzZ7sEUSEhIYiNjQUAPPPMM7jrrrswb948fPHFF4iPj7/l7TFHaWkpALQYmKlUKhw5cgRpaWkYP348XnzxRWRkZOCHH37ACy+8AABYs2YNXF1d8eyzz5q9/V9//RUvvvgixo4di/3796Nr165c3vz583Hy5Enk5ORYvmO3sdLSUpsGyjqdDnV1dXBwcGiyjKurK5588kmbbbOtFRQUYNq0afD29saRI0fg5eXF5b300kvIy8tDamqqTbZVXV1tsneWMYba2lqIRCKbbIfc+eh2HunQunXrBpFIBKHQMN6vrq7GokWLuFtFAwcOxJo1a8AYA3AzQBg0aBAGDRpkcAvg+vXr8PLyQlBQkFW3lCZNmgTg5gd+c44cOYKQkBA4OTmhW7duiIyMxNmzZ7n8t956C3FxcQAAHx8f7lZLYWFhs/V+8803GDFiBEQiEdzc3PDkk0+iuLiYy584cSJmzJgBAAgMDASPx8PMmTNN1lVbWwvGGLp37w4A4PF46NatG2pqagDcvNX37rvvYsOGDeDzzf+oWL58OXg8Hr766iuDAEpv5MiRJtu0ZcsW+Pr6wt7eHoGBgThx4oRB/l9//YWZM2dyt3k8PT0xa9YsXLt2zaDcW2+9BR6Ph7y8PK6Xz9XVFc888wy3b3oqlQrz5s2Dm5sbunbtiocffhjFxcXg8Xh46623DMoWFxdj1qxZ8PDwgL29PYYOHYpt27Y1eyz0Y76OHj2K3Nxc7jynpaUBaPk61uPxeHj55Zfx1VdfYejQobC3t8fBgweb3bY5Ll26hDlz5mDgwIEQiUTo2bMnHn30UZPXYUVFBRYsWACJRAJ7e3v06dMHTz/9NMrLyw3K6XQ6rFy5En369IGDgwPuu+8+5OXltdiWVatWoaqqClu3bjUIoPT8/PzwyiuvAGh+LGLjc6e/Hs6cOYMnnngC3bt3R3BwMABAIpFAKpXihx9+wMiRIyESifDJJ59w+zt//nzu3Pj5+eG9996DTqfj6m44pq+l6xcAzp07h8ceewzu7u4QiUQYOHAgli5dCgA4evQoeDwevv32W6P1vv76a/B4PGRmZrZ4HMmtRT1RpENRKBQoLy8HYwylpaXYuHEjqqqqDP5HzRjDww8/jKNHj2L27NkYPnw4fvjhB8TFxaG4uBjr1q2DSCTCF198gXHjxmHp0qV4//33Adz8H61CocD27dshEAgsbl9+fj4AoGfPnk2WOXToEMLCwtC/f3+89dZbUKlU2LhxI8aNG4fff/8dEokE0dHR+Pvvv7Fz506sW7cObm5uAAB3d/cm692+fTueeeYZBAYGIikpCSUlJdiwYQOOHz+OP/74A926dcPSpUsxcOBAbNmyhbs16uvra7K+7t27w9fXF4mJiUhMTERGRgays7OxceNGAMDixYsRFhaG8ePHm318ampqcPjwYYwfPx79+vUze72vv/4alZWVeOGFF8Dj8bBq1SpER0fj4sWL6NKlCwDgp59+wsWLF/HMM8/A09OTu7WTm5uLX3/9FTwez6DOxx57DD4+PkhKSsLvv/+Ozz77DGKxGO+99x5XZubMmfjvf/+Lp556CmPGjMGxY8cQHh5u1L6SkhKMGTOGC2bc3d1x4MABzJ49G0qlEvPnzze5X+7u7vjyyy+xcuVKVFVVcbfXBg8ebNZ13NCRI0fw3//+Fy+//DLc3Ny4W65N0Wq1RgEOAIhEIq4X5sSJE8jIyMC0adPQp08fFBYWYvPmzZg4cSLOnDkDR0dHAEBVVRVCQkJw9uxZzJo1C/feey/Ky8vx/fffo6ioiLt+AeDdd98Fn8/Hq6++CoVCgVWrVmH69On47bffmm3vvn370L9/fwQFBTVbzlqPPvooBgwYgMTERIMg9fz583j88cfxwgsv4LnnnsPAgQNRU1ODCRMmoLi4GC+88AL69euHjIwMxMfHQy6XY/369QZ1m3P9/vXXXwgJCUGXLl3w/PPPQyKRID8/H/v27cPKlSsxceJE9O3bF1999RUeeeQRg/q/+uor+Pr6YuzYsW1ybEgrMEI6gM8//5wBMHrZ29uz7du3G5Tdu3cvA8Deeecdg/TY2FjG4/FYXl4elxYfH8/4fD77+eef2TfffMMAsPXr17fYnqNHjzIAbNu2baysrIxduXKFpaamMolEwng8Hjtx4gRjjLGCggIGgH3++efcusOHD2disZhdu3aNS/vzzz8Zn89nTz/9NJe2evVqBoAVFBS02J66ujomFouZv78/U6lUXLpMJmMA2Jtvvsml6Y+lvo3NOXz4MOvevTt3vOfPn88YY+z48eNMJBKxwsLCFuto6M8//2QA2CuvvGJWef3x69mzJ7t+/TqX/t133zEAbN++fVxaTU2N0fo7d+5kANjPP//MpS1btowBYLNmzTIo+8gjj7CePXtyy6dOnTLYZ72ZM2cyAGzZsmVc2uzZs5mXlxcrLy83KDtt2jTm6upqsm0NTZgwgQ0dOtQgzZLrGADj8/ksNze32e003J6pvycA7IUXXuDKmWp3ZmYmA8D+7//+j0t78803GQCWkpJiVF6n0zHG/v2bGTx4MFOr1Vz+hg0bGAB2+vTpJturUCgYABYZGWnW/pn6u9NrfO7018Pjjz9uVNbb25sBYAcPHjRIX7FiBXNycmJ///23Qfprr73GBAIBu3z5skE7zLl+x48fz7p27couXbpkUKf++DF28/PK3t6eVVRUcGmlpaVMKBQa7BPpOOh2HulQPvroI/z000/46aefsGPHDoSGhuLZZ59FSkoKV2b//v0QCASYN2+ewbqLFi0CY8zgab633noLQ4cOxYwZMzBnzhxMmDDBaL3mzJo1C+7u7ujVqxfCw8NRXV2NL774wmDcVkNyuRzZ2dmYOXMmevTowaXffffdeOCBB7B//36zt93QyZMnUVpaijlz5hiMgwkPD8egQYOsHisyadIkXL58Gb/++isuX76MdevWQafTYd68eVi0aBG8vb2xefNmDBo0CAMHDsTHH3/cbH1KpRIATN7Ga87UqVO524rAzbFoAAyehGw4TqW2thbl5eUYM2YMAOD33383qvPFF180WA4JCcG1a9e4Nupvh82ZM8eg3Ny5cw2WGWNITk5GREQEGGMoLy/nXg899BAUCoXJ7bfEkusYACZMmIAhQ4aYXb9EIuH+lhq+GvaaNTym9fX1uHbtGvz8/NCtWzeDfUpOTsawYcOMekgAGPUAPvPMM7Czs+OWTZ3Lxqy9bizR+HrQ8/HxwUMPPWSQ9s033yAkJATdu3c3ON/3338/tFotfv75Z4PyLV2/ZWVl+PnnnzFr1iyjHtqGx+/pp5+GWq02mCZi9+7d0Gg0t9X4ts6EbueRDmXUqFEGAcrjjz+Oe+65By+//DKkUins7Oxw6dIl9OrVy+gDd/DgwQBujvPQs7Ozw7Zt2xAYGAgHBwd8/vnnRh/6zXnzzTcREhICgUAANzc3DB482Gh8VkP6bQ8cONAob/Dgwfjhhx+aHNTanObqHTRoEH755ReL6mvI2dkZo0eP5pY///xzXL16Fa+99hoOHTqEuLg47NixAzweD0888QQGDhyI0NBQk3W5uLgAACorKy1qQ+MvFv0X0o0bN7i069evY/ny5di1axc3eF7P1PQLzdXp4uKCS5cugc/nw8fHx6Ccn5+fwXJZWRkqKiqwZcuWJp8Ma9wec1hyHQMwamdLnJycWnw6U6VSISkpCZ9//jmKi4sNbnM1PKb5+fmIiYkxa7vmnMvGrL1uLNHU8TOVfuHCBfz1119N3l5vfL5b2md9MOXv799sGwcNGoTAwEB89dVXmD17NoCbt/LGjBljdF2SjoGCKNKh8fl8hIaGYsOGDbhw4QKGDh1qcR0//PADgJu9FxcuXLDoyyggIKDFL6I7iVKpxNKlS7FmzRo4OTlh586diI2N5SaHjI2NxVdffdVkEOXn5wehUIjTp09btN2mxqc1/FJ/7LHHkJGRgbi4OAwfPhzOzs7Q6XSYPHmywWBfS+o0h77uJ598khu039jdd99tUZ3WaIsnxubOnYvPP/8c8+fPx9ixY+Hq6goej4dp06aZPKbmsOa4u7i4oFevXmY/tdnUf4Sae1ikqeNnKl2n0+GBBx7A4sWLTa5z1113GSzb6loDbvZGvfLKKygqKoJarcavv/6KDz/80OJ6yK1BQRTp8DQaDYCbg1sBwNvbG4cOHUJlZaXB/+LPnTvH5ev99ddfePvtt/HMM88gOzsbzz77LE6fPt1mc+Xot33+/HmjvHPnzsHNzY3rhbKkR6xhvfonBPXOnz9vsM+toR+MPn36dADAlStXcM8993D5vXr1QnZ2dpPrOzo6YtKkSThy5Aj++ecf9O3b1ybtunHjBg4fPozly5fjzTff5NIvXLhgdZ3e3t7Q6XQoKCjAgAEDuPTGT5K5u7uja9eu0Gq1Ng2oLbmO28qePXswY8YMrF27lkurra01mgDW19e3zaelkEql2LJlCzIzM1scQK3v6Wnczsa9d9by9fVFVVWVzc53//79AcCsYzht2jQsXLgQO3fuhEqlQpcuXTB16lSbtIPYHo2JIh1afX09fvzxR9jZ2XG3OaZMmQKtVmv0v7N169aBx+MhLCyMW3fmzJno1asXNmzYgO3bt6OkpKRNZ4v28vLC8OHD8cUXXxh8wOfk5ODHH3/ElClTuDR9MGXOjOUjR46EWCzGxx9/DLVazaUfOHAAZ8+eNflEmaX+/vtvfPjhh9iwYQMX4Hl4eHBf6gBw9uxZeHp6NlvPsmXLwBjDU089xQW+DZ06dQpffPGFRW3T/0+/8f/sGz8lZQn9OJhNmzYZpOufTmy47ZiYGCQnJ5v8EiwrK7Nq++Zex21JIBAYHdONGzca9ejExMTgzz//NPn4vTW9LaYsXrwYTk5OePbZZ1FSUmKUn5+fjw0bNgC42XPl5uZmNDap8bm01mOPPYbMzEyuF7uhiooK7j925nJ3d8f48eOxbds2XL582SCv8fFzc3NDWFgYduzYga+++gqTJ082ePqRdCzUE0U6lAMHDnBf2qWlpfj6669x4cIFvPbaa9y4iYiICISGhmLp0qUoLCzEsGHD8OOPP+K7777D/PnzuUf633nnHWRnZ+Pw4cPo2rUr7r77brz55pt4/fXXERsbaxDQ2NLq1asRFhaGsWPHYvbs2dwUB66urgbz14wYMQIAsHTpUkybNg1dunRBRESEyfFSXbp0wXvvvYdnnnkGEyZMwOOPP85NcSCRSGwSGC5YsABTp07FqFGjuLTY2FhERkZys4vv27cPMpms2XqCgoLw0UcfYc6cORg0aJDBjOVpaWn4/vvv8c4771jUNhcXF4wfPx6rVq1CfX09evfujR9//LHF+bqaM2LECMTExGD9+vW4du0aN8XB33//DcCwp/Ddd9/F0aNHMXr0aDz33HMYMmQIrl+/jt9//x2HDh3C9evXLd6+udextRQKBXbs2GEyTz9IWSqV4ssvv4SrqyuGDBmCzMxMHDp0yGgKj7i4OOzZswePPvooZs2ahREjRuD69ev4/vvv8fHHH2PYsGGtaitws/fn66+/xtSpUzF48GCDGcszMjLwzTffGMwv9uyzz+Ldd9/Fs88+i5EjR+Lnn3/mzl1rxcXF4fvvv4dUKsXMmTMxYsQIVFdX4/Tp09izZw8KCwstDmw++OADBAcH495778Xzzz8PHx8fFBYWIjU11ah39+mnn+Ym+V2xYoVN9om0kfZ4JJCQxkxNceDg4MCGDx/ONm/ebPAYMGOMVVZWsgULFrBevXqxLl26sAEDBrDVq1dz5U6dOsWEQiGbO3euwXoajYYFBgayXr16sRs3bjTZHv3j2t98802z7W7qUetDhw6xcePGMZFIxFxcXFhERAQ7c+aM0forVqxgvXv3Znw+36zpDnbv3s3uueceZm9vz3r06MGmT5/OioqKDMpYMsWBXmpqKnN2dmZXrlwxyktKSmK9evViXl5e7L333jO7zlOnTrEnnniCO0fdu3dn9913H/viiy+YVqtljP17/FavXm20Pho9ql5UVMQeeeQR1q1bN+bq6soeffRRduXKlSYfaS8rKzOoT39cGh7j6upq9tJLL7EePXowZ2dnFhUVxc6fP88AsHfffddg/ZKSEvbSSy+xvn37si5dujBPT0923333sS1btrR4LExNccBYy9dxw2Px0ksvtbidhttr/PfU8KV348YN9swzzzA3Nzfm7OzMHnroIXbu3Dnm7e3NZsyYYVDntWvX2Msvv8x69+7N7OzsWJ8+fdiMGTO4aR+a+ptpbjoCU/7++2/23HPPMYlEwuzs7FjXrl3ZuHHj2MaNG1ltbS1Xrqamhs2ePZu5urqyrl27sscee4yVlpaafT0wdnOKg/DwcJPtqKysZPHx8czPz4/Z2dkxNzc3FhQUxNasWcPq6uoM9s2c65cxxnJycrhr2MHBgQ0cOJC98cYbRuuq1WrWvXt35urqajClCel4eIzZqC+WEELuANnZ2bjnnnuwY8cObmwYIbeSRqNBr169EBERga1bt7Z3c0gzaEwUIaTTaviTQHrr168Hn8+3aKZ2Qmxp7969KCsrw9NPP93eTSEtoDFRhJBOa9WqVTh16hRCQ0MhFApx4MABHDhwAM8//7zNniwkxFy//fYb/vrrL6xYsQL33HMPJkyY0N5NIi2g23mEkE7rp59+wvLly3HmzBlUVVWhX79+eOqpp7B06dJmJ1UlpC3MnDkTO3bswPDhw7F9+/YWJ+ck7Y+CKEIIIYQQK9CYKEIIIYQQK1AQRQghhBBiBbrp3wSdTocrV66ga9euFv08ByGEEEJuX4wxVFZWolevXuDzm+9roiCqCVeuXKGncwghhJBO6p9//kGfPn2aLUNBVBP0Pwj6zz//cD83QgghhJA7m1KpRN++fQ1+GLwpFEQ1QX8Lz8XFhYIoQgghpJMxZygPDSwnhBBCCLECBVGEEEIIIVag23mEENLJFJRXo1qtaZO6neyF8HFzapO6CeloKIgihJBOpKC8GqFr0swqyxMq0aXbb6ivGA2mMX9s6NFXJ1IgRToFCqIIIR2eVqtFeno65HI5vLy8EBISAoFA0G7tKC4uRllZGdzd3eHp6YmamhosX74c5eXlYIxBKBSiqqoKPB4PLi4uuO+++/D+++9DJBLd8jY3pu+BWj91OPzEzs2WLVCeR0JWItaGPwEfl4Et1p1XWoX5u7PbrJfLEnV1dVi/fj22bduGixcvAgDs7e3Ru3dvdOnSBd7e3lCpVABuPo09duxY8Pl8FBYWQqfToVu3bhAKhZg4cSJCQkKQkZFhcP0BMLgmg4KCkJaWhi+//BJVVVUIDg7G3LlzYWdnZ7J95lzTHeW6J81gHcDRo0cZgCZfEydONCj/4IMPMj6fz7KysozqmjFjBreeUChkEomExcXFMZVKZVGbFAoFA8AUCkWr9o0Q0jrJyclMIpEYfCZIJBKWnJzc7u2w9CWVSm9pm005XVTBvJfI2OmiihbL5pbnMv/t/iy3PNfmdbeluLi4Vp2nxi8+n2+w7O7uzsRisUEaj8czuV5cXJxR+8y5pjvKdd8ZWfL93yEGlgcFBUEulxu9PvnkE/B4PMyZM4cre/nyZWRkZODll1/Gtm3bTNY3efJkyOVyXLx4EevWrcMnn3yCZcuW3ardIYTYSEpKCmJjYxEQEIDMzExUVlYiMzMTAQEBiI2NRUpKyi1th5ubGwAgLCwM//nPfyyuRyaTISoqysatIw0tXrwYq1evblUd3bp1Q/fu3bllnU4HANixYweSkpJQVlaG0tJSJCUlYceOHQBuznINALNnz4ZMJsPdd98NnU6H1atXY/HixVxd5lzTHeW6J2Zo+5jOOmfOnGFdu3ZlS5cuNUh/66232LRp09jZs2eZq6srq6mpMcifMWMGi4yMNEiLjo5m99xzj0Xbp54oQtqXRqNhEomERUREMK1Wa5Cn1WpZREQE8/HxYRqN5pa0QyqVMm9vbxYREcHq6upYv379muy5aNgrIRQKjfIbf27dSndyT5RarTbZI8Tj8Yx6k5p78fl8plQquXWmTJnCHB0dmbe3N3ctSKVSJpFIWL9+/RiPx2NisZhJpVLumtRqtSw8PJwJBAImFAqZWq02+5rWX2fted13ZpZ8/3fIMVEVFRWIjIzExIkTsWLFCi6dMYbPP/8cH330EQYNGgQ/Pz/s2bMHTz31VJN15eTkICMjA97e3s1uU61WQ61Wc8tKpbL1O0IIsVp6ejoKCwuxc+dOo9+v4vP5iI+PR1BQENLT0zFx4sQ2b0dcXBxkMhl27dqF48eP4/LlywCAfv36ce/1nnzySXz55ZcAAG9vb+Tn5xvkz/rPPCxduabN2tycvNIqAEBtvdbmdevr1G/jVvvy001cjxAAODo5oaa6GncNHITz584albe3t4darYabmxvKy8u5dJ1Oh/j4eK4HasCAAdi/fz8uXboEANi5cycYYwgKCuLWWblyJYYOHWpwTS5duhSpqakAgE2bNmH48OFmXdMAsGvXrna97ol5OlwQpdPp8MQTT0AoFOKrr74ymDH00KFDqKmpwUMPPQTg5gfV1q1bjYIomUwGZ2dnaDQaqNVq8Pl8fPjhh81uNykpCcuXL7f9DhFCrCKXywEA/v7+JvP16fpybd0O/aBwf39/7Nu3j8v38PAwCqIWLVrEBVGmfsB077FTyNz4S1s12SxFN1QYKbF9nQAwf3e2bSs20/WfMgyWa5gdgGr0dPcETARR+iDJ1GDtCxcucO/1A9D1/P39DYI1AJBKpXByuvlEoqlrNz8/Hx4eHkbpjes19d5Umba+7ol5OlwQlZCQgMzMTGRlZRn9bs22bdswdepUCIU3m/34448jLi4O+fn58PX15cqFhoZi8+bNqK6uxrp16yAUChETE9PsduPj47Fw4UJuWf/bOYSQ9uHl5QXgZm/ymDFjjPJzcnIMyrV1O/RfpDk5OQbbLCkpMVpn7dq13Hv9F3VDURNGYOncYFs31Sz6J+j6dLf9k4L6Os158q8tfOnwF1b9LuOWHXl1qAFwreyqyfL6AFerNe6VGzBgAH788UcAMHqqMicnxyiIkslkGDp0KADDa1fP19fX7GvanDJtfd0TM7XtnUXL7Ny5kwkEAnbw4EGjvGvXrjF7e3vG5/OZQCDgXgBYQkICV67xmCitVsv8/f3ZZ599ZlFbaEwUIe2LxkS1DRoTRWOiSPMs+f7vMEHUH3/8wRwdHdnq1atN5n/wwQfM19eXnT592uC1du1a1qtXL+6CMjWw/Ouvv2aenp4WfXBREEVI+0tOTmY8Ho9FRESwjIwMplQqWUZGBouIiGA8Hu+WPe6tb8fIkSMZABYWFsZefPFFqx6Xb/z5dKvdyUEUY7aZ3sDV1ZV169bNKH3Hjh0sMTGRW05MTGQ7duwwKDNr1iz23XffsYCAAC6t4TQH5lzTHeW676xuuyCqrKyMeXt7sylTpjC5XG70Ki0tZcOGDWNLliwxWreiooLZ2dkxmUzGGDMdRNXX17PevXs3GaCZQkEUIR2DqflyfHx8aJ4oK93pQRRjbT9PlFgstvk8UY2v6Y5y3XdGlnz/8xhrdGO3HXzxxReYOXNmk/nOzs6oqqpCVlYWAgMDjfKnTJkCBwcHpKSkYObMmaioqMDevXsNyrz77rt4//33UVBQwA3+a45SqYSrqysUCgVcXMz/uQNCiO11lJmb74QZy08UXsejH2fi3egA+Pd2bbbszRnLZyNx1FaLZiyXzQ1use62RjOWE2tZ8v3fIYKojoiCKELInWhX1mW8lnLarLL023mkM7Lk+7/DPZ1HCCGk7Tw41BMA4Ct2hqiLOb0aUyyq38leSAEU6TQoiCKEkE6kh5Mdpo3q197NIOSO0CF+O48QQggh5HZDQRQhhBBCiBUoiCKEEEIIsQIFUYQQQgghVqAgihBCCCHEChREEUIIIYRYgYIoQgghhBArUBBFCCGEEGIFmmyTEEKIgYLyalSrNSbzaEZyQv5FQRQhhBBOQXk1Qtekccumfj+PfhuPkJsoiCKEkA5Eq9Xi8OHD+PLLL1FVVYXg4GDMmTMHGRkZSEtLg06nQ9euXXH48GFcv34dXbp0QUVFBeRyOXQ6HWpra6HRGPci8Xg8/P333/Dz82t2+/oeqPVTh8NP7IwC5XkkZCVibfgT0Nb2xvzd2U32UjVUVVWFqKgoHDlyBE39zn2XLl0wduxYjB07Ft27d8fp06dRVVUFLy8vBAUFoVevXgCA0tJSeHl5ISQkBAKB6d/702q1SE9Ph1wub7EsITbDOgAAzb6WLVvGCgoKGAD2xx9/GK0/YcIE9sorrxgsN1xfLBaz2NhYVlhYaHabFAoFA8AUCoUN9pAQQlqWnJzMXFxcWvxMbM2Lx+M124bTRRXMe4mMnS6qYIwxlluey/y3+7Pc8lyjvKYEBga2SdslEglLTk42edwkEolZZQlpiSXf/x1iYLlcLude69evh4uLi0Haq6++anGdzz33HORyOa5cuYLvvvsO//zzD5588sk2aD0hhLReSkoKYmJioFQq0aNHD2zcuBHx8fE23w5jDHx+2330jxo1CidOnGhVHd26dePe9+7dGzweD0lJSQgICEBsbCxSUlK4/JSUFMTGxiIgIACZmZmorKxEZmamybKE2FqHuJ3n6enJvXd1dQWPxzNIA4Dy8nKL6nR0dOTq8PLywssvv4wXXnih9Y0lhBAb02q1WLhwIXg8HsRiMYqKisDj8eDr6wsHBwd07doVZWVlAACBQADGGHQ6ndXbY4whLy+vxVt7lqqqqmp1ACUSiVBVVQU3Nzdcv34dJSUlmDJlCrZs2YLz588jJiYGr776KiIjIwEAixYtglQqxd69e7ngcMyYMdi7dy+ioqK4snRrj7SFDtET1dauX7+O//73vxg9enSTZdRqNZRKpcGLEEJuhfT0dFy6dAmMMbzzzjsQCoVcWm1tLZ5++mmubP/+/VsVQOkNGTIEOcUKo1deaRUAoLZea7SOPi2vtMrkug/HTm11u1QqFTQaDWbMmAGdTgeNRgNfX18UFBTg+PHjiI+PR0FBAdLT05Geno7CwkIkJCQY9a7x+XyDsoS0hQ7RE2WJoKAgoz8WlUqF4cOHG6Rt2rQJn332GRhjqKmpwV133YUffvihyXqTkpKwfPnytmgyIYQ0Sy6Xc++lUqlRWv/+/bn3PB7PJtusr6+HdOMvTeYX3VBhpMQ4DQDm7842uc6VU7k2aRtguM+1tbUAbh4TU8fH39/fZB369IZlCbGl2y6I2r17NwYPHmyQNn36dKNy06dPx9KlSwEAJSUlSExMxIMPPohTp06ha9euRuXj4+OxcOFCblmpVKJv3742bj0hhBjz8vLi3stkMjz77LMGaRcvXuTesyaedLNUly5dIJsbbJSeV1qF+buz0ae7yChPn6Z/cq+xedlDcfSHSzZpX8N9dnBwAHDzOOXk5HDv9XJycjBmzBijOkyVJcSWbrsgqm/fvkb38UUi4z92V1dXrpyfnx+2bt0KLy8v7N69G88++6xReXt7e9jb27dNowkhpBkhISHw9vbG5cuX8frrr2PmzJlcWklJCf7v//6PK3vx4kXw+fxW39I7c+YM/Hq7Npnv0MV4DJE+zU/sDH8T636/Z7fJ/6RaQiQSob6+Hl988QX4fD74fD7y8/Ph4+ODcePGISYmBj4+PggJCQEASCQSJCYmGoyJAgCdToekpCSDsoTYWqcYEwWAG1SoUqnauSWEEGJIIBDg/fffB2MMJSUlEIvF+Oijj/D444+jtraWG1QO3ByE3toAisfj2XxQOQA4OzsjMDCwVXWoVCo4OzujvLwcOp0OHh4e2L9/P5577jnExMRAJpNhzZo1EAgEEAgEWLt2LWQyGaKiogyezouKijIoS0hbuO16osxVU1ODq1evArh5O2/FihVwcHDAgw8+2M4tI4QQY9HR0UhOTsYzzzyDGzdu4JVXXmmT7fB4PJsMTG9KVlZWq6c5qKio4N4XFxcDABISEuDj44M9e/YgOjqay4+OjsaePXuwaNEiBAUFcemmyhJia3dsEPXpp5/i008/BQB0794dd999N/bv34+BAwe2c8sIIcS06OhoREZGtuuM5ar/PYGXU6wAABQobz6tl19aBW1tlVn7kZWVdUtnLNcfN5qxnNxqPGarUYp3GKVSCVdXVygUCri4uLR3cwgh5JbYlXUZr6Wc5pbpt/NIZ2PJ9/8d2xNFCCHEcg8OvTlJsa/YGSJucPkULt/JXkgBFCH/Q0EUIYQQTg8nO0wb1a+9m0HIbaHTPJ1HCCGEEGJLFEQRQgghhFiBgihCCCGEECtQEEUIIYQQYgUKogghhBBCrEBBFCGEEEKIFSiIIoQQQgixAgVRhBBCCCFWoMk2CSGEGCgor0a12vj39wCasZyQhiiIIoQQwikor0bomjQApn83D6DfziNEj4IoQgjpgLRaLdLT0yGXy+Hl5YWQkBAAQHp6OoqLi3H16lWUlpbi5MmTuHr1KhhjuHHjBlQqFerq6mBnZwcHBwcolUqoVCqu3nvuuQdHjx6Fq6urye3qe6DWTx0OgUMxErISsTb8Cfi4DEReaRXm785uspcKABQKBe6//36cPHnSIJ3H4wEA+Hw+nJycEBwcjPvuuw8vv/wy7OzsoNVqkZaWhrS0NADAxIkTMXHiRAgEgsabIKTjYB1AaWkpe/HFF1nfvn2ZnZ0d8/DwYA8++CD75ZdfuDK///47e+yxx5inpyezs7Nj/fr1Y+Hh4ez7779nOp2OMcZYQUEBA8C9nJ2d2ZAhQ9icOXPY33//bVGbFAoFA8AUCoVN95UQQlqSnJzMJBKJweeZWCxm7u7uBmmtefn6+prc9umiCua9RMZOF1Ww3PJc5r/dn+WW5xrlmeLr62txO/h8PouMjGRisdgoz93dnSUnJ7fZcSbEFEu+/zvEwPKYmBj88ccf+OKLL/D333/j+++/x8SJE3Ht2jUAwHfffYcxY8agqqoKX3zxBc6ePYuDBw/ikUceweuvvw6FQmFQ36FDhyCXy/Hnn38iMTERZ8+exbBhw3D48OH22D1CCDFbSkoKYmNjERAQgMzMTFRWViIpKQmlpaUoKyuz2Xby8/Ph5+dns/r8/PyQn59v8Xo6nQ7fffcdSktLERwcjMOHD+Pw4cMIDg5GWVkZYmJikJKSYrN2EmJTtyCoa9aNGzcYAJaWlmYyv6qqivXs2ZM98sgjTdbRuCfqjz/+MMjXarVs4sSJzNvbm2k0GrPaRT1RhJBbTaPRMIlEwiIiIphWqzVICw8PZyKRyKCnhsfjtbpHqqLCsFfJmp6oiooKm/SOqVQqrk6tVsukUilzdHRkEonE7M9uQlrrtuqJcnZ2hrOzM/bu3Qu1Wm2U/+OPP+LatWtYvHhxk3Xo77U3hc/n45VXXsGlS5dw6tQpk2XUajWUSqXBixBCbqX09HQUFhYiISEBfD7fIG3KlCkGY5sAgDHW6m1OfOAh5BQruFdeaRUAoLZea1RWn5ZXWmWwzsQHHmp1OwDg448/5t7z+XwkJCSgpqYGhYWFSE9Pt8k2CLGldh9YLhQKsX37djz33HP4+OOPce+992LChAmYNm0a7r77bvz9998AgIEDB3LrnDhxAqGhodzyrl27IJVKm93OoEGDAACFhYUYNWqUUX5SUhKWL19ui10ihBCryOVyAIC/v79RmkgkapNtnj6XD+nGX4zSi26ocFdX4zQAmL872zD9nOW38UxpfDvQ1HEgpCNp9yAKuDkmKjw8HOnp6fj1119x4MABrFq1Cp999pnJ8nfffTeys7MBAAMGDIBG0/STInr6/7E11WsVHx+PhQsXcstKpRJ9+/a1cE8IIcR6Xl5eAICcnByMGTPGIK1xL5StBAzyxZdzg7ll/RN4fbqLABiON72ZdvPJPT+xM5f+1BFfZJ8ob3VbfH19DZZzcnK49/rjQEhH0u638/QcHBzwwAMP4I033kBGRgZmzpyJZcuWYcCAAQCA8+fPc2Xt7e3h5+dn0aDIs2fPAgB8fHxM5tvb28PFxcXgRQght1JISAgkEgkSExOh0+kM0vbv32/UG9XSUAZzpP30A/x7u3IvfXDk0MV4agF9mp/Y2WCdtJ9+aHU7AODFF1/k3ut0OiQmJsLR0RESiYSb4oGQjqTDBFGNDRkyBNXV1XjwwQfRo0cPvPfee1bXpdPp8MEHH8DHxwf33HOPDVtJCCG2IxAIsHbtWshkMkRFRSEzMxM1NTV4/vnnkZqaavMxUb6+vk3OF2UJV1dXo14ka9x///04dOgQDh06hAkTJkAmk6GmpgZr166l+aJIh9Tut/OuXbuGRx99FLNmzcLdd9+Nrl274uTJk1i1ahUiIyPh7OyMzz77DFOnTkV4eDjmzZuHAQMGoKqqCgcPHgQAoz+ua9eu4erVq6ipqUFOTg7Wr1+PrKwspKam0h8iIaRDi46Oxp49e7Bo0SIEBQVx6WKxGIwxm01z4Ovri7y8PJvUBQB5eXlWTXPA5/MRERGBzMxMHD9+HA888ACXJxaLsXnzZkRHR9usnYTYUrsHUc7Ozhg9ejTWrVuH/Px81NfXo2/fvnjuueeQkJAAAHjkkUeQkZGB9957D08//TSuX78OV1dXjBw50uSg8vvvvx8A4OjoCG9vb4SGhmLLli02nROFEELaSnR0NCIjI9tlxnLV/57AyylWwKnrzSf18kuroKv998m9puTl5dGM5aRT4TFbPCN7B1IqlXB1dYVCoaDxUYSQTmNX1mW8lnIaAP12HumcLPn+b/eeKEIIIR3Hg0M9AQC+YmeIuggATDHId7IXUgBFyP9QEEUIIYTTw8kO00b1a+9mEHJb6LBP5xFCCCGEdGQURBFCCCGEWIGCKEIIIYQQK1AQRQghhBBiBQqiCCGEEEKsQEEUIYQQQogVKIgihBBCCLECBVGEEEIIIVagyTYJIaQTKyivRrVa06o6aBZz0llREEUIIZ1UQXk1QtekNZnf1G/nmUK/p0c6IwqiCCF3LK1Wi/T0dMjlcnh5eSEkJAQCgaDVZc1dX6vV4sMPP0R6ejq6du2Kxx57DN999x1+/vlnqNVqCAQCVFRUQK1WQyQSYfDgwVCpVMjPz4dQKERUVBQ2bNgAkUhkq0NiQN8DtX7qcPiJnY3yC5TnkZCViLXhT8DHZaDJOvJKqzB/d3are7OaotVqsXfvXrzwwgu4fv06GGMG+d7e3ujZsyfGjx+PH374AcXFxXB0dERYWBhqa2tRXV0NAPDy8oJQKMTo0aPRt29f7vxqtVqkpaUhLS0NADBx4kRMnDgRAIzSg4KC8MknnyA/Px8SiQQBAQEoKytDWVkZevbsidLSUly/fh18Pp+rR7+N1lxbndVtcdxYO5oxYwYDwF544QWjvDlz5jAAbMaMGUyj0bCxY8eyRx55xKBMRUUF69OnD0tISGCMMVZQUMAAMHd3d6ZUKg3KDhs2jC1btszstikUCgaAKRQKy3eMENLukpOTmUQiYQC4l0QiYcnJya0qa+62XF1dGY/HM0iz9hUZGWnjo3PT6aIK5r1Exk4XVZjMzy3PZf7b/Vluea7VdbRGcnKyzY5h45dEImFxcXHM3d3dKM/FxYW5uLi0ehtisZjFxcW16trqrFr7N9kalnz/t/vA8r59+2LXrl1QqVRcWm1tLb7++mv063fzRzAFAgG2b9+OgwcP4quvvuLKzZ07Fz169MCyZcsM6qysrMSaNWtuzQ4QQjqclJQUxMbGIiAgAJmZmaisrERmZiYCAgIQGxuLlJQUq8qau63p06dDoVCAMQZvb2+MHj26Vfvz3XffISoqqlV13G5SUlIQExNj1PPUWvpePZVKhdWrV6OsrAzBwcE4fPgwDh8+jEGDBkGpVEKpVGLw4ME4fPgwHnvsMaN6vL29TdZ/1113gcfjYdCgQSgtLcXq1avh5uZm1bXVWbX2b/KWavOQrhkzZsxgkZGRzN/fn+3YsYNL/+qrr9jdd9/NIiMj2YwZM7j0DRs2sO7du7MrV66wvXv3si5durDs7GwuX98TFRcXx5ydnVlJSQmXRz1RhHQOGo2GSSQSFhERwbRarUGeVqtlERERzMfHh2k0GovKmrsttVrNBAIB4/F4zMPDw+B/063tVampqbHpseqoPVEajYb17t3bpj1PYWFhTCAQMIFAwPU+8Xg8JhKJWF1dHbddb29vxufzGZ/PZxKJhNXU1DChUMg8PDxYWFgYt45EImHh4eHcOQ0LC2NSqZRJJBImlUqZj48Pc3BwYAKBgEkkEoNryJxrq7Nq7d+kLVjy/d8hxkTNmjULn3/+OaZPnw4A2LZtG5555hnuXrTe3Llz8e233+Kpp57C6dOn8eabb2LYsGFG9T3++OP46aef8Pbbb+PDDz80qw1qtRpqtZpbViqV1u8QIaTdpKeno7CwEDt37gSfb9jZzufzER8fj6CgIKSnpwOA2WX142Ra2tamTZug1WoBACtWrMDzzz/PlWcmelX69OmDoqKiJvcnYPgInM4+BQCY9Z95WLrSdr3seaVVAIDaeq3VdejX1ddlCycy0lFcXNzqejw8PFBSUgIAGDBgAA4cOAAAGDp0KNLS0sAYg0qlwvHjxzFx4kSkp6fj0qVL3PqFhYWIi4uDRqPBO++8A7VajQMHDkClUnF5qampAG72QE2dOhVBQUF49dVXIZPJDOppeA2Zc211Vpb8/XaE49Yhgqgnn3wS8fHx3MV7/Phx7Nq1yyiI4vF42Lx5MwYPHoyAgAC89tprJuvj8Xh49913ERERgQULFsDX17fFNiQlJWH58uWt3hdCSPuSy+UAAH9/f5P5+nR9OUvLtrSt/Px87r1UKm2xvfb29s3mX4QH937vsVPI3PhLi3VaquiGCiMl1q8LAPN3Z9usPdVnfrZJPffccw8OHjwI4OYwET2dTmdQTn8eTZ3nCxcuALh5Lvfv32+Q13DAv0ql4q4DUw8CNK67pWurs7Lm77c9dYggyt3dHeHh4di+fTsYYwgPD4ebm5vJstu2bYOjoyMKCgpQVFQEiURistxDDz2E4OBgvPHGG/j6669bbEN8fDwWLlzILSuVSvTt29eq/SGEtB8vLy8AQE5ODsaMGWOUn5OTY1DO0rItbavhf9oa9kY0pWEPuCn9UYLT/3sfNWEEls4NbrFOc+mfrOvT3fqn//TrNvWEnzVOZDDM2re61fX88ccf3HsHBwfufeMeDv15NHWeBwwYgB9//BEymczoXDUcyysSibjrpWF6423otXRtdVbW/P22qza7qWgG/ZgoxhiTyWRMIpEwiUTCUlNTGWPMaEzU8ePHmVAoZEeOHGGTJk1ikyZNYjqdjsvXj4n6448/GGOM/fbbb4zP57Pff/+dxkQR0knQmCjz0ZgoGhPV0dxuY6La/ek8vcmTJ6Ourg719fV46KGHjPJramowc+ZM/Oc//0FoaCi2bt2KrKwsfPzxx03WOWrUKERHRzd5248QcucRCARYu3YtZDIZoqKiDJ7uiYqKgkwmw5o1ayAQCCwqa+621Go1pk6dCsYYSkpKwBjjns5jrXjSLDIyss3mi+poBAIBPvjgA5vWeeDAAWi1WtjZ2aGsrAweHh7cmKhJkybh0KFDOHr0KEQiEXQ6HXQ6HRwcHHD8+HE88sgjKCkpwYEDB7h1dDodUlNTuXN64MAByGQy2NnZITU1Ffb29qitrYVWq4WbmxuysrIsurY6q9b+Td5ybRbKmaFhTxRjN6O/hpFfw56oefPmMT8/P1ZdXc3lf/zxx8zZ2ZkVFBQwxox7ohhj7Pz580woFDIHBwfqiSKkEzE1z4yPj4/Z80Q1VdbcbdE8Ua3XlvNE+fj4tNs8UZZcW51Va/8mW+O2ezpPz8XF9M8KHDt2DB999BHS0tLg6OjIpb/wwgtISUnB7NmzcejQIZPr3nXXXZg1axa2bNnSJm0mhHRM0dHRiIyMNGvGY0vKWrKtjj5juep/T9blFCtM5hcobz5xl19aBV2t6TK2fCqvsejoaNTX17fpjOVJSUltPmN5UlJSx595u4Np7d/krcJjja9IAuDmwHJXV1coFIomgztCCLmd7cq6jNdSTjeZT7+dRzojS77/O1RPFCGEkFvnwaGeAABfsTNEXZr6H/6UFutxshdSAEU6JQqiCCGkk+rhZIdpo/q1dzMIuW11mKfzCCGEEEJuJxREEUIIIYRYgYIoQgghhBArUBBFCCGEEGIFCqIIIYQQQqxAQRQhhBBCiBUoiCKEEEIIsQIFUYQQQgghVqDJNgkhhKCgvBrVao1F69BM5aSzoyCKEEI6uYLyaoSuSTOZ19Lv59Fv5pHOjIIoQgixgFarbfaX5VvKN1VfWloaDh8+jBMnTqCmpgZ9+/aFq6srhEIh+vXrh3PnzkEmk6G2thZ2dnYQCoUoLy8HALi7uyM7Oxuenp5W75O+B2r91OHwEzsb5BUozyMhKxFrw5+Aj8tALj2vtArzd2db3HtlSlVVFaZNm4bDhw+jrq4O9vb2uOuuu/DII4/g2LFjuHDhAgQCAbp3745+/fph/PjxmDt3Luzs7JqtV38uiouLUVZWBnd3d/Tu3bvFc0KI2Vg7mjFjBouMjDRI++abb5i9vT1bs2YNmzFjBgPAADChUMgkEgmLi4tjKpWKMcbYgQMHGAAml8sN6vD09GTe3t4GaQUFBQwAO3TokFltUygUDABTKBRW7x8h5M6SnJzMJBIJ97kEgEkkEpacnGxWvqn6xGKxQXlrX46Ojlbv1+miCua9RMZOF1UY5eWW5zL/7f4stzzX7HUsERgYaNX+8vl8FhcX12S9ps6FOeeEEEu+/zvUwPLPPvsM06dPx+bNm7Fo0SIAwOTJkyGXy3Hx4kWsW7cOn3zyCZYtWwYACA4OhlAoRFpaGlfH2bNnoVKpcOPGDRQWFnLpR48ehb29PcaNG3crd4kQcodISUlBbGwsAgICkJmZicrKSmRmZiIgIACxsbFYvHhxs/kpKSkm6ystLeXSXF1drW5fTU0NnJxur9tqo0aNwokTJwzSzO0h0ul0WL16NRYvXmyUpz+2bm5u4PF4CAsLw6effoqwsDAAgJubm8lzQojFbkFQ16SGPVHvvfcec3BwYCkpKSbz9aKjo9k999zDLY8dO5a98MIL3PKmTZtYeHg4CwsLY59//jmX/vTTT7MJEyaY3TbqiSKE6Gk0GiaRSFhERATTarUGeVqtlkmlUiYUCplUKjWZHxERwXx8fJhGozGoTyQSMQCMx+OxKVOmMIFAwMRiMZs8eXKLvTBN5TXumTdHe/REVVZWGrV97NixrG/fvib3q0+fPiwsLMzoOAiFQqZWq7l69cdWKpUanTP9udDnNzwnhOjddj1RS5YswYoVKyCTyfDII480WS4nJwcZGRkG98FDQ0Nx9OhRbvno0aOYOHEiJkyYYJCelpaG0NDQJutWq9VQKpUGL0IIAYD09HQUFhYiISEBfL7hxyafz8fkyZOh0WgQFhZmMj8+Ph4FBQVIT083qE+lUgEAGGMYMGAAtFotVq5c2WyPUo8ePfDqq682me9/9zDkFCsseuWVVgEAauu1Zh8Tfdm80iqLt5dTrMDDsVON6hw7Lhj//POPye0VFRUhPDzcIE2n00Gj0WDTpk1cmv7YhoWFGZ0z/bkoLCzE5MmTDc4JIdZo94HlBw4cwHfffYfDhw9j0qRJRvkymQzOzs7QaDRQq9Xg8/n48MMPufzQ0FAkJiZygziPHTuGuLg4aDQabN68GQBw8eJFXL58udkgKikpCcuXL7f9DhJCbntyuRwA4O/vbzJfJBIZ/NuYfj19Pfp/G9IHVFKpFDt37myyLSNHjsTs2bOxatUqk/nXrt+AdOMvTa7fnKIbKoyUmF8WAObvzrZqW1dO5Rql1Wib/399U8c3Pz+fe68/tvqyjc+Zflmfb+pcEGKudg+i7r77bpSXl2PZsmUYNWoUnJ0NnwwJDQ3F5s2bUV1djXXr1kEoFCImJobLDwoKgp2dHdLS0jBs2DCoVCrce++90Ol0KCsrQ0FBAdLS0iASiTBmzJgm2xEfH4+FCxdyy0qlEn379rX9DhNCbjteXl4AbvaGm/oc0QdA+n8by8nJMahH/29D+i91mUyG7t27N9mWkydPYuvWrU3m9+zRHbK5wU3mm6J/0q5Pd9NBiin6sqae6DPHvOyhOPrDJYM0R4Gu2XWaOr6+vr7ce/2x1ZdtfM7050Kfb+pcEGKudg+ievfujT179iA0NBSTJ0/GgQMH0LVrVy7fyckJfn5+AIBt27Zh2LBh2Lp1K2bPng0AcHR0xKhRo3D06FFcv34dwcHBEAgEEAgECAoKwtGjR3H06FGMGzeu2cdh7e3tYW9v37Y7Swi5LYWEhEAikSAxMRF79+41uGWn0+lw8OBBCIVCHDhwAC+++KJRflJSEnx8fBASEmJQX0lJCVQqFXg8HvcY/9KlS3Hvvfc22Zbr169jzZo1Tebn/PUnPD2tG6Du0MX8x/71Zf3EzvDvbfn2vt+z2+CzHgAyj/+Cvn37mryl16dPH6Smphqk8fl88Pl8zJkzh0vTH9sDBw4YnTP9uZBIJDh48KDBOSHEGh1iTJS3tzeOHTuGq1evYvLkyaisrDRZjs/nIyEhAa+//rrB/0hCQ0ORlpaGtLQ0TJw4kUsfP3480tLScOzYsWZv5RFCSHMEAgHWrl0LmUyGqKgog6fvoqKikJqaigULFiA1NdVkvkwmw5o1a7gnz/T11dbWArg5Jmr//v1wdHREaWkpDh482Gx7dDrTPTaOjo6tmi/qVnJ2dkZgYKBBWmZmJq5cuWKyfFFREQ4cOGCQptPpsGDBAoP/IOuPbWpqKtzc3CCTySCVSrFlyxZIpVLs27cPbm5uSE1NNTgnhFilzYe5N6Px03f//PMP8/PzY2PHjmUKhcLk03n19fWsd+/ebPXq1VzakSNHGADWtWtX9uuvv3Lpx44dY127dmUAWEZGhkVto6fzCCGNmZp7yMfHp9l5ohrmm6qP5om69fNENXdOCLHk+5/HGGNtEp2ZYebMmaioqMDevXu5tOLiYoSGhqJnz57w8vKCTqczyAeAd999F++//z4KCgrg5OSE2tpadOvWDV26dMGNGzcgFN68S6lWq9GtWzcIhUKDdHMolUq4urpCoVDAxcX4pw4IIZ3TnThj+YnC63j040y8Gx1gdGvu5ozls5E4aqvJGctlc4Otup3XEM1YTjoSS77/2zWI6sgoiCKEdBa7si7jtZTTJvPot/NIZ2PJ93+7DywnhBDSvh4cerMXy1fsDJHJweVTTK7nZC+kAIp0ahREEUJIJ9fDyQ7TRvVr72YQctvpEE/nEUIIIYTcbiiIIoQQQgixAgVRhBBCCCFWoCCKEEIIIcQKFEQRQgghhFiBgihCCCGEECtQEEUIIYQQYgUKogghhBBCrECTbRJCCOEUlFejWq1psRzNVk4IBVGEEEL+p6C8GqFr0gzSmvvtPPrdPNLZURBFCOm06urq8OGHHyI9PR1du3bFU089hUmTJkEgMPX7cU2vN336dAiFQpSWlsLLywshISFcHVqtFunp6ZDL5VweABw+fBhffvklKisr4enpCVdXVxQXF0Oj0UAul6OwsBD19fWoqqpCbW0tNBoN7OzsoNPpUF9f32TbevXqhezsbLi7u1t8PPQ9UOunDoef2BkAUKA8j4SsRKwNfwI+LgMBAHmlVZi/O9usHitTqqqqEB4ejp9//tkg3dPTE3Z2dgb7V1FRAcYY7O3tYW9vDz6fj+7du6Nr166orq6Gh4cHAgMD4e7uDk9PT/Tu3RtBQUHIyMgwOOYtnVOtVou0tDSkpaUBACZOnIiJEye2uB7p5NhtYsaMGSwyMpJ7D4ABYF26dGG+vr5s+fLlrL6+ns2aNYv5+/sztVptsH5qairr0qULO3XqlFnbUygUDABTKBS23hVCSAcQFxfH+Hw+91mif7m6urLk5GSL12v4kkgkLDk5mSUnJzOJRGKQJxaLmUgkanZ9W7xcXV0tPianiyqY9xIZO11UwaXllucy/+3+LLc8t9ly5goMDGzzfRcKhSbPR1OSk5OZu7u7UT1isbjZ9cidyZLv/9t2YPnkyZMhl8tx4cIFLFq0CG+99RZWr16NdevWobKyEsuWLePKVlRU4LnnnsMbb7yBe++9tx1bTQjpCBYvXozVq1dDp9Nh2LBhkMlk2LhxI7p37w6FQoGYmBikpKS0uF58fDwAQCj8t1M/KSkJAQEBiI2NRUxMDAICApCZmYnKykokJSWhtLQUKpUKDg4ObbqPCoUC3bp1a9NtWGrUqFE4ceJEm2/HyckJPB4PO3bsQGZmJnc+TJ3TlJQUxMTEoKysDMHBwTh8+DAOHz6M4OBglJaWNrkeIQBu354o/Xu9Bx54gI0ZM4YxxtiRI0dYly5d2K+//sqVDwwMZPX19WZvj3qiCLkzqdVqJhAIGJ/PZ1KplGm1Wi6vvr6eicVixuPxmEQiYRqNpsn16urqmEQiYREREUytVhusp1KpmEgkYo6Ojqyuro4xxphGo2He3t6Mx+MxOzs7JhAImEgkYg4ODszBwaHNemVKS0vNPjZt2RNVWVnZZvvYo0cP7j2fz2cSiYRJpVLm4+PDNBoN02q1LCIiglvW058TkUhkdC1otVomlUqZo6Oj0XrkztYpeqIaE4lEqKurAwCEhoZizpw5mDFjBr755hv897//xf/93/8Z/G+xMbVaDaVSafAihNx5Nm3aBK1WC51Oh6VLl4LP//djUCgUYsWKFWCMobCwEOnp6U2ud/z4cRQWFiIhIQF2dnYG63388cdQqVSoqanB8ePHAQDp6em4dOkSGGOIiYmBVquFSqVCbW0tamtr22x/h48YiZxihVmvvNIqAEBtvbbZOvX5eaVVZtf9cOzUNtvHvn37cu91Oh0KCwsxefJkFBQUID09HXw+H/Hx8dyynv6cqFQqo2uBz+cjISEBNTU1RusRonfbDyxnjOHw4cP44YcfMHfuXC49KSkJBw8exLRp07B27VoMGjSo2XqSkpKwfPnytm4uIaSd5efnc+/9/f2N8qVSKfdeLpc3ud6+ffsM6mi4XsOy+joa1jVy5Ejs3LnT6n2wxJWrpZBu/MWidYpuqDBS0nw+AMzfnW1+O07lWtQGS6jVaqM0kUgE4N/jrj9PDc9Dw/emroWGaQ3LEqJ32wZRMpkMzs7OqK+vh06nwxNPPIG33nqLyxeJRHj11VexYMECvPLKKy3WFx8fj4ULF3LLSqXS4H83hJA7g6+vL/c+JycHY8aMMciXyWTcey8vrybX0+fp62i4XsOy+nIN6zp58mRrd8NsvTzFkM0NNqus/qm7Pt1FzZbT5zd8iq8l87KH4ugPl8wqayl7e3ujNJXqZqDX8Dw1XG783tS1oF+ncVlCOG18a9FmGo+Juv/++9mFCxfYpUuXmhzr9Pnnn1v1hApjNCaKkDsVjYlqGo2JojFRpJOMiXJycoKfnx/69evX7FgnQghpyM7ODgsXLoROp4NMJsM999yD77//Hh988AHEYjFKS0vBGMPatWsN5ghqvN7IkSMxbdo07Nu3D05OTtx6zz//PB577DHU1taipqYGMTExyMzMRE1NDV544QUwxlBXV4cuXbq0+ZgoV1dXq+aLagvOzs4IDAxsk7qvX7/OvdfpdLhx4wZSU1OxYsUKZGVlISoqCjKZDGvWrDE4pwKBAO+//z5UKhVkMhkmTJiAQ4cO4dChQxg/fjxkMhlUKpXReoToUfRBCOl0Vq1aBQBYu3Yt/vrrL0RGRnJ5rq6u2LZtG6Kjo1tc76+//gIAaDT/TjqZkJAAHx8f7NmzBwCwaNEiBAUFcflisRiVlZXc7aa24urqioqKijbdhqWysrJuyTQH1dXVYIzhySefBADufJg6p9HR0UhOTsaLL76IX375BQ888ACXJxaLsXnzZpPrEQLcRkGUTqejHidCiM2sWrUK77zzjsUzlptar7kZyyMjI2+bGctV/3vqLqdYwaUVKG8+sZdfWgVd7c10/VN81sjKyupwM5ZHR0cjMjKSZiwnFuMxxlh7N8IckydPhp+fHz788MNbsj2lUglXV1coFAq4uLi0vAIhhNzmdmVdxmsppw3S6LfzSGdjyfd/h+/auXHjBo4fP460tDS8+OKL7d0cQgi5Yz041BMA4Ct2hqhLwx6YKUZlneyFFECRTq/DB1GzZs3CiRMnsGjRIoNxC4QQQmyrh5Mdpo3q197NIOS20eGDqG+//ba9m0AIIYQQYuS2neKAEEIIIaQ9URBFCCGEEGIFCqIIIYQQQqxAQRQhhBBCiBUoiCKEEEIIsQIFUYQQQgghVqAgihBCCCHECh1+nihCCCG3XkF5NarVGqN0mqmckH9REEUIIcRAQXk1QtekATD923n0m3mE3ERBFCGEtDOtVov09HTI5XJ4eXkhJCQEAoHAZNm6ujps2rQJ+fn5kEgkCAgIwLVr1+Dm5obff/8d3377LXJzc6FSqaDVapvc5rhx43Dw4EE4Ozsb5el7oNZPHQ6BQzESshKxNvwJaGt7Y/7ubJM9VABw5swZDB06tMlt8vl8jBs3Dg8++CB++ukn/Pnnn9BqtfD19cWjjz6Kmpoa8Pl8hISEQKfT4auvvkJVVRWCg4Mxd+5c2NnZNXcYLTqOhNgE68BmzJjBIiMjufcAWFJSkkGZb7/9ljXcjaNHjzIA3MvNzY2FhYWxv/76y6JtKxQKBoApFIpW7wchhDQlOTmZSSQSg88tiUTCkpOTjcrGxcUxoVBoULa1r8DAQKPtnC6qYN5LZOx0UQXLLc9l/tv9WW55rkF6Y7Zsk6kXn89ncXFxNjmOhDTHku9/qwaWSyQSvP3227h8+bI1q1vNwcEB7733Hm7cuNFi2fPnz0Mul+OHH36AWq1GeHg46urqbkErCSHEPCkpKYiNjUVAQAAyMzNRWVmJzMxMBAQEIDY2FikpKVzZxYsXY/Xq1ejZsyf+85//AADuvvtuODg4tKoNJ06cwKhRo1pVB4/Ha9X6zYmPj8fdd98NnU6H1atXY/HixUZlLDmOhNiSVUHU/PnzkZKSgv79++OBBx7Arl27oFarbd02I/fffz88PT2RlJTUYlmxWAxPT0/ce++9mD9/Pv755x+cO3euzdtICCHm0Gq1WLRoEaRSKfbu3YsxY8bA2dkZY8aMwd69eyGVSvHqq69Cq9Wirq4O69atg4eHBy5duoQDBw4gIiICv/32G2pra1vdlhMnTqCqqsqqdc+cOdPq7ffs2dNgmcfjYcqUKXB0dMTOnTtx8uRJhIeHQyAQYN26dQb/IbbkOBJia1YHUdnZ2cjKysLgwYMxd+5ceHl54eWXX8bvv/9u6zZyBAIBEhMTsXHjRhQVFZm1jkKhwK5duwCg2fvparUaSqXS4EUIIW0lPT0dhYWFSEhIAJ9v+FHM5/MRHx+PgoICpKenY9OmTdBoNHjnnXeQmZnJrffxxx/brD0Px05FTrECOcUK5JXeDKhq6w0DD/1yXmkVVzYgIKDV2545c6bBMmMMU6ZMQU1NDQoLC3H8+HEsXboUWq0WGo0GmzZt4spachwJsbVWzRN177334oMPPsCVK1ewbNkyfPbZZwgMDMTw4cOxbds2MMZs1U7OI488guHDh2PZsmXNluvTpw+cnZ3RrVs3fP3113j44YcxaNCgJssnJSXB1dWVe/Xt29fWTSeEEI5cLgcA+Pv7m8zXp8vlcuTn5wMApFKpwXr6dFv45VQupBt/gXTjL5i/OxsAUHRDZVBGvzx/dzZXVqfTtXrb/fv3N0oTiUTce7lcbnCcGu63JceREFtrVRBVX1+P//73v3j44YexaNEijBw5Ep999hliYmKQkJCA6dOn26qdBt577z188cUXOHv2bJNl0tPTcerUKWzfvh133XVXi/9ji4+Ph0Kh4F7//POPrZtNCCEcLy8vAEBOTo7JfH26l5cXfH19AQAymcxgPX26LQSPGArZ3GDI5gZj/dThAIA+3UUGZfTL66cO58o27v2xxsWLF43SVKp/AzgvLy+D49Rwvy05joTYnDUj10+dOsVefvll1rNnT+bu7s4WLVrEzp49a1Dm9OnTzMHBwZrqOY2fztO/Z4yxKVOmsMjIyCafzrtx4waXtmrVKhYSEmLRtunpPEJIW9JoNEwikbCIiAim1WoN8rRaLYuIiGA+Pj5Mo9EwtVrNhEIh8/DwYLW1tdx6KpXKZk+/VVZWctu35Om83NzcVm+7Z8+eBss8Ho9NmTKFOTo6MolEwurq6lh4eDgTCARMKBQytVpt1XEkxBxt/nReYGAgLly4gM2bN6O4uBhr1qwxulXm4+ODadOmWVO9Wd59913s27cPmZmZLZZ96aWXkJOTg2+//bbN2kMIIZYQCARYu3YtZDIZoqKiDJ4qi4qKgkwmw5o1ayAQCGBnZ4cFCxagpKQE3t7emDx5Mvbt24fRo0e3+uk84OZnuqn5oswxZMiQVm//2rVrBsuMMezfvx81NTWYNm0aRo4cidTUVGi1WixYsMBgfKslx5EQm7MmSissLLRmNYs11xPFGGNPPfUUc3BwaLEnijHGFi9ezAICAphOpzNr29QTRQi5FUzNb+Tj40PzRNlgnqimjiMhzbHk+9+qGctLS0tx9epVjB492iD9t99+g0AgwMiRI62p1mJvv/02du/ebVbZl19+Ge+//z6++eYbPPbYY23cMkIIMU90dDQiIyPNmml71apVeOedd9p8xnLV/57CyylWwKnrzSf18kuroK1tehoExli7zlhuyXEkxFZ4jFn+CN2oUaOwePFixMbGGqSnpKTgvffew2+//WazBrYXpVIJV1dXKBQKuLi4tHdzCCHkltmVdRmvpZwGQL+dRzofS77/reqJOnPmDO69916j9HvuuccmE68RQghpPw8O9QQA+IqdIeoiADCFy3OyF1IARcj/WBVE2dvbo6SkxGhuD7lcDqGQftOYEEJuZz2c7DBtVL/2bgYhHZ5VT+c9+OCD3LxKehUVFUhISMADDzxgs8YRQgghhHRUVnUbrVmzBuPHj4e3tzfuueceAEB2djY8PDzw5Zdf2rSBhBBCCCEdkVVBVO/evfHXX3/hq6++wp9//gmRSIRnnnkGjz/+OLp06WLrNhJCCCGEdDhWD2BycnLC888/b8u2EEIIIYTcNqwOoi5cuICjR4+itLTU6Aco33zzzVY3jBBCCCGkI7MqiPr000/xn//8B25ubvD09ASPx+PyeDweBVGEEEIIueNZFUS98847WLlyJZYsWWLr9hBCCCGE3BasmuLgxo0bePTRR23dFkIIIYSQ24ZVPVGPPvoofvzxR7z44ou2bg8hhJAOoKC8GtVqjVE6zVhOyL+sCqL8/Pzwxhtv4Ndff0VAQIDRtAbz5s2zSeMIIYTcegXl1QhdkwaAfjuPkOZYFURt2bIFzs7OOHbsGI4dO2aQx+PxKIgihNxRtFot0tPTIZfL4eXlhZCQEAgEAoN0sVgMACgtLTUo07ietLQ0HDlyBJcvX0a/fv0wadIkTJw40WTZ9PR0FBcX4+rVqygvL8c///wDAOjTpw+uXbuG9PR0XLhwgXtCms/nQyAQoL6+vsV94vF4OHv2LAYOHGiUp++BWj91OAQOxUjISsTa8Cegre2N+buzTfZQAcD58+cxZMgQoye2G27T2dkZQqEQarUaNTU14PP56NatG5555hncf//9OHPmDPLz86HT6eDi4oIrV640e5waHqvG56c9mNOWjtRe0kqsg5oxYwaLjIzk3gNgAJhQKGRisZjdf//9bOvWrUyr1Rqs5+3tzZUViUTM39+fffrppxZvX6FQMABMoVDYYncIIbep5ORkJpFIuM8VAEwikbC4uDij9MZlkpOTDepxd3c3WVYsFhuVba5uW78aO11UwbyXyNjpogqWW57L/Lf7s9zyXIP0xm5FOxsfp+bOT+Nyt4I5belI7SWmWfL9b9XAcr26ujqcP38eGo3p/5XY0uTJkyGXy1FYWIgDBw4gNDQUr7zyCqRSqdH23377bcjlcuTk5ODJJ5/Ec889hwMHDrR5Gwkhd5aUlBTExsYiICAAmZmZqKysRGZmJtzc3LB69Wq4ubkhKSkJABAcHIzg4GDweDwkJSUhICAAsbGxSElJQUpKCmJiYlBWVgYAGDt2LDZu3IixY8cCuNl71bBsbGws3Nzcbtl+Npympj3Wb4r+B+179eoFwPA4AU2fn4bH/lYxpy0dqb3ERqyJ0qqrq9msWbOYQCBgAoGA5efnM8YYe/nll1lSUpI1VRpp3BOlf9/Q4cOHGQCDniZvb2+2bt06g3I9evRgCxYssGj71BNFSOem0WiYRCJhERERBj3e+nQPDw8mkUiYt7c3V0ar1bKIiAjm4+PD6urquPf9+vVjDg4OTCQSMalUytWn1WqZVCplIpGIOTo6MolEwiQSCZNKpaxfv35MJBIxkUjEHBwcWFhYWJv28pw7d47bR0t6os6dO9cm7RGJRKympoZ5eHgwgUDAwsPDmaOjIxOJRMzHx4ep1WqT50d/XPXHXqPRtPGV0vS10rAt+nPbEdpLmtfmPVHx8fH4888/kZaWBgcHBy79/vvvx+7du62p0iqTJk3CsGHDmozedTodkpOTcePGDdjZ2TVbl1qthlKpNHgRQjqv9PR0FBYWIiEhAXw+3yh9xYoVKCwsxKVLl7gyfD4f8fHxKCgowPHjx7n3ly9fRm1tLVQqFZYuXcrVx+fzkZCQAJVKhZqaGhQWFqKwsBBhYWG4fPkyVCoVVCoVamtrcdddd7Xp/g4dOhQ5xQrkFCuQV1oFAKit1xqU0S/nlVZxZYcOHdom7VGpVPjtt9/w9ttvQ6vVws/PDzU1NVCpVCgoKMCmTZtMnh8ABuchPT29TdrXUFPXSsO26M9tR2gvsR2rBpbv3bsXu3fvxpgxYwy6cYcOHYr8/HybNc4cgwYNwl9//WWQtmTJErz++utQq9XQaDTo0aMHnn322WbrSUpKwvLly9uyqYSQ24hcLgcA+Pv7m0yXSqVcWsMy+vdyudygjKmyppYBQCQSGaWpVCpzm24VrVYL6cZfDNKKbqhwV1fDZQCYvzvbYL220vAYNt5//XeNqePXMF1/vtpSU9dK47aYU+ZWtJfYjlU9UWVlZdyTKA1VV1e32b3xpjDGjLYZFxeH7OxsHDlyBKNHj8a6devg5+fXbD3x8fFQKBTcS/8UDCGkc/Ly8gIA5OTkmEyXyWRcWsMy+vdeXl5G65qqz1QZUwGTqcDKlgQCAWRzgyGbG4z1U4cDAPp0N9ymfnn91OFc2bZ8qszLy4s7zo3339fXF4Dp49cwXX++2lJT10rjtphT5la0l9iOVUHUyJEjkZqayi3rg5jPPvuMGyh5q5w9exY+Pj4GaW5ubvDz80NISAi++eYbzJs3D2fOnGm2Hnt7e7i4uBi8CCGdV0hICCQSCRITEw0e2denv/HGG5BIJPD29ubK6HQ6JCUlwcfHB+PGjePe9+vXDw4ODhCJRFi5ciVXn06nQ2JiIkQiERwdHSGRSCCRSHDgwAH069cPIpEIIpEIDg4O+Pvvv9t0f3Nzc+Hf2xX+vV3hJ3YGADh0MQyQ9Mt+YmeubG5ubpu0RyQSYfTo0XjzzTchEAiQl5cHR0dHiEQi+Pj4YM6cOSbPDwCD8xASEtIm7WuoqWulYVv057YjtJfYkDWDrtLT05mzszN78cUXmYODA3vllVfYAw88wJycnNjJkyetqdKIJQPLt23bxqWZGlj+/PPPs4cfftii7dPAckJIcnIy4/F4LCIigmVkZDClUskyMjLYyJEjGQA2cuRIlpiYyACwcePGseDgYMbj8VhiYiKLiIhgPB6PJScns+TkZINB02PGjGEbNmxgo0eP5tIaluXxeNw2btWrIUunOGirNgmFQgaA9erVy+g4NXd+Gh779r5WGl8HHaW9pGmWfP9bPU9Ufn4+e/bZZ1lgYCAbPHgwmz59Ovvrr7+src5I4yBq8uTJTC6Xs6KiInbq1Cm2cuVK5uzszKRSqcHTDKaCqNzcXMbj8diJEyfM3j4FUYQQxkzP6+Pj49PiPFE+Pj40T5SNX+bOE9X42N8q5rSlI7WXmGbJ9z+PMcZggfr6erzwwgt44403jG6j2dLMmTNRUVGBvXv3YubMmfjiiy8A3Jw3pHv37hg2bBieeOIJzJgxw+BJB4lEgvnz52P+/PkG9U2ePBl8Ph/79+83a/tKpRKurq5QKBR0a4+QTq6zzVh+ovA6Hv04E+9GB8Cp61UkZM1G4qit3IzlsrnB8O/tarQezVhOM5bfCSz5/rc4iAIAV1dXZGdnt2kQ1d4oiCKEdFa7si7jtZTTAOi380jnY8n3v1VTHERFRWHv3r1YsGCBVQ0khBDScT041BMA4Ct2hqiLAMAULs/JXkgBFCH/Y1UQNWDAALz99ts4fvw4RowYAScnwz8o+gFiQgi5ffVwssO0Uf3auxmEdHhW3c5r7jYej8fDxYsXW9WojoBu5xFCCCGdT5vezmOMIS0tDWKxuM0nfyOEEEII6agsnmyTMYYBAwagqKioLdpDCCGEEHJbsDiI4vP5GDBgAK5du9YW7SGEEEIIuS1Y9bMv7777LuLi4pr8DSBCCCGEkDudVQPLu3fvjpqaGmg0GtjZ2RmNjbp+/brNGtheaGA5IYQQ0vm0+TxR69evt2Y1QgghhJA7hlVB1IwZM2zdDkIIIYSQ24pVQdTly5ebze/XjyZpI4SQO0FBeTUA0CzlhJhgVRAlkUjA4/GazNdqtVY3iBBCSMdQUF6NSeu/R5duv2HntAUY0ce7vZtESIdiVRD1xx9/GCzX19fjjz/+wPvvv4+VK1fapGGEEELajlarRVpaGtLS0qDT6eDo6Ihdu3YZPXXt4O0Av+V+CA7+BLWXagEAAoEAI0eORExMDF555RXY2dm1xy4Q0v6YDclkMjZhwgSL15sxYwaLjIw0Sj969CgDwG7cuGHwXq+4uJj5+/uzkJAQVlFRwZUBwHg8HnNxcWHDhw9ncXFx7MqVKxa1SaFQMABMoVBYvD+EENKRJScnM7FYzH1eNvdy8HZg/tv9mYO3g8l8Ho/H4uLi2nuXCLEZS77/rZonqikDBw7EiRMnbFllk/Lz8xEcHAxvb2/88MMPcHV15fLOnz+PK1eu4MSJE1iyZAkOHToEf39/nD59+pa0jRBCOqqUlBTExsaitLQUgwYNanV9jDGsXr0aixcvtkHrCLm9WBVEKZVKg5dCocC5c+fw+uuvY8CAAbZuo5G//voLwcHBGDt2LPbu3Ws0T5VYLIanpyfuuusuTJs2DcePH4e7uzv+85//tHnbCCGko9JqtVi0aBEcHBwQHh6Oqqoqm9W9bt061NXV2aw+Qm4HVgVR3bp1Q/fu3blXjx49MGTIEGRmZmLTpk22bqOBjIwMTJgwATExMdixYweEwpaHdYlEIrz44os4fvw4SktLTZZRq9VGwSEhhNxJ0tPTUVhYCJVKhSlTptj0N1A1Gk2bf/4T0tFYNbD86NGjBst8Ph/u7u7w8/MzK6gxRSaTwdnZ2SDN1FN+jzzyCKZOnYoPP/zQovr13daFhYUQi8VG+UlJSVi+fLlFdRJCyO1ELpdz7xv34NtCfn6+zeskpCOzKuLJyMiAh4cHZs2aZZC+bds2lJWVYcmSJRbXGRoais2bNxuk/fbbb3jyyScN0iIjI/Htt98iPT0dISEhZtfP/vfrNk1NzRAfH4+FCxdyy0qlEn379jW7fkII6ei8vLy49yqVyub1+/r62rxOQjoyq27nffLJJyYHJA4dOhQff/yxVQ1xcnKCn5+fwat3794mtz1t2jSEhYXh559/Nrv+s2fPArg5x5Up9vb2cHFxMXgRQsidJCQkBBKJBCKRCPv370efPn1sVrdQKMScOXNsVh8htwOrgqirV68a/I9Gz93d3aC7uC3weDxs2bIF06dPx5QpU3Ds2LEW11GpVNiyZQvGjx8Pd3f3Nm0fIYR0VAKBAGvXrkVtbS1SU1ONhlC0xoIFC2i+KNLpWBVE9e3bF8ePHzdKP378OHr16tXqRrWEx+Ph448/xtNPP40pU6YgLS3NIL+0tBRXr17FhQsXsGvXLowbNw7l5eVGtwsJIaSziY6Oxp49eyAWi3Hu3LlW18fj8RAXF4dVq1bZoHWE3F6sGhP13HPPYf78+aivr8ekSZMAAIcPH8bixYuxaNEimzawKTweDx999BH4fD7Cw8Mhk8m48U4DBw4Ej8eDs7Mz+vfvjwcffBALFy6Ep6fnLWkbIYR0ZNHR0YiMjDRrxnJTaMZyQm7iMf2IawswxvDaa6/hgw8+4OYFcXBwwJIlS/Dmm2/avJHtQalUwtXVFQqFgsZHEUI6pV1ZlxH//XH67TzSqVjy/W9VEKVXVVWFs2fPQiQSYcCAAbC3t7e2qg6HgihCSGd3vboOP+Zexd19umFIL/ocJJ3DLQui7mQURBFCCCGdjyXf/zb97TxCCCGEkM6CgihCCCGEECtQEEUIIYQQYgUKogghhBBCrEBBFCGEEEKIFSiIIoQQQgixAgVRhBBCCCFWoCCKEEIIIcQKVv12HiGEkDtPQXk1qtUas8s72Qvh4+bUhi0ipGOjIIoQQggKyqsRuibNKJ0nVKJLt99QXzEaTGM8e/PRVydSIEU6LQqiCCHEQlqtFunp6SguLkZZWRnc3d3Ru3dvhISEAADS09Mhl8vh5eWFkJAQCAQCbh19elBQEDIyMnDp0iWkpKTgn3/+QWVlJezs7ODq6oru3bvjxo0bUCqVcHNzwz///IPS0lLU1tZCo/m3t4jP5+O+++5DSkoKnJ2drd4nfQ/U+qnD4Sf+t54C5XkkZCVibfgT8HEZyKXnlVZh/u5si3quGqurq8P69euxfft25OXlob6+nsvj82+ONunRoweGDBmCyspK8Pl83HvvvZBIJEhNTcWVK1fg5eWF6OhozJs3D3Z2dkbHWX/8rWGqLgBNnntrt0MsY8tz3GqsA5HL5WzevHnM19eX2dvbM7FYzIKCgtimTZtYdXU1Y4wxb29vBoABYHw+n3l5ebFZs2ax69evc/UcPXqUKwOAicViFh0dzfLz881ui0KhYACYQqGw+X4SQm5fycnJTCKRGHzGNPyscXd3N0iTSCQsLi7OaB2hUGiyjta8AgMDrd6v00UVzHuJjJ0uqjBIzy3PZf7b/Vluea5Z5c0VFxdn033n8XgsMjLS6DhLJBKWnJxscftMnWdT57e12yGWMXVebH3sLfn+7zADyy9evIh77rkHP/74IxITE/HHH38gMzMTixcvhkwmw6FDh7iyb7/9NuRyOS5fvoyvvvoKP//8M+bNm2dU5/nz53HlyhV88803yM3NRUREBLRa7a3cLULIHSQlJQWxsbFwc3MDj8dDWFgYPv30U4SFhQEASktLUVZWhqSkJFRWViIzMxNubm5YvXo13NzckJmZiR07dgBAm/zP+cSJExg1apTN67W1xYsXY/Xq1a2up1evXlzvG2MM3333HQQCATIzM7njHxAQgNjYWKSkpJhdr/48BwQEcHUlJSVx5xeA0bl3c3OzeDvEMqbOi7Xn2GZsFrq10kMPPcT69OnDqqqqTObrdDrG2M2eqHXr1hnkrVixgg0ZMoRb1vdE3bhxg0v76quvGAB27tw5s9pDPVGEkIY0Gg2TSCRMKpUyiUTCIiIimFarZYwxVldXx0QiEROJRCw8PJz5+PgwjUbDrePh4cEkEglTq9VMIpGwKVOmGPVkNNXDYc2rsrLS4v27VT1RarWa8Xg8m+2rUqlkYrHYoIdPrVZz29NqtSwiIoI7Jy3Rn7OG51efFh4ezkQiEXN0dGR1dXUG9euvDXO3Qyxj6rzoWXqOW3Lb9URdu3YNP/74I1566SU4OZkeoMjj8UymFxcXY9++fRg9enSz2xCJRABu3oM3Ra1WQ6lUGrwIIUQvPT0dhYWFCAsLQ2FhIRISErhxO8ePH4dKpYJKpUJYWBgKCgqQnp7OrbNixQoUFhZi06ZNKCws5D6PGgoNDbVZWx+OnYqcYoVFr7zSKgBAbb15vfX6cnmlVRZt543EtWCM2Wxf4+Pj8eSTT3LLGo0GmzZt4pb5fD7i4+O5c9IS/TlreH71aVOmTIFKpUJNTQ2OHz9uUH9hYSEmT55s9naIZUydFz1Lz7EtdYiB5Xl5eWCMYeDAgQbpbm5uqK2tBQC89NJLeO+99wAAS5Ysweuvvw6tVova2lqMHj0a77//fpP1y+VyrFmzBr179zbahl5SUhKWL19uoz0ihNxp5HI5gH//Q+bv72+U1zC/YZpUKgUA5OfnAwBu3LhhVH9T/4G0xi+nciHd+ItV6xbdUGGkxLxyADB/d7ZF9V//KcPyRjXjwoULePjhhw3S9MdZT3+uGp6TpujLmDq/DYPfhnXpy5o698Q2TJ2Xhiw5x7bUIYKopmRlZUGn02H69OlQq9VcelxcHGbOnAnGGP755x8kJCQgPDwcP//8s8E4gz59+oAxhpqaGgwbNgzJycmws7Mzua34+HgsXLiQW1Yqlejbt2/b7Rwh5Lbi5eUFAFCpbgYPOTk5GDNmjEFew/yGaTKZDADg6+sLAOjevbtR/dXV1TZra/CIofhgbrBF6+iftuvT3biXzBR9ucZP87XkS4e/sOp3mUVta86AAQNw8eJFgzT9cdbLyckBYHhOmqIvY+r86s9t47r09Zs698Q2TJ2Xhiw5xzbV6puHNlBeXs54PB5LSkoymT9hwgT2yiuvMMZMj4nKzMxkANhPP/3EGPt3TNTvv//O8vLymFKptLhNNCaKENIQjYmiMVE0Jqr90JioZvTs2RMPPPAAPvzwQ6v+N6bvfWr4vwQA8PHxga+vL7p27WqTdhJCOi+BQIC1a9ciNTUVbm5ukMlkkEql2LJlCyIjI7kxUampqXjuuedQU1ODrKwsuLm5oaSkBG5ubjh16hTeeecd7N+/H/b29gb165/6aq3AwMBWzRfV1uzs7PDqq6/apC4vLy/06tULpaWlXJq3tzdOnTrFPbkVFRUFmUyGNWvWmPVEpP48y2QyREVFITMzEzU1NXj++eeRmprKjYmKjIzEli1bIJVKsW/fPri5uSE1NdXs7RDLmDov1p5jm2p1yGYjeXl5zMPDgw0aNIjt2rWLnTlzhp07d459+eWXzMPDgy1cuJAxdrMn6u2332ZyuZxduXKF/fbbb2zChAnM3d2dlZeXM8ZMP51nKeqJIoSYYuk8UT4+PjRPlAm3ap4oHx+fWzJPlLXbIZYxdV5sfewt+f7nMWbDxyRaSS6XIzExEampqSgqKoK9vT2GDBmCRx99FHPmzIGjoyMkEgkuXbrErePu7o7AwECsXLkSw4cPBwCkpaUhNDQUN27cQLdu3axqi1KphKurKxQKBVxcjH/qgBDSed2JM5afKLyORz/OxLvRAfDv7cql35yxfDYSR201OWO5bG6wQXlL0IzlxBptPWO5Jd//HSqI6kgoiCKEdCa7si7jtZTTRun023mks7Hk+79DP51HCCHk1nhwqCcAwFfsDFGXxv+rn2JyHSd7IQVQpFOjIIoQQgh6ONlh2qh+7d0MQm4rHeLpPEIIIYSQ2w0FUYQQQgghVqAgihBCCCHEChREEUIIIYRYgYIoQgghhBArUBBFCCGEEGIFCqIIIYQQQqxAQRQhhBBCiBVosk1CCCEAgILyalSrNS0XBM1WTghAQRQhhBDcDKBC16QZpTf323n0u3mks6MgihBCrGTOr8k3V0ar1SItLQ1HjhzBpUuXoNPpwOPxIJFIMGnSJAQFBWHTpk04duwYzpw5A5VKBY1Gg9raWtTX14PH40Gn06G2tpbb3l133YXMzEz06NHDon3R90CtnzocfmJnLr1AeR4JWYlYG/4EfFwGAgDySqswf3e22b1WDVVVVWHatGk4duwY6urqIBQKwRhDXV0dtFotV27gwIFIS0vDrl27cOHCBeh0Ojg7OyM7OxtOTk4ICgoCYwy//vorunbtiqeeegqTJk2CQCAw67wQYhOsg5gxYwYDYPR66KGHGGOMAWDffvutyfUiIyO55QkTJnDr2tvbswEDBrDExESm0+ksao9CoWAAmEKhaM1uEULuUMnJyUwikRh8XkkkEpacnGxWmeTkZObu7m7yc88WLw8PD4v253RRBfNeImOniyoM0nPLc5n/dn+WW57bYtmWBAYGttn+AmCurq4sLi6uxfNCSHMs+f7vUAPLJ0+eDLlcbvDauXOnxfU899xzkMvlOH/+POLj4/Hmm2/i448/boMWE0I6o5SUFMTGxiIgIACZmZmorKxEZmYmAgICEBsbi5SUlBbLxMTEoKyszKDerl272qyNJSUl8PT0tFl9rTVq1CicOHGiVXXweDyT6ffddx+6d+8OhUKB1atXw83NrcnzQogtdaggyt7eHp6engav7t27W1yPo6MjPD094e3tjWeeeQZ33303fvrppzZoMSGks9FqtVi0aBGkUin27t2LMWPGwNnZGWPGjMHevXshlUqxaNGiJsskJyfDwcEBPB4PDg4O3EsqleL69euYMmWKzdpaUlKC69ev26w+a1VVVbU6gHJzc0NFRQW3LBaL4eDgAD6fj2PHjuHSpUtckFVeXo7AwECj8/Lqq68a3DIkpLXu6DFRjDH88ssvOHfuHAYMGNBsWbVaDbVazS0rlcq2bh4h5DaUnp6OwsJC7Ny5E3y+4f9D+Xw+4uPjERQUBAAmyxw/fhwqlQoADMYyLV26FEKhEH5+fjZt76igYOw9nNliubzSqpttqm85yNCX0a/TknmznzCrXHPs7Oywbds2bnnChAn45ptvAAA6nQ7x8fFgjAEACgsLkZ6ejokTJwIwPC8N0wlprQ4VRMlkMjg7OxukJSQkICEhwaJ6Nm3ahM8++wx1dXWor6+Hg4MD5s2b1+w6SUlJWL58ucVtJoR0LnK5HADg7+9vMr9huqky+vWbWq9hYGULFy8VQbrxF7PLF91QYaSk5TIAMH93tll1XjmVa/b2m1JTU4P8/HxuufF3xYULFwyWGx9n/fFt6vgTYo0OFUSFhoZi8+bNBmmWPmECANOnT8fSpUtx48YNLFu2DEFBQdz/DJsSHx+PhQsXcstKpRJ9+/a1eNuEkDubl5cXACAnJwdjxowxys/JyTF437iMfn1T640ZMwYODg42bC3Q37sP9s4NbrGc/om7Pt1FLZbVl2n8JF9T5mUPxdEfLrXc2GY4OjrC19eXW66qMuwFGzBgAH788UduufFx1p+Xpo4/IdboUEGUk5NTk13ZXbt2hUKhMEqvqKiAq6urQZqrqytXz3//+1/4+flhzJgxuP/++5vctr29Pezt7VvRekJIZxASEgKJRILExETs3bvX4HadTqdDUlISJBIJAJgsM27cOIhEItTW1hp85qxcuRLffvst8vLybNrerIxf0KOHa8sF/8ehS8tTAejL+Imd4d+75bq/37O71YPm6+rqMGvWLCxYsAAAcOzYMTg4OKCurg58Ph9JSUnYtGkTGGOQSCQICQnh1tWfFx8fH4N0QlqrQw0sb87AgQNx6tQpgzStVos///wTd911V5PrOTs745VXXsGrr77K3S8nhBBrCQQCrF27FjKZDFFRUQZPgUVFRUEmk2Ht2rVNlomJiUFtbS0YY6itreVeMpkMPXr0wP79+23WVg8PD6t6823N2dkZgYGBraqjvLwc3bp145ZLS0tRW1sLnU6H8ePHw9vbm/uMd3NzQ1ZWltF5WbNmDc0XRWyqQ/VEqdVqXL161SBNKBTCzc0NCxcuxOzZszFo0CA88MADqK6uxsaNG3Hjxg08++yzzdb7wgsvYMWKFUhOTkZsbGxb7gIhpBOIjo7Gnj17sGjRIoOhAj4+PtizZw+io6MBoNkyAPDiiy8aTHNQWVlpszZ6eHgYfZ62p6ysrFZPc9DUf4SPHDkC4OZdiOeffx7ffPNNs+eFEFvpUEHUwYMHje5XDxw4EOfOncPjjz8Oxhjef/99vPbaa3B0dMSIESPw888/w8PDo9l6e/TogaeffhpvvfUWoqOjjZ6WIYQQS0VHRyMyMrLZmbFbKhMZGdlhZixX/e+Ju5xiw2ETBcqbY4/yS6ugq72ZZ+5TeY1lZWXdkhnLk5KSaMZyckvwGN3jMkmpVMLV1RUKhQIuLi4tr0AIIbexXVmX8VrKaaN0+u080tlY8v3foXqiCCGEtI8Hh96c3dxX7AyR0eBy4wlAneyFFECRTo+CKEIIIejhZIdpo/q1dzMIua3Q4CBCCCGEECtQEEUIIYQQYgUKogghhBBCrEBBFCGEEEKIFSiIIoQQQgixAgVRhBBCCCFWoCCKEEIIIcQKFEQRQgghhFiBJtskhBACACgor0a1WmNWWZqxnBAKogghhOBmABW6Js0onX47j5CmURB1i2m1Wvp1cULuQHV1ddi0aRPy8/Ph6+uLOXPmQCAQGPy9BwUFISMjw+SyWCwGAJSWlqJnz544deoUvv76a9TV1WHixImYMmUKdu/ejezsbBQXF6O6uhpardagDXw+H3fddReOHz+OHj16WNR+fQ/U+qnD4Sd25tILlOeRkJWIteFPwMdlIAAgr7QK83dnm91r1ZBKpcLTTz+NPXv2GKR36dIFfD4fjo6OCAwMRFlZGUQiEby9vXHvvffCw8MD165dg7u7O3r37o3Ro0fjk08+MTjednZ2BnWaOieNyxDSKqyDkcvl7OWXX2Y+Pj7Mzs6O9enTh0mlUnbo0CHGGGPe3t5s3bp1RustW7aMDRs2zGAZgNHrp59+MqsdCoWCAWAKhcIWu8UYYyw5OZlJJBKD9kgkEpacnGyzbRBCbr24uDgmFAoN/rb5fD5zcXExSGtcpvGyLV8eHh4W7cPpogrmvUTGThdVGKTnlucy/+3+LLc8t8WyLYmMjGyz/RUKhSwuLq7Zc9K4DCGmWPL936EGlhcWFmLEiBE4cuQIVq9ejdOnT+PgwYMIDQ3FSy+9ZHF9Q4cOhVwuN3iNHz++DVrespSUFMTGxiIgIACZmZmorKxEZmYmAgICEBsbi5SUlHZpFyGkdRYvXozVq1ejZ8+e+PTTTyGXy/Gf//wHOp0OSqUS06dPx44dOwAAPXv2BI/HwyuvvAIej4eePXsCAHg8HoKDg9G7d2+btaukpASenp42q6+1oqKi8N1337W6Hn2PnVB480bKZ599hk8//RQ9e/bE6tWrsXjxYpPnpHEZQmziFgR1ZgsLC2O9e/dmVVVVRnk3btxgjFnWE9Vw2VK27InSaDRMIpGwiIgIptVqDfK0Wi2LiIhgPj4+TKPRtHpbhJBbR61WM6FQyDw8PFh9fT1j7N+/9/DwcObh4cGEQiHr168fi4iIYPX19UwqlTKhUMikUimrra1lIpGIOTo6sqqqKiYQCLheE4VCwezt7VvdQ3Pt2jWz9qUte6JqampavR88Ho97b2dnxyQSCZNKpdxnZ319PfPw8GB8Pp8JBAKDc6KnLyMUCplarTar7aTzuS17oq5fv46DBw/ipZdegpOT8UDFbt26ten21Wo1lEqlwctW0tPTUVhYiISEBPD5hoecz+cjPj4eBQUFSE9Pt9k2CSFtb9OmTdBoNHjnnXe4nhH93/vrr7+Ot99+GxqNBpcvX0ZCQgKEQiEmT54MjUaDsLAwZGZmQqVSoaamBkuWLDEY47Rt2zao1epWt3FUUDByihUtvvJKqwAAtfXaFmr8t0xeaZVZdc/6z7wm6zK3t4wxxr2PiYlBYWEhJk+ezH12CoVCvP3229DpdNBqtQbnRE9fRqPRYNOmTWZtl5DmdJiB5Xl5eWCMYdCgQS2WXbJkCV5//XWDtLq6OgwZMsQg7fTp03B2/neA5JAhQ5CVlWWyzqSkJCxfvtyKlrdMLpcDAPz9/U3m69P15Qght4f8/HwAgFQq5dIa/r3369ePS9f/nYtEIu7fhn/zFy5cMFl3a128VATpxl/MLl90Q4WRkpbLAMD83dlm1Vly7FSTeffeey/2799vZutuGjlyJHbu3MkdS/1xbHgeGr5vSJ9uq+NLOrcOE0Q1/F9GS+Li4jBz5kyDtA8++AA///yzQdrAgQPx/fffc8v29vZN1hkfH4+FCxdyy0qlEn379jW7Tc3x8vICAOTk5GDMmDFG+Tk5OQblCCG3B19fXwCATCbDs88+C8Dw7/2vv/7iyur//lWqmwGISqWCj48Plz9gwAD8+OOPRnW3Vn/vPtg7N7jFcvon7vp0F7VYVl+m8ZN8TVl5dQR2Ff5hMu/3339vcf3GTp48CQDcsdQfc5lMxpVpeE4a0pex1fElnVxb31s017Vr1xiPx2OJiYnNlqMxUYSQjoLGRNGYKHLnuS3HRPXo0QMPPfQQPvroI1RXVxvlV1RU3PpG2YhAIMDatWshk8kQFRVl8HReVFQUZDIZ1qxZQ/NFEXKbsbOzw4IFC1BSUoI+ffpgy5YtKCkpweTJk5GamoqSkhI89thjSExMxL59+9CnTx+kpqbipZdeQmpqKry9vaFSqaBSqTB58mSD8UGurq6tHhPl4eFh8XxRbUEkEiEyMrJVdbD/3a0Qi8Woq6tDUVERZDIZEhISsHXrVvTp0wclJSVYtGgRFi5caHBOrly5gi1btnBlFixYQPNFEdto+5jOfPn5+czT05MNGTKE7dmzh/3999/szJkzbMOGDWzQoEGMsduzJ0rP1DxRPj4+NE8UIbc5mifKPDRPFLkdWPL932HGRAFA//798fvvv2PlypVYtGgR5HI53N3dMWLECGzevLm9m9dq0dHRiIyMpBnLCbnDrFq1Cu+8885tPWO56n9P3OUUKwzSC5Q3n9rLL62CrvZmnv5JPkvt3bv3ls1Y3tQ5oR4oYks8xiwY0d2JKJVKuLq6QqFQwMXFpeUVCCHkNrYr6zJeSzltlE6/nUc6G0u+/ztUTxQhhJD28eDQm+OxfMXOEHVp3Ds+xai8k72QAijS6VEQRQghBD2c7DBtVL+WCxJCOB3m6TxCCCGEkNsJBVGEEEIIIVagIIoQQgghxAoURBFCCCGEWIGCKEIIIYQQK1AQRQghhBBiBQqiCCGEEEKsQEEUIYQQQogVaLJNQgghnILyalSrNS2WoxnLCaEgihBCyP8UlFcjdE2aQRr9dh4hTaMgihBCOgCVSoWFCxfi5MmTcHV1xQMPPABPT0/89ttvKC4uRnV1NXQ6HWpra6FSqaBSqSCXy6FUKrk6+Hw+XF1dMXjwYOzfvx+urq4WtUHfA7V+6nD4iZ0BAAXK80jISsTa8Cfg4zIQAJBXWoX5u7PN6rFqqKysDCNGjMA///xjkN6lSxc4Ozuja9eucHZ2hr29PRwcHODo6IgRI0ZALBZDLBajtLQU169fB5/PR0hICAAgPT0dADBx4kRMnDgRAkHj3/0jpA2xDkIul7OXX36Z+fj4MDs7O9anTx8mlUrZoUOHDMolJiYyPp/PVq1aZVTH559/zgAwAIzP57Nu3bqxUaNGseXLl7OKigqL2qNQKBgAplAoWrVfhBDSksjISO6zy5YvX19fi9pxuqiCeS+RsdNF/35e5pbnMv/t/iy3PLfZci1xdXVtk31s+HJ3d2fJyckW7TMhjVny/d8hBpYXFhZixIgROHLkCFavXo3Tp0/j4MGDCA0NxUsvvWRQdtu2bVi8eDG2bdtmsi4XFxfI5XIUFRUhIyMDzz//PP7v//4Pw4cPx5UrV27F7hBCiNmioqLw3XffAQA8PDzA4/Es7kFqSn5+Pvz8/GxSV2t069YNCoXCJnV5eXkZpb311lsIDg5GWVkZYmJikJKSYpNtEdKSDhFEzZkzBzweD1lZWYiJicFdd92FoUOHYuHChfj111+5cseOHYNKpcLbb78NpVKJjIwMo7p4PB48PT3h5eWFwYMHY/bs2cjIyEBVVRUWL158K3eLEEKapVKpuAAqLCwMIpEIU6ZMQWVlJfh823w85+fn2yyAsUZZWZnNtm9nZ4fS0lLw+XyIRCKEh4fD0dER27dvx5EjRyCVSuHo6IhFixZBq9XaZJuENKfdx0Rdv34dBw8exMqVK+HkZDxAsVu3btz7rVu34vHHH0eXLl3w+OOPY+vWrQgKCmpxG2KxGNOnT8e2bdug1WpN3jNXq9VQq9XccsNxBoQQ0hbi4uK491KpFAcOHEBkZCR0Op1NtzPxgYfw5bc/tFgur7QKAFBb33wAos/Xl2/OQ2NHmtFC89TV1XHvVSoVwsLCkJqaisLCQhw/fhwJCQmQyWQoLCxEeno6Jk6caLNtE2JKuwdReXl5YIxh0KBBzZZTKpXYs2cPMjMzAQBPPvkkQkJCsGHDBjg7O7e4nUGDBqGyshLXrl2DWCw2yk9KSsLy5cut2wlCCLHChQsXuPcikQjAzeDA1k6fy4d04y9mly+6ocJISfP5ADB/d3aLdV25Wmr2di2lP2YAIJfLIZVKDZYJaWvtHkQxxswqt3PnTvj6+mLYsGEAgOHDh8Pb2xu7d+/G7Nmzzd4Oj8czmR8fH4+FCxdyy0qlEn379jWrbYQQYo0BAwbgxx9/BPBv8NQwMLCVgEG++HJucIvl9E/d9enefBv0+Q2f4mvKQ1+LceWfy+Y31gINA04vLy/k5OQYLBPS1to9iBowYAB4PB7OnTvXbLmtW7ciNzcXQuG/TdbpdNi2bZtZQdTZs2fh4uKCnj17msy3t7eHvb29ZY0nhJBWWL16NT766CMAgEwmg0QiQV5eHjceyla39dJ++sGiweoOXZqfJkCf7yd2hn/v5uvNPnXSZO+/Nezs7KDVasEYg729PQ4cOABHR0eIxWKMGzcO0dHR3LJ+CgRC2lK7Dyzv0aMHHnroIXz00Ueorq42yq+oqMDp06dx8uRJpKWlITs7m3ulpaUhMzOzxQCstLQUX3/9NaKiomw2WJMQQlpLJBIhMjISAHDgwAGoVCrs378fXbt2tVkA5evra7On/azh7u5us+3X1dVBLBZDp9NBpVIhNTUVNTU1ePrppzFp0iTIZDLU1NRg7dq1NF8UuSU6RETx0UcfQavVYtSoUUhOTsaFCxdw9uxZfPDBBxg7diy2bt2KUaNGYfz48fD39+de48ePR2BgILZu3crVxRjD1atXIZfLcfbsWWzbtg1BQUFwdXXFu+++2457SQghxvbu3csFUiUlJWCM2expNl9fX+Tl5dmkrtaoqKiwWSBlaqzT22+/jV9++QVisRjJycmIjo62ybYIaUm7384DgP79++P333/HypUrsWjRIsjlcri7u2PEiBHYsGEDnnjiCSxZssTkujExMVi7di0SExMB3BzL5OXlBR6PBxcXFwwcOBAzZszAK6+8AhcXF5N1EEJIe9q7d2+HmLFc9b+n7nKK/w3iCpQ3n8DLL62CrvZmujlP5TVWUVFBM5aTOw6PmTuyu5NRKpVwdXWFQqGg4IsQ0insyrqM11JOG6TRb+eRzsaS7/8O0RNFCCGk/T041BMA4Ct2hshgcPkUo7JO9kIKoEinR0EUIYQQAEAPJztMG9WvvZtByG2jQwwsJ4QQQgi53VAQRQghhBBiBQqiCCGEEEKsQEEUIYQQQogVKIgihBBCCLECBVGEEEIIIVagIIoQQgghxAoURBFCCCGEWIEm2ySEkE6ooLwa1WqNzeulmcxJZ0JBFCGEdDIF5dUIXZNmVtnmfjuvKfSbeqSzoCCKENLmtFot0tPTIZfL4eXlhZCQEAgEApusZ23dlmxbLBYDAK5evYqSkhKUlpbi5MmTkMvlUKlU8PDwAI/Hg52dHc6ePYuqqioIBAIMGDAA//zzDxQKBRhj6N69O0aPHo2vv/4azs7OrW6jtfQ9UOunDoefuPl2FCjPIyErEWvDn4CPy8Bmy+aVVmH+7uw26eGyhFarxaFDh7BmzRpcvHgRZWVlqK+vh52dHXx9fVFUVASlUgnGGBwdHcHj8SASiTBgwAD4+fmhrKwMNTU1GDlyJCZNmgQ+n4/S0lLu+qqrq0NcXBwuXLiAAQMGYPXq1RCJRG2+T21xndtCR25bm2MdzIwZMxgA7tWjRw/20EMPsT///JMr0zC/a9eubOTIkWzv3r0G9Xz++efM1dXV6nYoFAoGgCkUCqvrIIQwlpyczCQSicHfrUQiYcnJya1ez9q6rWmzrV+BgYGtamNrnC6qYN5LZOx0UUWLZXPLc5n/dn+WW55r03rbSnJyMnN0dGyz89ZU3ZGRkW26T21xnd/pbbOWJd//HXJg+eTJkyGXyyGXy3H48GEIhUJIpVKDMp9//jnkcjlOnjyJcePGITY2FqdPn26nFhNCTElJSUFsbCwCAgKQmZmJyspKZGZmIiAgALGxsUhJSbF6PWvrtqTNSUlJAIBBgwZZfQyacuLECYwaNcrm9XZmKSkpiImJQU1Njc3r5vF4GDx4MFf3I488gry8PLz22muws7PDd999h6ioKJtvt62u8zu9bbfMLQjqLDJjxgyjiD49PZ0BYKWlpYyxmz1R3377LZevVCoZALZhwwYujXqiCGlfGo2GSSQSFhERwbRarUGeVqtlERERzMfHh2k0GqvW8/b2trhuS9pcV1fHJBIJk0qlzNvbm4lEIoP/bfP5fIt7MVxdXY3SKisrLWqjLdyJPVEajYZ5e3sbHV8+n2/VuQLA7O3tmVgsZjwejzk4ODAATCgUsvDwcIPrS61WMzs7OwaA1dTU2HSfrPkbuhU6cttay5Lv/w4/Jqqqqgo7duyAn58fevbsaZSv0WiwdetWAICdnZ3V21Gr1VCr1dyyUqm0ui5CCJCeno7CwkLs3LkTfL5hpzefz0d8fDyCgoKQnp6OiRMnWrweAOzatcuiui1p8/Hjx1FYWIi4uDjIZDKjssOGDcMff/wBFxeXZj8vRCIRVCoVAMCnf39k//GHQf7DsVPxwdavzW6jLeSVVgEAauu1Nq1XX5++/lvpREY6Ll26ZJQ+/N4R+P3kiSbX69WrF65cuWIyT61W48knn8T777+P2tpaAMCjjz6KuXPnGlxfdnZ2mD9/PlatWoW4uDh8+OGHNtkna/+GboWO3LZbqUMGUTKZjBt0WV1dDS8vL8hkMoMT9fjjj0MgEEClUkGn00EikeCxxx6zeptJSUlYvnx5q9tOCLlJLpcDAPz9/U3m69P15Sxdz5q6W9Jw2/v27QOAJgcMOzo6mlWnRCLB2bNnAQC1dcZByy+nciHd+ItF7bSVohsqjJTYtj4AmL8723aVmqn6zM8m0526dmt2PZ1O12x+//79DZZHjRpl8vqaPXs2Vq1ahQsXLpjRWvNY+zd0K3Tktt1KHTKICg0NxebNmwEAN27cwKZNmxAWFoasrCx4e3sDANatW4f7778fFy9exIIFC/DBBx+gR48eVm8zPj4eCxcu5JaVSiX69u3buh0hpBPz8vICAOTk5GDMmDFG+Tk5OQblLF3PmrotabP+vb4XqTFzx90UFhZy7x3sjJ9YCh4xFB/MDbaona2lf4quT3fbPlGmr8+cp/5s7UQGw6x9q43Sqysrml2vcS9KYxcvXjRYzsrKwujRowEYXl/6OyIDBgwwp7lmsfZv6FboyG27pW7B7UWLmBoTpdFomJOTE1u6dCljzHhM1G+//cZ69uzJSkpKuDQaE0VI+6IxUTQm6laiMVG3VkduW2vd9k/nNcbj8cDn85v8H+GoUaMwYsQIrFy58ha3jBDSFIFAgLVr10ImkyEqKsrg6Z2oqCjIZDKsWbPGaD4Zc9d7//33La7bkjbHxMTg+eefh0wmMxjXpNfSbSBTFAqFwXJgYGC7zhd1JxEIBHj//feN0nU6nVXnCrg5Jqq0tBSMMajVagwePBgajQapqakYNmwY8vPzsWTJEnTt2hV1dXWIjIy06XxR1v4N3QoduW23VNvHdJaZMWMGmzx5MpPL5Uwul7MzZ86wOXPmMB6Px44ePcoYM+6JYoyx/fv3M3t7e1ZUVMQYu9kT5ezszP744w+D15kzZ/6/vTuPiuo8/wD+HRhZHRbZXcIACkSjUfSAuFUN0QS1MUXll8T1mJgWKkdRcM2iFmJDMDYRYzUoscdUbcHYolSFQmoqESViIu4ooYbVKpsOywzv748cpiL7MHBZvp9z5py5933ve595Z+Q+vvfe97YpDo5EEelHU/PIuLi46DRP1NPb6dq2LjHr+8V5ojpHX5knSh+/894em67ac/yXCSFEx9Iw/Vq6dCm++OIL7bJCoYCnpyfWrVuHgIAAAD+PTB07dqzBnBxCCAwfPhzTpk3D7t27ERcXh2XLljVq383NDbdv3241jvLyclhaWqKsrAwWFm171AERNY0zlnevGcsv5D7A/D3p2P6rkXhukGWLdX+esXw5Ir1j2zxjeeLKSa2225k4Y3nX6s6x6aI9x/9ul0R1F0yiiKi3OpyRh/UJbZucmM/Oo76mPcf/bnl3HhERdZ4ZIxwBAG72/WHary0jBv5tbtvcWM4EivoMJlFERH3MAHMj/J/3M1KHQdTj9Yi784iIiIi6GyZRRERERDpgEkVERESkAyZRRERERDpgEkVERESkAyZRRERERDpgEkVERESkAyZRRERERDrgZJtERH3c3fuP8KhardO2nKGc+jImUUREfdjd+48w7aO0Jsva+tw8PiuP+iomUUREHaTRaJCWloa0tDQAwNSpUzF16tRGT7Kvf9r9Tz/9hKKiIpSUlODevXtwcnLC1atXcfPmTdTW1sLS0hK1tbWoqKhAZWUlHj58qG1j7NixSElJgaWlpV5irx+B2hk4GkPt+zcou1t+AxszIhE963W4WHg02vZ2cSVWHcnSeRSrKSqVCsHBwfjrX/+KR48ewdjYGNbW1lCpVKiqqoKtrS3Mzc1haGgIhUKBQYMG4bvvvoNcLoeHhweeffZZ5OfnQwgBpVKJ6dOnN/ld6FtNTQ12796NnJwcuLm5ISgoCEZGRp26T+oGRDdx7tw5YWBgIPz9/RusT01NFQDEw4cPG23j7OwsPv74Y+0yAO3LzMxMDB06VCxZskRcvHix3fGUlZUJAKKsrKzd2xJR3xEfHy/s7Owa/P0BIOzt7UV8fHyDekqlslE9XV9ubm56if+He6XCeV2i+OFeaaOy7PvZ4rm450T2/ex2b6uLV155RW/909J3oW9hYWFCLpc32KdcLhdhYWGdtk/qPO05/nebC8tjY2OxcuVK/Otf/0J+fr7O7Rw4cAAFBQXIzs5GTEwMKisr4ePjg4MHD+oxWiIiICEhAQEBASgpKcGkSZOQkpKClJQUTJo0CcXFxZg3bx4SEhKQkJCAefPmwdbWtsH2crnuJwNycnIwdOjQjn6EbmPu3Lk4fvy43tpTKBTa909+F/oWHh6OqKgo2NjYYN++fSgoKMC+fftgY2ODqKgohIeH632f1I10QVLXqoqKCtG/f39x/fp1ERgYKCIiIrRl7R2JOnbsWKN6ixcvFgqFQjx48KDNMXEkiohaolarhbOzszA1NRWzZ88WGo1GW6bRaMTs2bOFmZmZUCqVQqlUitmzZwtnZ2dhYmIiTE1Nhb+/f5tHUmQyWbNlpaUdGwXqDiNRjx8/1suI09P95O/vL8zMzLR97uLiItRqdYdifVJ1dbWQy+XCwcFB1NbWNiirra0VDg4OQi6Xi+rqar3tkzpfe47/3eKaqKNHj8LT0xMeHh5YuHAhVq1ahQ0bNkAmk+ml/dWrV+PgwYM4c+YMFixY0GSd6upqVFdXa5fLy8v1sm8i6p3Onj2LH3/8EQCwadMmGBj8b2DfwMAAGzduRGJiInJzcwEAYWFhSExM1NYxNTVt876EEM2WTX1xJv507FQ7o/+f28WVAICqWk27t63fpr4NXUVsWttiuZ2dHUpKSlpt5+l+MjU1xePHj7XLd+/exdmzZzF16lSd4nza7t27oVar8bvf/a7RqKJcLsfWrVvx9ttvY/fu3Vi1apVe9kndS7dIomJjY7Fw4UIAwEsvvYSysjJ8/fXXevuhe3p6AoD2j1lTPvjgA2zZskUv+yOi3q+goED7/rnnnmtU/vS6p5OmJy8W74gfrudg9qffdLidew9VGKds/zYAsOpIVof2XfR1ZovlCoWiTUnU05rq4ye/t47KyckBAMyePbvJ8vr19fWo95E8ibpx4wYyMjJw7NgxAD9n74GBgYiNjdVbElX/v5OWRrY2bNiA0NBQ7XJ5eTmGDBmil/0TUe/j5OSkfX/lyhWMHz++QfmVK1caLKtUqgbL1tbWeoljpKcb/rRyks7b199hN9i67SNj9eq3aerOvvaIKByLw7mXmi2vqKjQqd2m+vjJ762j3NzcAACJiYl48803G5XXjzzW16PeR/IkKjY2Fmq1GgMHDtSuE0LA2NgYu3btgoXFz3OTlJWVwcrKqsG2paWlbbrN99q1awAAFxeXZusYGxvD2NhYh09ARH3R5MmT4ezsjOLiYkREROD48ePaU3p1dXWIjIyEmZkZ7O3tAQBJSUlwdnZGUVERZDJZo6SqJTKZrNlTemlnTullugOTfu2fAqB+m6H2/fHcIN1j2P/ZJzj8xefNlrd1FOrpflKpVDAzM0NdXR1kMhkcHR0xefJkneN8WlBQEMLCwrB582YsXbq0wSk9tVqNd999F3K5HEFBQXrbJ3Uvkt6dp1arcfDgQURHRyMrK0v7unz5MgYOHIg///nPGDZsGAwMDJCZ2XC4986dOygrK4O7u3ur+9m5cycsLCzg5+fXWR+FiPoYQ0ND7NixAyqVComJifjFL36B5ORkJCcnY8qUKUhMTIRKpUJ0dDSio6Nx4sQJ2NnZoaqqCiqVCidPnmzz3XnNJVBubm56my9KSqampnjllVc63M6T/aRQKHDy5Ek8fvwYVVVVqKqqwkcffaTX+aKMjIywevVqFBUVYfDgwdi7dy/y8/Oxd+9eDB48GEVFRVi9ejXni+rNOvEC91YdO3ZMGBkZNXl3SXh4uBg3bpwQQogVK1YIpVIpjh8/Lu7cuSO+/vprMX78eDF+/HhRV1en3QaAOHDggCgoKBC5ubni9OnTIiAgQBgaGopDhw61KzbenUdEbcF5ojhPFOeJ6l3ac/yXCdHCbR+dbM6cOairq8OJEycalWVkZMDHxweXL1+Gu7s7tm/fjiNHjuDHH3+Eo6MjXnzxRURERDSYd+XJa55MTEwwaNAgTJo0CSEhIfDy8mpXbOXl5bC0tERZWZn2lCIRUVN68ozlF3IfYP6edGz/1chGp+R+nrF8OSK9Y1ucsTxx5aQOnc57EmcsJ6m15/gvaRLVnTGJIqK+4HBGHtYn/NBkGZ+dR31Re47/kl9YTkRE0pkxwhEA4GbfH6ZNXlzu3+L25sZyJlDUZzGJIiLqwwaYG+H/vJ+ROgyiHqnbPDuPiIiIqCdhEkVERESkA57Oa0b99fZ8hh4REVHfUX/cb8t9d0yimlH/mAE++oWIiKjvqaioaHUqEU5x0Iy6ujrk5+dDoVC0+My9rlb/TL///Oc/nHqhi7HvpcO+lw77Xhrsd+kIIVBRUYGBAwdqH+XUHI5ENcPAwACDBw+WOoxmWVhY8B+WRNj30mHfS4d9Lw32uzTaOpktLywnIiIi0gGTKCIiIiIdMInqYYyNjfHee+/B2NhY6lD6HPa9dNj30mHfS4P93jPwwnIiIiIiHXAkioiIiEgHTKKIiIiIdMAkioiIiEgHTKKIiIiIdMAkqgeJiIjAhAkTYGZmBisrqybryGSyRq/Dhw93baC9TFv6PS8vD7NmzYKZmRns7e0RFhYGtVrdtYH2EUqlstFvfPv27VKH1SvFxMRAqVTCxMQEPj4+yMjIkDqkXu/9999v9Pv29PSUOixqBmcs70Fqamowf/58+Pr6IjY2ttl6Bw4cwEsvvaRdbu7AT23TWr9rNBrMmjULjo6OOHfuHAoKCrB48WL069cPkZGREkTc+23duhVvvfWWdlmhUEgYTe905MgRhIaGYs+ePfDx8cHOnTsxc+ZM3LhxA/b29lKH16uNGDECycnJ2mW5nIfq7orfTA+yZcsWAEBcXFyL9aysrODo6NgFEfUNrfX76dOncfXqVSQnJ8PBwQGjR4/Gtm3bsG7dOrz//vswMjLqwmj7BoVCwd94J9uxYwfeeustLFu2DACwZ88enDhxAvv378f69esljq53k8vl/H33EDyd1wsFBwfD1tYW3t7e2L9/PzgVWOdKT0/HyJEj4eDgoF03c+ZMlJeXIzs7W8LIeq/t27fDxsYGY8aMQVRUFE+d6llNTQ0yMzPh5+enXWdgYAA/Pz+kp6dLGFnfcOvWLQwcOBCurq544403kJeXJ3VI1AyORPUyW7duxfTp02FmZobTp08jKCgIlZWVCAkJkTq0XquwsLBBAgVAu1xYWChFSL1aSEgIvLy8MGDAAJw7dw4bNmxAQUEBduzYIXVovcb9+/eh0Wia/F1fv35doqj6Bh8fH8TFxcHDwwMFBQXYsmULJk+ejCtXrvC0dTfEkSiJrV+/vsmLwZ98teeP1jvvvIOJEydizJgxWLduHcLDwxEVFdWJn6Bn0ne/U8e05/sIDQ3F1KlTMWrUKPz6179GdHQ0Pv30U1RXV0v8KYg67uWXX8b8+fMxatQozJw5EydPnkRpaSmOHj0qdWjUBI5ESWzNmjVYunRpi3VcXV11bt/Hxwfbtm1DdXU1n8H0BH32u6OjY6O7loqKirRl1LqOfB8+Pj5Qq9XIzc2Fh4dHJ0TX99ja2sLQ0FD7O65XVFTE33QXs7Kygru7O27fvi11KNQEJlESs7Ozg52dXae1n5WVBWtrayZQT9Fnv/v6+iIiIgLFxcXau5bOnDkDCwsLDB8+XC/76O068n1kZWXBwMCAd4zpkZGREcaOHYuUlBTMnTsXAFBXV4eUlBT89re/lTa4PqayshI5OTlYtGiR1KFQE5hE9SB5eXl48OAB8vLyoNFokJWVBQAYOnQo+vfvj7///e8oKirC+PHjYWJigjNnziAyMhJr166VNvAerrV+nzFjBoYPH45Fixbhww8/RGFhITZv3ozg4GAmr3qWnp6O8+fPY9q0aVAoFEhPT8fq1auxcOFCWFtbSx1erxIaGoolS5Zg3Lhx8Pb2xs6dO/Ho0SPt3XrUOdauXYs5c+bA2dkZ+fn5eO+992BoaIjXXntN6tCoKYJ6jCVLlggAjV6pqalCCCGSkpLE6NGjRf/+/YW5ubl4/vnnxZ49e4RGo5E28B6utX4XQojc3Fzx8ssvC1NTU2FrayvWrFkjamtrpQu6l8rMzBQ+Pj7C0tJSmJiYiGeffVZERkaKqqoqqUPrlT799FPxzDPPCCMjI+Ht7S2+/fZbqUPq9QIDA4WTk5MwMjISgwYNEoGBgeL27dtSh0XNkAnB+9+JiIiI2ot35xERERHpgEkUERERkQ6YRBERERHpgEkUERERkQ6YRBERERHpgEkUERERkQ6YRBERERHpgEkUERERkQ6YRBFRjySTyfDVV19JHQYR9WFMooio2yksLMTKlSvh6uoKY2NjDBkyBHPmzEFKSorUoelFdXU1Fi1aBAsLC7i7uyM5OblBeVRUFFauXClRdETUVnwAMRF1K7m5uZg4cSKsrKwQFRWFkSNHora2FqdOnUJwcDCuX78udYgdtnfvXmRmZiI9PR1JSUl4/fXXUVRUBJlMhrt372Lfvn24ePGi1GESUSs4EkVE3UpQUBBkMhkyMjIQEBAAd3d3jBgxAqGhofj2228b1L1//z5effVVmJmZYdiwYfjb3/6mLdNoNFi+fDlcXFxgamoKDw8P/OEPf2iw/dKlSzF37lx89NFHcHJygo2NDYKDg1FbW6utU1BQgFmzZsHU1BQuLi748ssvoVQqsXPnTm2d0tJSvPnmm7Czs4OFhQWmT5+Oy5cvN/sZr127hl/+8pcYMWIEgoODUVJSgvv37wMAfvOb3+D3v/89LCwsOtKNRNQFmEQRUbfx4MED/OMf/0BwcDDMzc0blVtZWTVY3rJlCxYsWIDvv/8e/v7+eOONN/DgwQMAQF1dHQYPHoy//OUvuHr1Kt59911s3LgRR48ebdBGamoqcnJykJqaii+++AJxcXGIi4vTli9evBj5+flIS0tDfHw89u7di+Li4gZtzJ8/H8XFxUhKSkJmZia8vLzwwgsvaGN52vPPP49vvvkGKpUKp06dgpOTE2xtbXHo0CGYmJjg1Vdf1aH3iKjLCSKibuL8+fMCgEhISGi1LgCxefNm7XJlZaUAIJKSkprdJjg4WAQEBGiXlyxZIpydnYVardaumz9/vggMDBRCCHHt2jUBQFy4cEFbfuvWLQFAfPzxx0IIIc6ePSssLCxEVVVVg325ubmJP/7xj03GUVNTI4KCgoRSqRTjxo0TZ8+eFf/973+Fq6uryMvLE5s2bRJubm5ixowZ4t69e632BRFJg9dEEVG3IYRoV/1Ro0Zp35ubm8PCwqLBKFFMTAz279+PvLw8qFQq1NTUYPTo0Q3aGDFiBAwNDbXLTk5O+OGHHwAAN27cgFwuh5eXl7Z86NChsLa21i5fvnwZlZWVsLGxadCuSqVCTk5Ok3H369cPMTExDdYtW7YMISEhuHTpEr766itcvnwZH374IUJCQhAfH9/GHiGirsQkioi6jWHDhkEmk7X54vF+/fo1WJbJZKirqwMAHD58GGvXrkV0dDR8fX2hUCgQFRWF8+fPt7mNtqisrISTkxPS0tIalT19+rE5qampyM7Oxueff46wsDD4+/vD3NwcCxYswK5du9ocCxF1LSZRRNRtDBgwADNnzkRMTAxCQkIaXRdVWlra5sTk3//+NyZMmICgoCDtuuZGhprj4eEBtVqNS5cuYezYsQCA27dv4+HDh9o6Xl5eKCwshFwuh1KpbFf7AFBVVYXg4GAcOnQIhoaG0Gg02hG52tpaaDSadrdJRF2DF5YTUbcSExMDjUYDb29vxMfH49atW7h27Ro++eQT+Pr6trmdYcOG4eLFizh16hRu3ryJd955BxcuXGhXLJ6envDz88OKFSuQkZGBS5cuYcWKFTA1NYVMJgMA+Pn5wdfXF3PnzsXp06eRm5uLc+fOYdOmTW2apmDbtm3w9/fHmDFjAAATJ05EQkICvv/+e+zatQsTJ05sV8xE1HU4EkVE3Yqrqyu+++47REREYM2aNSgoKICdnR3Gjh2Lzz77rM3tvP3227h06RICAwMhk8nw2muvISgoCElJSe2K5+DBg1i+fDmmTJkCR0dHfPDBB8jOzoaJiQmAn0//nTx5Eps2bcKyZctQUlICR0dHTJkyBQ4ODi22feXKFRw9ehRZWVnadfPmzUNaWhomT54MDw8PfPnll+2Kl4i6jky090pOIqI+7N69exgyZAiSk5PxwgsvSB0OEUmISRQRUQv++c9/orKyEiNHjkRBQQHCw8Px008/4ebNm40uSieivoWn84iIWlBbW4uNGzfizp07UCgUmDBhAg4dOsQEiog4EkVERESkC96dR0RERKQDJlFEREREOmASRURERKQDJlFEREREOmASRURERKQDJlFEREREOmASRURERKQDJlFEREREOvh/HNQ4bqnPqtcAAAAASUVORK5CYII=",
      "text/plain": [
       "<Figure size 640x480 with 1 Axes>"
      ]
     },
     "metadata": {},
     "output_type": "display_data"
    }
   ],
   "source": [
    "plt.figure(figsize=(12, 6))\n",
    "df_forex.boxplot(column=\"Change %\", by=\"currency\", vert=False, grid=False)\n",
    "plt.xlabel(\"Change %\")\n",
    "plt.title(\"Box Plot of % Change for Each Currency\")\n",
    "plt.suptitle(\"\")  # Remove default suptitle\n",
    "plt.show()"
   ]
  },
  {
   "cell_type": "code",
<<<<<<< HEAD
   "execution_count": 550,
=======
   "execution_count": null,
>>>>>>> 3a2ec1de7891262211cd8d2e2f6158b3919fa56b
   "metadata": {},
   "outputs": [
    {
     "data": {
      "image/png": "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",
      "text/plain": [
       "<Figure size 2000x2500 with 15 Axes>"
      ]
     },
     "metadata": {},
     "output_type": "display_data"
    }
   ],
   "source": [
    "import matplotlib.dates as mdates\n",
    "\n",
    "# Ensure proper formatting\n",
    "df_forex[\"Date\"] = pd.to_datetime(df_forex[\"Date\"])\n",
    "df_forex[\"Change %\"] = pd.to_numeric(\n",
    "    df_forex[\"Change %\"].astype(str).str.replace(\"%\", \"\", regex=False), errors=\"coerce\"\n",
    ")\n",
    "\n",
    "# Compute axis limits\n",
    "y_min, y_max = df_forex[\"Change %\"].quantile(0.005), df_forex[\"Change %\"].quantile(\n",
    "    0.995\n",
    ")\n",
    "\n",
    "# Get ordered currencies with Developed first\n",
    "status_order = {\"Developed\": 0, \"Developing\": 1}  # Add other statuses if needed\n",
    "sorted_currencies = (\n",
    "    df_forex.drop_duplicates(\"currency\")\n",
    "    .sort_values(\"development_status\", key=lambda x: x.map(status_order))[\"currency\"]\n",
    "    .tolist()\n",
    ")\n",
    "\n",
    "# Create 5x3 grid\n",
    "fig, axes = plt.subplots(5, 3, figsize=(20, 25), sharex=True, sharey=True)\n",
    "axes = axes.flatten()\n",
    "\n",
    "# Plotting loop\n",
    "for idx, currency in enumerate(sorted_currencies):\n",
    "    if idx >= len(axes):\n",
    "        break\n",
    "\n",
    "    ax = axes[idx]\n",
    "    df_currency = df_forex[df_forex[\"currency\"] == currency].sort_values(\"Date\")\n",
    "\n",
    "    # Style parameters\n",
    "    status = df_currency[\"development_status\"].iloc[0]\n",
    "    line_color = \"darkblue\" if status == \"Developed\" else \"darkgrey\"\n",
    "\n",
    "    # Create plot\n",
    "    ax.plot(\n",
    "        df_currency[\"Date\"],\n",
    "        df_currency[\"Change %\"],\n",
    "        color=line_color,\n",
    "        alpha=0.7,\n",
    "        linewidth=1.5,\n",
    "    )\n",
    "\n",
    "    # Format axes\n",
    "    ax.xaxis.set_major_locator(mdates.YearLocator(2))\n",
    "    ax.xaxis.set_major_formatter(mdates.DateFormatter(\"%Y\"))\n",
    "    ax.tick_params(axis=\"x\", rotation=45)\n",
    "    ax.set_ylim(y_min, y_max)\n",
    "\n",
    "    # Labels\n",
    "    ax.set_title(currency, fontsize=12, pad=10)\n",
    "    ax.set_ylabel(\"% Change\", fontsize=9)\n",
    "\n",
    "plt.tight_layout()\n",
    "plt.show()"
   ]
  },
  {
   "cell_type": "code",
<<<<<<< HEAD
   "execution_count": 551,
=======
   "execution_count": 578,
>>>>>>> 3a2ec1de7891262211cd8d2e2f6158b3919fa56b
   "metadata": {},
   "outputs": [
    {
     "data": {
      "application/vnd.microsoft.datawrangler.viewer.v0+json": {
       "columns": [
        {
         "name": "index",
         "rawType": "int64",
         "type": "integer"
        },
        {
         "name": "Date",
         "rawType": "datetime64[ns]",
         "type": "datetime"
        },
        {
         "name": "Price",
         "rawType": "object",
         "type": "unknown"
        },
        {
         "name": "Open",
         "rawType": "object",
         "type": "unknown"
        },
        {
         "name": "High",
         "rawType": "object",
         "type": "unknown"
        },
        {
         "name": "Low",
         "rawType": "object",
         "type": "unknown"
        },
        {
         "name": "Vol.",
         "rawType": "object",
         "type": "unknown"
        },
        {
         "name": "Change %",
         "rawType": "float64",
         "type": "float"
        },
        {
         "name": "currency",
         "rawType": "object",
         "type": "string"
        },
        {
         "name": "country",
         "rawType": "object",
         "type": "string"
        },
        {
         "name": "development_status",
         "rawType": "object",
         "type": "string"
        }
       ],
       "conversionMethod": "pd.DataFrame",
<<<<<<< HEAD
       "ref": "3f551a39-d2dc-4b1d-82c5-2c53fda9ca71",
=======
       "ref": "f9dbb1e0-eeee-4b60-9599-db20703e1320",
>>>>>>> 3a2ec1de7891262211cd8d2e2f6158b3919fa56b
       "rows": [
        [
         "0",
         "2025-02-07 00:00:00",
         "1.5944",
         "1.5924",
         "1.5993",
         "1.5874",
         null,
         "0.19",
         "AUD",
         "Australia",
         "Developed"
        ],
        [
         "1",
         "2025-02-06 00:00:00",
         "1.5913",
         "1.5911",
         "1.599",
         "1.59",
         null,
         "0.03",
         "AUD",
         "Australia",
         "Developed"
        ],
        [
         "2",
         "2025-02-05 00:00:00",
         "1.5908",
         "1.6",
         "1.6027",
         "1.5878",
         null,
         "-0.48",
         "AUD",
         "Australia",
         "Developed"
        ],
        [
         "3",
         "2025-02-04 00:00:00",
         "1.5985",
         "1.6063",
         "1.6209",
         "1.5966",
         null,
         "-0.45",
         "AUD",
         "Australia",
         "Developed"
        ],
        [
         "4",
         "2025-02-03 00:00:00",
         "1.6057",
         "1.6102",
         "1.643",
         "1.6031",
         null,
         "-0.24",
         "AUD",
         "Australia",
         "Developed"
        ],
        [
         "5",
         "2025-01-31 00:00:00",
         "1.6095",
         "1.6105",
         "1.6124",
         "1.5966",
         null,
         "-0.03",
         "AUD",
         "Australia",
         "Developed"
        ],
        [
         "6",
         "2025-01-30 00:00:00",
         "1.61",
         "1.6053",
         "1.6132",
         "1.6013",
         null,
         "0.35",
         "AUD",
         "Australia",
         "Developed"
        ],
        [
         "7",
         "2025-01-29 00:00:00",
         "1.6044",
         "1.5991",
         "1.6104",
         "1.5984",
         null,
         "0.36",
         "AUD",
         "Australia",
         "Developed"
        ],
        [
         "8",
         "2025-01-28 00:00:00",
         "1.5987",
         "1.5892",
         "1.6035",
         "1.5887",
         null,
         "0.62",
         "AUD",
         "Australia",
         "Developed"
        ],
        [
         "9",
         "2025-01-27 00:00:00",
         "1.5888",
         "1.5821",
         "1.5938",
         "1.5813",
         null,
         "0.32",
         "AUD",
         "Australia",
         "Developed"
        ]
       ],
       "shape": {
        "columns": 10,
        "rows": 10
       }
      },
      "text/html": [
       "<div>\n",
       "<style scoped>\n",
       "    .dataframe tbody tr th:only-of-type {\n",
       "        vertical-align: middle;\n",
       "    }\n",
       "\n",
       "    .dataframe tbody tr th {\n",
       "        vertical-align: top;\n",
       "    }\n",
       "\n",
       "    .dataframe thead th {\n",
       "        text-align: right;\n",
       "    }\n",
       "</style>\n",
       "<table border=\"1\" class=\"dataframe\">\n",
       "  <thead>\n",
       "    <tr style=\"text-align: right;\">\n",
       "      <th></th>\n",
       "      <th>Date</th>\n",
       "      <th>Price</th>\n",
       "      <th>Open</th>\n",
       "      <th>High</th>\n",
       "      <th>Low</th>\n",
       "      <th>Vol.</th>\n",
       "      <th>Change %</th>\n",
       "      <th>currency</th>\n",
       "      <th>country</th>\n",
       "      <th>development_status</th>\n",
       "    </tr>\n",
       "  </thead>\n",
       "  <tbody>\n",
       "    <tr>\n",
       "      <th>0</th>\n",
       "      <td>2025-02-07</td>\n",
       "      <td>1.5944</td>\n",
       "      <td>1.5924</td>\n",
       "      <td>1.5993</td>\n",
       "      <td>1.5874</td>\n",
       "      <td>NaN</td>\n",
       "      <td>0.19</td>\n",
       "      <td>AUD</td>\n",
       "      <td>Australia</td>\n",
       "      <td>Developed</td>\n",
       "    </tr>\n",
       "    <tr>\n",
       "      <th>1</th>\n",
       "      <td>2025-02-06</td>\n",
       "      <td>1.5913</td>\n",
       "      <td>1.5911</td>\n",
       "      <td>1.599</td>\n",
       "      <td>1.59</td>\n",
       "      <td>NaN</td>\n",
       "      <td>0.03</td>\n",
       "      <td>AUD</td>\n",
       "      <td>Australia</td>\n",
       "      <td>Developed</td>\n",
       "    </tr>\n",
       "    <tr>\n",
       "      <th>2</th>\n",
       "      <td>2025-02-05</td>\n",
       "      <td>1.5908</td>\n",
       "      <td>1.6</td>\n",
       "      <td>1.6027</td>\n",
       "      <td>1.5878</td>\n",
       "      <td>NaN</td>\n",
       "      <td>-0.48</td>\n",
       "      <td>AUD</td>\n",
       "      <td>Australia</td>\n",
       "      <td>Developed</td>\n",
       "    </tr>\n",
       "    <tr>\n",
       "      <th>3</th>\n",
       "      <td>2025-02-04</td>\n",
       "      <td>1.5985</td>\n",
       "      <td>1.6063</td>\n",
       "      <td>1.6209</td>\n",
       "      <td>1.5966</td>\n",
       "      <td>NaN</td>\n",
       "      <td>-0.45</td>\n",
       "      <td>AUD</td>\n",
       "      <td>Australia</td>\n",
       "      <td>Developed</td>\n",
       "    </tr>\n",
       "    <tr>\n",
       "      <th>4</th>\n",
       "      <td>2025-02-03</td>\n",
       "      <td>1.6057</td>\n",
       "      <td>1.6102</td>\n",
       "      <td>1.643</td>\n",
       "      <td>1.6031</td>\n",
       "      <td>NaN</td>\n",
       "      <td>-0.24</td>\n",
       "      <td>AUD</td>\n",
       "      <td>Australia</td>\n",
       "      <td>Developed</td>\n",
       "    </tr>\n",
       "    <tr>\n",
       "      <th>5</th>\n",
       "      <td>2025-01-31</td>\n",
       "      <td>1.6095</td>\n",
       "      <td>1.6105</td>\n",
       "      <td>1.6124</td>\n",
       "      <td>1.5966</td>\n",
       "      <td>NaN</td>\n",
       "      <td>-0.03</td>\n",
       "      <td>AUD</td>\n",
       "      <td>Australia</td>\n",
       "      <td>Developed</td>\n",
       "    </tr>\n",
       "    <tr>\n",
       "      <th>6</th>\n",
       "      <td>2025-01-30</td>\n",
       "      <td>1.61</td>\n",
       "      <td>1.6053</td>\n",
       "      <td>1.6132</td>\n",
       "      <td>1.6013</td>\n",
       "      <td>NaN</td>\n",
       "      <td>0.35</td>\n",
       "      <td>AUD</td>\n",
       "      <td>Australia</td>\n",
       "      <td>Developed</td>\n",
       "    </tr>\n",
       "    <tr>\n",
       "      <th>7</th>\n",
       "      <td>2025-01-29</td>\n",
       "      <td>1.6044</td>\n",
       "      <td>1.5991</td>\n",
       "      <td>1.6104</td>\n",
       "      <td>1.5984</td>\n",
       "      <td>NaN</td>\n",
       "      <td>0.36</td>\n",
       "      <td>AUD</td>\n",
       "      <td>Australia</td>\n",
       "      <td>Developed</td>\n",
       "    </tr>\n",
       "    <tr>\n",
       "      <th>8</th>\n",
       "      <td>2025-01-28</td>\n",
       "      <td>1.5987</td>\n",
       "      <td>1.5892</td>\n",
       "      <td>1.6035</td>\n",
       "      <td>1.5887</td>\n",
       "      <td>NaN</td>\n",
       "      <td>0.62</td>\n",
       "      <td>AUD</td>\n",
       "      <td>Australia</td>\n",
       "      <td>Developed</td>\n",
       "    </tr>\n",
       "    <tr>\n",
       "      <th>9</th>\n",
       "      <td>2025-01-27</td>\n",
       "      <td>1.5888</td>\n",
       "      <td>1.5821</td>\n",
       "      <td>1.5938</td>\n",
       "      <td>1.5813</td>\n",
       "      <td>NaN</td>\n",
       "      <td>0.32</td>\n",
       "      <td>AUD</td>\n",
       "      <td>Australia</td>\n",
       "      <td>Developed</td>\n",
       "    </tr>\n",
       "  </tbody>\n",
       "</table>\n",
       "</div>"
      ],
      "text/plain": [
       "        Date   Price    Open    High     Low Vol.  Change % currency  \\\n",
       "0 2025-02-07  1.5944  1.5924  1.5993  1.5874  NaN      0.19      AUD   \n",
       "1 2025-02-06  1.5913  1.5911   1.599    1.59  NaN      0.03      AUD   \n",
       "2 2025-02-05  1.5908     1.6  1.6027  1.5878  NaN     -0.48      AUD   \n",
       "3 2025-02-04  1.5985  1.6063  1.6209  1.5966  NaN     -0.45      AUD   \n",
       "4 2025-02-03  1.6057  1.6102   1.643  1.6031  NaN     -0.24      AUD   \n",
       "5 2025-01-31  1.6095  1.6105  1.6124  1.5966  NaN     -0.03      AUD   \n",
       "6 2025-01-30    1.61  1.6053  1.6132  1.6013  NaN      0.35      AUD   \n",
       "7 2025-01-29  1.6044  1.5991  1.6104  1.5984  NaN      0.36      AUD   \n",
       "8 2025-01-28  1.5987  1.5892  1.6035  1.5887  NaN      0.62      AUD   \n",
       "9 2025-01-27  1.5888  1.5821  1.5938  1.5813  NaN      0.32      AUD   \n",
       "\n",
       "     country development_status  \n",
       "0  Australia          Developed  \n",
       "1  Australia          Developed  \n",
       "2  Australia          Developed  \n",
       "3  Australia          Developed  \n",
       "4  Australia          Developed  \n",
       "5  Australia          Developed  \n",
       "6  Australia          Developed  \n",
       "7  Australia          Developed  \n",
       "8  Australia          Developed  \n",
       "9  Australia          Developed  "
      ]
     },
<<<<<<< HEAD
     "execution_count": 551,
=======
     "execution_count": 578,
>>>>>>> 3a2ec1de7891262211cd8d2e2f6158b3919fa56b
     "metadata": {},
     "output_type": "execute_result"
    }
   ],
   "source": [
    "df_forex.head(10)"
   ]
  },
  {
   "cell_type": "code",
<<<<<<< HEAD
   "execution_count": 552,
=======
   "execution_count": null,
>>>>>>> 3a2ec1de7891262211cd8d2e2f6158b3919fa56b
   "metadata": {},
   "outputs": [
    {
     "data": {
      "text/plain": [
       "foreign_policy_category\n",
       "Geopolitics       2878\n",
       "War                467\n",
       "Deals              380\n",
       "Diplomacy          279\n",
       "Uncategorized      262\n",
       "Tariffs            151\n",
       "Security           106\n",
       "Sanctions           61\n",
       "Energy Policy       42\n",
       "Human Rights        23\n",
       "Nuclear Policy      22\n",
       "Name: count, dtype: int64"
      ]
     },
<<<<<<< HEAD
     "execution_count": 552,
=======
     "execution_count": 579,
>>>>>>> 3a2ec1de7891262211cd8d2e2f6158b3919fa56b
     "metadata": {},
     "output_type": "execute_result"
    }
   ],
   "source": [
    "tweets = pd.read_csv(r\"trump_datasets/foreign_policy_df.csv\")\n",
    "tweets[\"foreign_policy_category\"].value_counts()"
   ]
  },
  {
   "cell_type": "code",
<<<<<<< HEAD
   "execution_count": 553,
=======
   "execution_count": null,
>>>>>>> 3a2ec1de7891262211cd8d2e2f6158b3919fa56b
   "metadata": {},
   "outputs": [
    {
     "data": {
      "application/vnd.microsoft.datawrangler.viewer.v0+json": {
       "columns": [
        {
         "name": "index",
         "rawType": "int64",
         "type": "integer"
        },
        {
         "name": "Unnamed: 0",
         "rawType": "int64",
         "type": "integer"
        },
        {
         "name": "text",
         "rawType": "object",
         "type": "string"
        },
        {
         "name": "date",
         "rawType": "object",
         "type": "string"
        },
        {
         "name": "foreign_policy",
         "rawType": "object",
         "type": "string"
        },
        {
         "name": "foreign_policy_category",
         "rawType": "object",
         "type": "string"
        },
        {
         "name": "topic",
         "rawType": "int64",
         "type": "integer"
        },
        {
         "name": "cluster",
         "rawType": "int64",
         "type": "integer"
        }
       ],
       "conversionMethod": "pd.DataFrame",
<<<<<<< HEAD
       "ref": "99bd9d85-4f6b-4606-8e2b-df52523d72a2",
=======
       "ref": "a6b26a3c-675b-4d64-9c9e-ba521dda2710",
>>>>>>> 3a2ec1de7891262211cd8d2e2f6158b3919fa56b
       "rows": [
        [
         "5",
         "72",
         "The Senate should immediately vote on the Iranian sanctions bill. What is the delay? Iran is already breaking its agreement with Obama",
         "2014-01-15 19:04:00",
         "Foreign Policy",
         "Deals",
         "8",
         "6"
        ],
        [
         "47",
         "529",
         "Why did Pres Obama remove sanctions against Iran prior to negotiating rather than completing successful negotiation &amp, then remove sanctions?",
         "2014-04-18 15:51:00",
         "Foreign Policy",
         "Deals",
         "1",
         "6"
        ],
        [
         "53",
         "576",
         "South Korea is absolutely killing us on trade deals. Their surplus vs U.S. is massive - and we pay for their protection. WHO NEGOTIATES?",
         "2014-04-24 11:13:00",
         "Foreign Policy",
         "Deals",
         "4",
         "1"
        ],
        [
         "54",
         "584",
         "N.Y.Times headline states Obama suffers setbacks in Japan trade deal. Can somebody please tell him that with all they sell us, WE HAVE CARDS",
         "2014-04-25 10:43:00",
         "Foreign Policy",
         "Deals",
         "9",
         "8"
        ],
        [
         "55",
         "585",
         "We allow Japan to sell us millions of cars with zero import tax and we can't make a trade deal with them - our country is in big trouble!",
         "2014-04-25 11:15:00",
         "Foreign Policy",
         "Tariffs",
         "4",
         "8"
        ],
        [
         "68",
         "725",
         "A classic - China just signs massive oil and gas deal with Russia giving Russia plenty of ammo to continue laughing in U.S. face.",
         "2014-05-20 05:45:00",
         "Foreign Policy",
         "Deals",
         "2",
         "5"
        ],
        [
         "76",
         "819",
         "US trade deficit hit $64B+ in April, 2 yr record high http://t.co/e5RuDJxexp We must do better. China is ripping us. Bring the jobs home!",
         "2014-06-04 15:37:00",
         "Foreign Policy",
         "Tariffs",
         "2",
         "9"
        ],
        [
         "81",
         "843",
         "\"The same \"\"brilliant\"\" negotiators that gave up five Taliban leaders for one traitor  are now making trade deals with China &amp, others.No chance\"",
         "2014-06-08 13:44:00",
         "Foreign Policy",
         "Deals",
         "6",
         "9"
        ],
        [
         "119",
         "1115",
         "Iran looks like it is toying with John Kerry on nuclear talks - he is begging for a deal to save face. Negotiation is just not his thing!",
         "2014-07-15 12:57:00",
         "Foreign Policy",
         "Deals",
         "3",
         "6"
        ],
        [
         "134",
         "1304",
         "Sorry, won't be doing Fox &amp, Friends this morning - will be in India on a couple of major business deals!",
         "2014-08-11 10:16:00",
         "Foreign Policy",
         "Deals",
         "6",
         "8"
        ],
        [
         "161",
         "1615",
         "The United States must immediately institute strong travel restrictions or Ebola will be all over the United States-a plague like no other!",
         "2014-10-01 00:36:00",
         "Foreign Policy",
         "Sanctions",
         "1",
         "3"
        ],
        [
         "203",
         "1990",
         "Do not go back into Iraq unless they agree, in a signed formal instrument, to give the U.S. 50% of their oil reserves.Make the deal dummies!",
         "2014-11-08 02:39:00",
         "Foreign Policy",
         "Deals",
         "1",
         "8"
        ],
        [
         "206",
         "2043",
         "Obama’s China ‘climate’ deal binds America with language of ‘will’ curb emissions now while China only ‘intends’ to curb in 2030. Bad deal!",
         "2014-11-17 21:29:00",
         "Foreign Policy",
         "Deals",
         "1",
         "9"
        ],
        [
         "208",
         "2102",
         "Iran and the United States just pushed deadline back SEVEN MONTHS on working out a nuclear deal. Iran is tapping along our bad negotiators!",
         "2014-11-24 23:47:00",
         "Foreign Policy",
         "Deals",
         "6",
         "6"
        ],
        [
         "213",
         "2174",
         "Obama opposes sanctions on Iran http://t.co/SGqN0gmc5y They are laughing at Kerry &amp, Obama!",
         "2014-12-08 21:53:00",
         "Foreign Policy",
         "Sanctions",
         "0",
         "6"
        ],
        [
         "232",
         "2730",
         "The talks between the U.S. and Iran are going on forever,  WORLD'S LONGEST NEGOTIATION. Obama has no idea what he is doing - incompetent!",
         "2015-02-23 23:35:00",
         "Foreign Policy",
         "Deals",
         "6",
         "6"
        ],
        [
         "242",
         "2805",
         "Just as I have been saying for MANY years, and while they phony negotiate with the U.S. over nuclear, Iran is taking over Iraq. Really sad!",
         "2015-03-12 12:29:00",
         "Foreign Policy",
         "Deals",
         "8",
         "6"
        ],
        [
         "247",
         "2863",
         "Message to Obama re: Iran: “The worst thing you can possibly do in a deal is seem desperate to make it.” – The Art of the Deal",
         "2015-03-26 19:11:00",
         "Foreign Policy",
         "Deals",
         "3",
         "6"
        ],
        [
         "249",
         "2877",
         "Iran is desperate to develop nukes. Congress must increase sanctions against Iran.",
         "2015-03-31 16:28:00",
         "Foreign Policy",
         "Sanctions",
         "2",
         "6"
        ],
        [
         "252",
         "2888",
         "Each day that Iran delays the deal, if that is what you call it, we must add another sanction, and make them progressively tough.",
         "2015-04-01 00:37:00",
         "Foreign Policy",
         "Deals",
         "4",
         "6"
        ],
        [
         "254",
         "2894",
         "Via @Newsmax_Media by @OwenTew: “Donald Trump: Kerry Has to Walk If Iran Doesn't Make Deal” http://t.co/EUgOIXNC0M",
         "2015-04-01 18:58:00",
         "Foreign Policy",
         "Deals",
         "2",
         "6"
        ],
        [
         "255",
         "2897",
         "Obama’s offer to Iran will not stop Iran’s breakout capability. It is a bad, desperate deal negotiated from weakness. Pass sanctions!",
         "2015-04-01 19:38:00",
         "Foreign Policy",
         "Deals",
         "2",
         "6"
        ],
        [
         "257",
         "2902",
         "Watch my @oreillyfactor appearance from this week discussing nuclear negotiations with Iran- http://t.co/gAdKBSkpzX",
         "2015-04-02 17:24:00",
         "Foreign Policy",
         "Deals",
         "1",
         "6"
        ],
        [
         "258",
         "2904",
         "Oil is under $50/barrel. Now is the time to increase sanctions against Iran, not lift them. No deal is better than a bad deal. #ArtOfTheDeal",
         "2015-04-02 20:54:00",
         "Foreign Policy",
         "Deals",
         "2",
         "6"
        ],
        [
         "259",
         "2907",
         "The Iran nuclear deal is a terrible one for the United States and the world. It does nothing but make Iran rich and will lead to catastrophe",
         "2015-04-03 23:06:00",
         "Foreign Policy",
         "Deals",
         "6",
         "6"
        ],
        [
         "260",
         "2914",
         "Congress must stop Obama’s reckless deal with Iran. The framework is a pathway for Iran to develop nukes.",
         "2015-04-06 14:42:00",
         "Foreign Policy",
         "Deals",
         "6",
         "6"
        ],
        [
         "261",
         "2921",
         "“Obama’s promises on the Iran deal are like him promising ‘if you like your healthcare plan, you can keep it’” - @marklevinshow",
         "2015-04-06 22:11:00",
         "Foreign Policy",
         "Deals",
         "2",
         "6"
        ],
        [
         "270",
         "3005",
         "We are stupidly paying Iran billions of dollars that we should not be paying. Why isn't this part of the nuclear negotiations? Really dumb!",
         "2015-04-20 22:45:00",
         "Foreign Policy",
         "Deals",
         "2",
         "6"
        ],
        [
         "272",
         "3021",
         "Republicans have once again capitulated to Obama. This time on the Iran nuclear treaty. When will it end?",
         "2015-04-21 17:31:00",
         "Foreign Policy",
         "Deals",
         "6",
         "6"
        ],
        [
         "275",
         "3043",
         "China has a backdoor into the Trans-Pacific Partnership. This deal does not address currency manipulation. China is laughing at us.",
         "2015-04-22 21:01:00",
         "Foreign Policy",
         "Deals",
         "6",
         "9"
        ],
        [
         "276",
         "3054",
         "Why are the Republicans giving Obama fast track authority for TPP and the Iran agreement?! Obama gets more from the GOP than his own party.",
         "2015-04-23 17:55:00",
         "Foreign Policy",
         "Deals",
         "6",
         "6"
        ],
        [
         "279",
         "3069",
         ".@PennyPritzker Really important to cover currency manipulation in trade agreements - that's where China and others are beating us. Best!",
         "2015-04-25 15:20:00",
         "Foreign Policy",
         "Deals",
         "4",
         "9"
        ],
        [
         "284",
         "3150",
         "The United States needs great deals - and fast. We have to make our country rich again in order to MAKE OUR COUNTRY GREAT AGAIN!",
         "2015-05-06 23:33:00",
         "Foreign Policy",
         "Deals",
         "6",
         "3"
        ],
        [
         "305",
         "3358",
         "Just as I predicted, while Obama lifted sanctions 18 months ago, Iran cheated &amp, increased its nuclear fuel by 20%. We must DOUBLE sanctions!",
         "2015-06-03 19:36:00",
         "Foreign Policy",
         "Sanctions",
         "0",
         "6"
        ],
        [
         "308",
         "3391",
         "Going to Scotland, Ireland &amp, other places in Europe to close up deals. Getting ready for the June 16th announcement @TrumpTowerNY!",
         "2015-06-07 20:19:00",
         "Foreign Policy",
         "Deals",
         "6",
         "8"
        ],
        [
         "315",
         "3486",
         "Mexico is killing the United States economically because their leaders and negotiators are FAR smarter than ours. But nobody beats Trump!",
         "2015-06-20 01:54:00",
         "Foreign Policy",
         "Deals",
         "8",
         "3"
        ],
        [
         "316",
         "3490",
         "Who would you rather have negotiating for the U.S. against Putin, Iran, China, etc., Donald Trump or Hillary? Is there even a little doubt?",
         "2015-06-21 00:57:00",
         "Foreign Policy",
         "Deals",
         "0",
         "6"
        ],
        [
         "318",
         "3538",
         "Univision wants to back out of signed @MissUniverse contract because I exposed the terrible trade deals that the U.S. makes with Mexico.",
         "2015-06-25 14:27:00",
         "Foreign Policy",
         "Deals",
         "8",
         "4"
        ],
        [
         "319",
         "3539",
         "I love Mexico but not the unfair trade deals that the US so stupidly makes with them. Really bad for US jobs, only good for Mexico.",
         "2015-06-25 14:27:00",
         "Foreign Policy",
         "Deals",
         "4",
         "4"
        ],
        [
         "321",
         "3548",
         "Only very stupid people think that the United States is making good trade deals with Mexico.Mexico is killing us at the border and at trade!",
         "2015-06-27 17:17:00",
         "Foreign Policy",
         "Deals",
         "4",
         "4"
        ],
        [
         "322",
         "3549",
         "The leader and negotiators representing Mexico are far smarter and more cunning than the leader and negotiators representing the U.S.!",
         "2015-06-27 17:20:00",
         "Foreign Policy",
         "Deals",
         "3",
         "4"
        ],
        [
         "329",
         "3596",
         "Obama once again just missed a self-imposed deadline with Iran. Our leadership is weak &amp, ineffective. Double the sanctions!",
         "2015-07-02 19:41:00",
         "Foreign Policy",
         "Sanctions",
         "4",
         "6"
        ],
        [
         "330",
         "3599",
         "Mexican leaders and negotiators are much tougher and smarter than those of the U.S. Mexico is killing us on jobs and trade. WAKE UP!",
         "2015-07-03 11:09:00",
         "Foreign Policy",
         "Deals",
         "3",
         "4"
        ],
        [
         "331",
         "3647",
         "Watched chief negotiator for Iran on @charlierose last night. He is far smarter than our reps—increase sanctions and walk!",
         "2015-07-09 16:36:00",
         "Foreign Policy",
         "Deals",
         "5",
         "6"
        ],
        [
         "332",
         "3665",
         "Iran continues to delay the nuclear deal while doing many bad things behind our backs. Time to WALK and double the sanctions. Stop payments!",
         "2015-07-10 13:25:00",
         "Foreign Policy",
         "Deals",
         "2",
         "6"
        ],
        [
         "339",
         "3743",
         "No deal is better than a bad deal. America out negotiated again.  #Iran",
         "2015-07-16 19:20:00",
         "Foreign Policy",
         "Deals",
         "6",
         "6"
        ],
        [
         "340",
         "3746",
         "The Iran deal poses a direct national security threat. It must be stopped in Congress. Stand up Republicans!",
         "2015-07-16 19:57:00",
         "Foreign Policy",
         "Deals",
         "6",
         "6"
        ],
        [
         "342",
         "3900",
         "Obama’s nuclear deal with the Iranians will lead to a nuclear arms race in the Middle East. It has to be stopped.",
         "2015-07-28 19:00:00",
         "Foreign Policy",
         "Deals",
         "6",
         "6"
        ],
        [
         "351",
         "4122",
         "A terrible deal with Iran! https://t.co/dHDFOG3tfp",
         "2015-09-02 18:17:00",
         "Foreign Policy",
         "Deals",
         "2",
         "6"
        ],
        [
         "352",
         "4127",
         "The deal with Iran will go down as one of the most incompetent ever made. The U.S. lost on virtually every point. We just don't win anymore!",
         "2015-09-03 02:35:00",
         "Foreign Policy",
         "Deals",
         "2",
         "6"
        ]
       ],
       "shape": {
        "columns": 7,
        "rows": 592
       }
      },
      "text/html": [
       "<div>\n",
       "<style scoped>\n",
       "    .dataframe tbody tr th:only-of-type {\n",
       "        vertical-align: middle;\n",
       "    }\n",
       "\n",
       "    .dataframe tbody tr th {\n",
       "        vertical-align: top;\n",
       "    }\n",
       "\n",
       "    .dataframe thead th {\n",
       "        text-align: right;\n",
       "    }\n",
       "</style>\n",
       "<table border=\"1\" class=\"dataframe\">\n",
       "  <thead>\n",
       "    <tr style=\"text-align: right;\">\n",
       "      <th></th>\n",
       "      <th>Unnamed: 0</th>\n",
       "      <th>text</th>\n",
       "      <th>date</th>\n",
       "      <th>foreign_policy</th>\n",
       "      <th>foreign_policy_category</th>\n",
       "      <th>topic</th>\n",
       "      <th>cluster</th>\n",
       "    </tr>\n",
       "  </thead>\n",
       "  <tbody>\n",
       "    <tr>\n",
       "      <th>5</th>\n",
       "      <td>72</td>\n",
       "      <td>The Senate should immediately vote on the Iran...</td>\n",
       "      <td>2014-01-15 19:04:00</td>\n",
       "      <td>Foreign Policy</td>\n",
       "      <td>Deals</td>\n",
       "      <td>8</td>\n",
       "      <td>6</td>\n",
       "    </tr>\n",
       "    <tr>\n",
       "      <th>47</th>\n",
       "      <td>529</td>\n",
       "      <td>Why did Pres Obama remove sanctions against Ir...</td>\n",
       "      <td>2014-04-18 15:51:00</td>\n",
       "      <td>Foreign Policy</td>\n",
       "      <td>Deals</td>\n",
       "      <td>1</td>\n",
       "      <td>6</td>\n",
       "    </tr>\n",
       "    <tr>\n",
       "      <th>53</th>\n",
       "      <td>576</td>\n",
       "      <td>South Korea is absolutely killing us on trade ...</td>\n",
       "      <td>2014-04-24 11:13:00</td>\n",
       "      <td>Foreign Policy</td>\n",
       "      <td>Deals</td>\n",
       "      <td>4</td>\n",
       "      <td>1</td>\n",
       "    </tr>\n",
       "    <tr>\n",
       "      <th>54</th>\n",
       "      <td>584</td>\n",
       "      <td>N.Y.Times headline states Obama suffers setbac...</td>\n",
       "      <td>2014-04-25 10:43:00</td>\n",
       "      <td>Foreign Policy</td>\n",
       "      <td>Deals</td>\n",
       "      <td>9</td>\n",
       "      <td>8</td>\n",
       "    </tr>\n",
       "    <tr>\n",
       "      <th>55</th>\n",
       "      <td>585</td>\n",
       "      <td>We allow Japan to sell us millions of cars wit...</td>\n",
       "      <td>2014-04-25 11:15:00</td>\n",
       "      <td>Foreign Policy</td>\n",
       "      <td>Tariffs</td>\n",
       "      <td>4</td>\n",
       "      <td>8</td>\n",
       "    </tr>\n",
       "    <tr>\n",
       "      <th>...</th>\n",
       "      <td>...</td>\n",
       "      <td>...</td>\n",
       "      <td>...</td>\n",
       "      <td>...</td>\n",
       "      <td>...</td>\n",
       "      <td>...</td>\n",
       "      <td>...</td>\n",
       "    </tr>\n",
       "    <tr>\n",
       "      <th>4551</th>\n",
       "      <td>37965</td>\n",
       "      <td>So when are they going to release the details ...</td>\n",
       "      <td>08/01/2024 13:33</td>\n",
       "      <td>Foreign Policy</td>\n",
       "      <td>Deals</td>\n",
       "      <td>6</td>\n",
       "      <td>3</td>\n",
       "    </tr>\n",
       "    <tr>\n",
       "      <th>4555</th>\n",
       "      <td>37988</td>\n",
       "      <td>Crazy Kamala is saying she’s Indian, not Black...</td>\n",
       "      <td>07/31/2024 16:41</td>\n",
       "      <td>Foreign Policy</td>\n",
       "      <td>Deals</td>\n",
       "      <td>4</td>\n",
       "      <td>8</td>\n",
       "    </tr>\n",
       "    <tr>\n",
       "      <th>4556</th>\n",
       "      <td>37995</td>\n",
       "      <td>Crazy Kamala Harris should never have taken th...</td>\n",
       "      <td>07/31/2024 14:12</td>\n",
       "      <td>Foreign Policy</td>\n",
       "      <td>Deals</td>\n",
       "      <td>5</td>\n",
       "      <td>8</td>\n",
       "    </tr>\n",
       "    <tr>\n",
       "      <th>4619</th>\n",
       "      <td>38761</td>\n",
       "      <td>“Dollar and euro trade halted on Russia’s bigg...</td>\n",
       "      <td>06/18/2024 21:34</td>\n",
       "      <td>Foreign Policy</td>\n",
       "      <td>Deals</td>\n",
       "      <td>0</td>\n",
       "      <td>8</td>\n",
       "    </tr>\n",
       "    <tr>\n",
       "      <th>4630</th>\n",
       "      <td>38849</td>\n",
       "      <td>WE MUST HAVE FREE AND FAIR ELECTIONS! Look at ...</td>\n",
       "      <td>06/16/2024 11:17</td>\n",
       "      <td>Foreign Policy</td>\n",
       "      <td>Deals</td>\n",
       "      <td>4</td>\n",
       "      <td>8</td>\n",
       "    </tr>\n",
       "  </tbody>\n",
       "</table>\n",
       "<p>592 rows × 7 columns</p>\n",
       "</div>"
      ],
      "text/plain": [
       "      Unnamed: 0                                               text  \\\n",
       "5             72  The Senate should immediately vote on the Iran...   \n",
       "47           529  Why did Pres Obama remove sanctions against Ir...   \n",
       "53           576  South Korea is absolutely killing us on trade ...   \n",
       "54           584  N.Y.Times headline states Obama suffers setbac...   \n",
       "55           585  We allow Japan to sell us millions of cars wit...   \n",
       "...          ...                                                ...   \n",
       "4551       37965  So when are they going to release the details ...   \n",
       "4555       37988  Crazy Kamala is saying she’s Indian, not Black...   \n",
       "4556       37995  Crazy Kamala Harris should never have taken th...   \n",
       "4619       38761  “Dollar and euro trade halted on Russia’s bigg...   \n",
       "4630       38849  WE MUST HAVE FREE AND FAIR ELECTIONS! Look at ...   \n",
       "\n",
       "                     date  foreign_policy foreign_policy_category  topic  \\\n",
       "5     2014-01-15 19:04:00  Foreign Policy                   Deals      8   \n",
       "47    2014-04-18 15:51:00  Foreign Policy                   Deals      1   \n",
       "53    2014-04-24 11:13:00  Foreign Policy                   Deals      4   \n",
       "54    2014-04-25 10:43:00  Foreign Policy                   Deals      9   \n",
       "55    2014-04-25 11:15:00  Foreign Policy                 Tariffs      4   \n",
       "...                   ...             ...                     ...    ...   \n",
       "4551     08/01/2024 13:33  Foreign Policy                   Deals      6   \n",
       "4555     07/31/2024 16:41  Foreign Policy                   Deals      4   \n",
       "4556     07/31/2024 14:12  Foreign Policy                   Deals      5   \n",
       "4619     06/18/2024 21:34  Foreign Policy                   Deals      0   \n",
       "4630     06/16/2024 11:17  Foreign Policy                   Deals      4   \n",
       "\n",
       "      cluster  \n",
       "5           6  \n",
       "47          6  \n",
       "53          1  \n",
       "54          8  \n",
       "55          8  \n",
       "...       ...  \n",
       "4551        3  \n",
       "4555        8  \n",
       "4556        8  \n",
       "4619        8  \n",
       "4630        8  \n",
       "\n",
       "[592 rows x 7 columns]"
      ]
     },
<<<<<<< HEAD
     "execution_count": 553,
=======
     "execution_count": 580,
>>>>>>> 3a2ec1de7891262211cd8d2e2f6158b3919fa56b
     "metadata": {},
     "output_type": "execute_result"
    }
   ],
   "source": [
    "tweets[\"foreign_policy_category\"].value_counts()\n",
    "# Adding Deals, Sanctions, Tariifs\n",
    "# deals = tweets[tweets['foreign_policy_category'] == 'Deals']\n",
    "# deals\n",
    "\n",
    "tweet_treatment = tweets[\n",
    "    tweets[\"foreign_policy_category\"].isin([\"Deals\", \"Tariffs\", \"Sanctions\"])\n",
    "].copy()\n",
    "tweet_treatment"
   ]
  },
  {
   "cell_type": "code",
<<<<<<< HEAD
   "execution_count": 554,
=======
   "execution_count": null,
>>>>>>> 3a2ec1de7891262211cd8d2e2f6158b3919fa56b
   "metadata": {},
   "outputs": [
    {
     "name": "stdout",
     "output_type": "stream",
     "text": [
      "(592, 2)\n",
      "(592, 3)\n"
     ]
    },
    {
     "name": "stderr",
     "output_type": "stream",
     "text": [
<<<<<<< HEAD
      "C:\\Users\\chris\\AppData\\Local\\Temp\\ipykernel_20576\\3436067783.py:4: SettingWithCopyWarning: \n",
=======
      "C:\\Users\\chris\\AppData\\Local\\Temp\\ipykernel_24284\\4030424996.py:4: SettingWithCopyWarning: \n",
>>>>>>> 3a2ec1de7891262211cd8d2e2f6158b3919fa56b
      "A value is trying to be set on a copy of a slice from a DataFrame.\n",
      "Try using .loc[row_indexer,col_indexer] = value instead\n",
      "\n",
      "See the caveats in the documentation: https://pandas.pydata.org/pandas-docs/stable/user_guide/indexing.html#returning-a-view-versus-a-copy\n",
<<<<<<< HEAD
      "  tweet_treatment[\"date\"] = pd.to_datetime(tweet_treatment[\"date\"], errors=\"coerce\")\n",
      "C:\\Users\\chris\\AppData\\Local\\Temp\\ipykernel_20576\\3436067783.py:5: SettingWithCopyWarning: \n",
=======
      "  tweet_treatment['date'] = pd.to_datetime(tweet_treatment['date'], errors='coerce')\n",
      "C:\\Users\\chris\\AppData\\Local\\Temp\\ipykernel_24284\\4030424996.py:5: SettingWithCopyWarning: \n",
>>>>>>> 3a2ec1de7891262211cd8d2e2f6158b3919fa56b
      "A value is trying to be set on a copy of a slice from a DataFrame.\n",
      "Try using .loc[row_indexer,col_indexer] = value instead\n",
      "\n",
      "See the caveats in the documentation: https://pandas.pydata.org/pandas-docs/stable/user_guide/indexing.html#returning-a-view-versus-a-copy\n",
<<<<<<< HEAD
      "  tweet_treatment[\"day_of_week\"] = tweet_treatment[\"date\"].dt.day_name()\n",
      "C:\\Users\\chris\\AppData\\Local\\Temp\\ipykernel_20576\\3436067783.py:11: SettingWithCopyWarning: \n",
=======
      "  tweet_treatment['day_of_week'] = tweet_treatment['date'].dt.day_name()\n",
      "C:\\Users\\chris\\AppData\\Local\\Temp\\ipykernel_24284\\4030424996.py:11: SettingWithCopyWarning: \n",
>>>>>>> 3a2ec1de7891262211cd8d2e2f6158b3919fa56b
      "A value is trying to be set on a copy of a slice from a DataFrame.\n",
      "Try using .loc[row_indexer,col_indexer] = value instead\n",
      "\n",
      "See the caveats in the documentation: https://pandas.pydata.org/pandas-docs/stable/user_guide/indexing.html#returning-a-view-versus-a-copy\n",
<<<<<<< HEAD
      "  tweet_treatment[\"date\"] += (\n"
=======
      "  tweet_treatment['date'] += tweet_treatment['day_of_week'].map({\n"
>>>>>>> 3a2ec1de7891262211cd8d2e2f6158b3919fa56b
     ]
    }
   ],
   "source": [
    "tweet_treatment = tweet_treatment[[\"date\", \"foreign_policy_category\"]]\n",
    "\n",
    "print(tweet_treatment.shape)\n",
    "tweet_treatment[\"date\"] = pd.to_datetime(tweet_treatment[\"date\"], errors=\"coerce\")\n",
    "tweet_treatment[\"day_of_week\"] = tweet_treatment[\"date\"].dt.day_name()\n",
    "print(tweet_treatment.shape)\n",
    "\n",
    "\n",
    "# add 1 to date if sunday, 2 if saturday\n",
    "# Shift dates for weekend tweets\n",
    "tweet_treatment[\"date\"] += (\n",
    "    tweet_treatment[\"day_of_week\"]\n",
    "    .map({\"Sunday\": pd.Timedelta(days=1), \"Saturday\": pd.Timedelta(days=2)})\n",
    "    .fillna(pd.Timedelta(days=0))\n",
    ")"
   ]
  },
  {
   "cell_type": "code",
<<<<<<< HEAD
   "execution_count": 555,
=======
   "execution_count": null,
>>>>>>> 3a2ec1de7891262211cd8d2e2f6158b3919fa56b
   "metadata": {},
   "outputs": [],
   "source": [
    "tweet_treatment = tweet_treatment[[\"date\", \"foreign_policy_category\"]]"
   ]
  },
  {
   "cell_type": "code",
<<<<<<< HEAD
   "execution_count": 556,
=======
   "execution_count": null,
>>>>>>> 3a2ec1de7891262211cd8d2e2f6158b3919fa56b
   "metadata": {},
   "outputs": [
    {
     "data": {
      "application/vnd.microsoft.datawrangler.viewer.v0+json": {
       "columns": [
        {
         "name": "index",
         "rawType": "int64",
         "type": "integer"
        },
        {
         "name": "Date",
         "rawType": "object",
         "type": "string"
        },
        {
         "name": "Price",
         "rawType": "object",
         "type": "unknown"
        },
        {
         "name": "Open",
         "rawType": "object",
         "type": "unknown"
        },
        {
         "name": "High",
         "rawType": "object",
         "type": "unknown"
        },
        {
         "name": "Low",
         "rawType": "object",
         "type": "unknown"
        },
        {
         "name": "Vol.",
         "rawType": "object",
         "type": "unknown"
        },
        {
         "name": "Change %",
         "rawType": "float64",
         "type": "float"
        },
        {
         "name": "currency",
         "rawType": "object",
         "type": "string"
        },
        {
         "name": "country",
         "rawType": "object",
         "type": "string"
        },
        {
         "name": "development_status",
         "rawType": "object",
         "type": "string"
        },
        {
         "name": "date",
         "rawType": "object",
         "type": "unknown"
        },
        {
         "name": "foreign_policy_category",
         "rawType": "object",
         "type": "unknown"
        },
        {
         "name": "_merge",
         "rawType": "category",
         "type": "unknown"
        }
       ],
       "conversionMethod": "pd.DataFrame",
<<<<<<< HEAD
       "ref": "c28f8411-3afe-4a65-9e6c-2b66034314e7",
=======
       "ref": "332612b0-08f7-4453-ba5d-2f1f608fed70",
>>>>>>> 3a2ec1de7891262211cd8d2e2f6158b3919fa56b
       "rows": [
        [
         "0",
         "2025-02-07",
         "1.5944",
         "1.5924",
         "1.5993",
         "1.5874",
         null,
         "0.19",
         "AUD",
         "Australia",
         "Developed",
         null,
         null,
         "left_only"
        ],
        [
         "1",
         "2025-02-06",
         "1.5913",
         "1.5911",
         "1.599",
         "1.59",
         null,
         "0.03",
         "AUD",
         "Australia",
         "Developed",
         null,
         null,
         "left_only"
        ],
        [
         "2",
         "2025-02-05",
         "1.5908",
         "1.6",
         "1.6027",
         "1.5878",
         null,
         "-0.48",
         "AUD",
         "Australia",
         "Developed",
         null,
         null,
         "left_only"
        ],
        [
         "3",
         "2025-02-04",
         "1.5985",
         "1.6063",
         "1.6209",
         "1.5966",
         null,
         "-0.45",
         "AUD",
         "Australia",
         "Developed",
         null,
         null,
         "left_only"
        ],
        [
         "4",
         "2025-02-03",
         "1.6057",
         "1.6102",
         "1.643",
         "1.6031",
         null,
         "-0.24",
         "AUD",
         "Australia",
         "Developed",
         null,
         null,
         "left_only"
        ],
        [
         "5",
         "2025-01-31",
         "1.6095",
         "1.6105",
         "1.6124",
         "1.5966",
         null,
         "-0.03",
         "AUD",
         "Australia",
         "Developed",
         null,
         null,
         "left_only"
        ],
        [
         "6",
         "2025-01-30",
         "1.61",
         "1.6053",
         "1.6132",
         "1.6013",
         null,
         "0.35",
         "AUD",
         "Australia",
         "Developed",
         null,
         null,
         "left_only"
        ],
        [
         "7",
         "2025-01-29",
         "1.6044",
         "1.5991",
         "1.6104",
         "1.5984",
         null,
         "0.36",
         "AUD",
         "Australia",
         "Developed",
         null,
         null,
         "left_only"
        ],
        [
         "8",
         "2025-01-28",
         "1.5987",
         "1.5892",
         "1.6035",
         "1.5887",
         null,
         "0.62",
         "AUD",
         "Australia",
         "Developed",
         null,
         null,
         "left_only"
        ],
        [
         "9",
         "2025-01-27",
         "1.5888",
         "1.5821",
         "1.5938",
         "1.5813",
         null,
         "0.32",
         "AUD",
         "Australia",
         "Developed",
         null,
         null,
         "left_only"
        ],
        [
         "10",
         "2025-01-24",
         "1.5838",
         "1.5909",
         "1.593",
         "1.5793",
         null,
         "-0.44",
         "AUD",
         "Australia",
         "Developed",
         null,
         null,
         "left_only"
        ],
        [
         "11",
         "2025-01-23",
         "1.5908",
         "1.594",
         "1.5989",
         "1.5871",
         null,
         "-0.19",
         "AUD",
         "Australia",
         "Developed",
         null,
         null,
         "left_only"
        ],
        [
         "12",
         "2025-01-22",
         "1.5939",
         "1.5937",
         "1.5993",
         "1.5882",
         null,
         "0.05",
         "AUD",
         "Australia",
         "Developed",
         null,
         null,
         "left_only"
        ],
        [
         "13",
         "2025-01-21",
         "1.5931",
         "1.5934",
         "1.6107",
         "1.5898",
         null,
         "-0.03",
         "AUD",
         "Australia",
         "Developed",
         null,
         null,
         "left_only"
        ],
        [
         "14",
         "2025-01-20",
         "1.5936",
         "1.613",
         "1.6158",
         "1.5905",
         null,
         "-1.28",
         "AUD",
         "Australia",
         "Developed",
         null,
         null,
         "left_only"
        ],
        [
         "15",
         "2025-01-17",
         "1.6142",
         "1.6096",
         "1.6222",
         "1.6055",
         null,
         "0.3",
         "AUD",
         "Australia",
         "Developed",
         null,
         null,
         "left_only"
        ],
        [
         "16",
         "2025-01-16",
         "1.6093",
         "1.6061",
         "1.6151",
         "1.6013",
         null,
         "0.22",
         "AUD",
         "Australia",
         "Developed",
         null,
         null,
         "left_only"
        ],
        [
         "17",
         "2025-01-15",
         "1.6057",
         "1.6144",
         "1.618",
         "1.6006",
         null,
         "-0.5",
         "AUD",
         "Australia",
         "Developed",
         null,
         null,
         "left_only"
        ],
        [
         "18",
         "2025-01-14",
         "1.6137",
         "1.6188",
         "1.6219",
         "1.6107",
         null,
         "-0.29",
         "AUD",
         "Australia",
         "Developed",
         null,
         null,
         "left_only"
        ],
        [
         "19",
         "2025-01-13",
         "1.6184",
         "1.6261",
         "1.6312",
         "1.6184",
         null,
         "-0.46",
         "AUD",
         "Australia",
         "Developed",
         null,
         null,
         "left_only"
        ],
        [
         "20",
         "2025-01-10",
         "1.6258",
         "1.6132",
         "1.629",
         "1.6111",
         null,
         "0.77",
         "AUD",
         "Australia",
         "Developed",
         null,
         null,
         "left_only"
        ],
        [
         "21",
         "2025-01-09",
         "1.6134",
         "1.609",
         "1.6204",
         "1.6083",
         null,
         "0.29",
         "AUD",
         "Australia",
         "Developed",
         null,
         null,
         "left_only"
        ],
        [
         "22",
         "2025-01-08",
         "1.6088",
         "1.605",
         "1.6164",
         "1.6017",
         null,
         "0.24",
         "AUD",
         "Australia",
         "Developed",
         null,
         null,
         "left_only"
        ],
        [
         "23",
         "2025-01-07",
         "1.6049",
         "1.6007",
         "1.6058",
         "1.5899",
         null,
         "0.29",
         "AUD",
         "Australia",
         "Developed",
         null,
         null,
         "left_only"
        ],
        [
         "24",
         "2025-01-06",
         "1.6003",
         "1.609",
         "1.6116",
         "1.5864",
         null,
         "-0.53",
         "AUD",
         "Australia",
         "Developed",
         null,
         null,
         "left_only"
        ],
        [
         "25",
         "2025-01-03",
         "1.6088",
         "1.6114",
         "1.6135",
         "1.6059",
         null,
         "-0.19",
         "AUD",
         "Australia",
         "Developed",
         null,
         null,
         "left_only"
        ],
        [
         "26",
         "2025-01-02",
         "1.6119",
         "1.6163",
         "1.6173",
         "1.6068",
         null,
         "-0.19",
         "AUD",
         "Australia",
         "Developed",
         null,
         null,
         "left_only"
        ],
        [
         "27",
         "2025-01-01",
         "1.615",
         "1.6162",
         "1.6174",
         "1.6146",
         null,
         "-0.05",
         "AUD",
         "Australia",
         "Developed",
         null,
         null,
         "left_only"
        ],
        [
         "28",
         "2024-12-31",
         "1.6158",
         "1.6076",
         "1.6185",
         "1.6045",
         null,
         "0.57",
         "AUD",
         "Australia",
         "Developed",
         null,
         null,
         "left_only"
        ],
        [
         "29",
         "2024-12-30",
         "1.6067",
         "1.6105",
         "1.6125",
         "1.6005",
         null,
         "-0.05",
         "AUD",
         "Australia",
         "Developed",
         null,
         null,
         "left_only"
        ],
        [
         "30",
         "2024-12-27",
         "1.6075",
         "1.6076",
         "1.613",
         "1.6054",
         null,
         "0.0",
         "AUD",
         "Australia",
         "Developed",
         null,
         null,
         "left_only"
        ],
        [
         "31",
         "2024-12-26",
         "1.6075",
         "1.6037",
         "1.6089",
         "1.5986",
         null,
         "0.36",
         "AUD",
         "Australia",
         "Developed",
         null,
         null,
         "left_only"
        ],
        [
         "32",
         "2024-12-25",
         "1.6018",
         "1.602",
         "1.6056",
         "1.6006",
         null,
         "-0.05",
         "AUD",
         "Australia",
         "Developed",
         null,
         null,
         "left_only"
        ],
        [
         "33",
         "2024-12-24",
         "1.6026",
         "1.6004",
         "1.6068",
         "1.599",
         null,
         "0.18",
         "AUD",
         "Australia",
         "Developed",
         null,
         null,
         "left_only"
        ],
        [
         "34",
         "2024-12-23",
         "1.5997",
         "1.5959",
         "1.6081",
         "1.5947",
         null,
         "0.0",
         "AUD",
         "Australia",
         "Developed",
         null,
         null,
         "left_only"
        ],
        [
         "35",
         "2024-12-20",
         "1.5997",
         "1.6026",
         "1.6093",
         "1.5935",
         null,
         "-0.16",
         "AUD",
         "Australia",
         "Developed",
         null,
         null,
         "left_only"
        ],
        [
         "36",
         "2024-12-19",
         "1.6023",
         "1.6084",
         "1.6134",
         "1.5958",
         null,
         "-0.35",
         "AUD",
         "Australia",
         "Developed",
         null,
         null,
         "left_only"
        ],
        [
         "37",
         "2024-12-18",
         "1.608",
         "1.5777",
         "1.6094",
         "1.577",
         null,
         "1.95",
         "AUD",
         "Australia",
         "Developed",
         null,
         null,
         "left_only"
        ],
        [
         "38",
         "2024-12-17",
         "1.5773",
         "1.5697",
         "1.5796",
         "1.5676",
         null,
         "0.52",
         "AUD",
         "Australia",
         "Developed",
         null,
         null,
         "left_only"
        ],
        [
         "39",
         "2024-12-16",
         "1.5691",
         "1.5725",
         "1.5761",
         "1.5664",
         null,
         "-0.13",
         "AUD",
         "Australia",
         "Developed",
         null,
         null,
         "left_only"
        ],
        [
         "40",
         "2024-12-13",
         "1.5711",
         "1.5703",
         "1.5745",
         "1.5664",
         null,
         "0.08",
         "AUD",
         "Australia",
         "Developed",
         null,
         null,
         "left_only"
        ],
        [
         "41",
         "2024-12-12",
         "1.5699",
         "1.5702",
         "1.5722",
         "1.5551",
         null,
         "0.02",
         "AUD",
         "Australia",
         "Developed",
         null,
         null,
         "left_only"
        ],
        [
         "42",
         "2024-12-11",
         "1.5696",
         "1.5678",
         "1.5784",
         "1.5648",
         null,
         "0.14",
         "AUD",
         "Australia",
         "Developed",
         null,
         null,
         "left_only"
        ],
        [
         "43",
         "2024-12-10",
         "1.5674",
         "1.5528",
         "1.5712",
         "1.5519",
         null,
         "0.97",
         "AUD",
         "Australia",
         "Developed",
         null,
         null,
         "left_only"
        ],
        [
         "44",
         "2024-12-09",
         "1.5523",
         "1.5646",
         "1.5677",
         "1.545",
         null,
         "-0.81",
         "AUD",
         "Australia",
         "Developed",
         null,
         null,
         "left_only"
        ],
        [
         "45",
         "2024-12-06",
         "1.5649",
         "1.5497",
         "1.5694",
         "1.5489",
         null,
         "1.01",
         "AUD",
         "Australia",
         "Developed",
         null,
         null,
         "left_only"
        ],
        [
         "46",
         "2024-12-05",
         "1.5492",
         "1.5553",
         "1.5575",
         "1.549",
         null,
         "-0.34",
         "AUD",
         "Australia",
         "Developed",
         null,
         null,
         "left_only"
        ],
        [
         "47",
         "2024-12-04",
         "1.5545",
         "1.5419",
         "1.5628",
         "1.5409",
         null,
         "0.87",
         "AUD",
         "Australia",
         "Developed",
         null,
         null,
         "left_only"
        ],
        [
         "48",
         "2024-12-03",
         "1.5411",
         "1.5446",
         "1.5493",
         "1.5372",
         null,
         "-0.18",
         "AUD",
         "Australia",
         "Developed",
         null,
         null,
         "left_only"
        ],
        [
         "49",
         "2024-12-02",
         "1.5439",
         "1.5345",
         "1.5522",
         "1.5321",
         null,
         "0.57",
         "AUD",
         "Australia",
         "Developed",
         null,
         null,
         "left_only"
        ]
       ],
       "shape": {
        "columns": 13,
        "rows": 42842
       }
      },
      "text/html": [
       "<div>\n",
       "<style scoped>\n",
       "    .dataframe tbody tr th:only-of-type {\n",
       "        vertical-align: middle;\n",
       "    }\n",
       "\n",
       "    .dataframe tbody tr th {\n",
       "        vertical-align: top;\n",
       "    }\n",
       "\n",
       "    .dataframe thead th {\n",
       "        text-align: right;\n",
       "    }\n",
       "</style>\n",
       "<table border=\"1\" class=\"dataframe\">\n",
       "  <thead>\n",
       "    <tr style=\"text-align: right;\">\n",
       "      <th></th>\n",
       "      <th>Date</th>\n",
       "      <th>Price</th>\n",
       "      <th>Open</th>\n",
       "      <th>High</th>\n",
       "      <th>Low</th>\n",
       "      <th>Vol.</th>\n",
       "      <th>Change %</th>\n",
       "      <th>currency</th>\n",
       "      <th>country</th>\n",
       "      <th>development_status</th>\n",
       "      <th>date</th>\n",
       "      <th>foreign_policy_category</th>\n",
       "      <th>_merge</th>\n",
       "    </tr>\n",
       "  </thead>\n",
       "  <tbody>\n",
       "    <tr>\n",
       "      <th>0</th>\n",
       "      <td>2025-02-07</td>\n",
       "      <td>1.5944</td>\n",
       "      <td>1.5924</td>\n",
       "      <td>1.5993</td>\n",
       "      <td>1.5874</td>\n",
       "      <td>NaN</td>\n",
       "      <td>0.19</td>\n",
       "      <td>AUD</td>\n",
       "      <td>Australia</td>\n",
       "      <td>Developed</td>\n",
       "      <td>NaN</td>\n",
       "      <td>NaN</td>\n",
       "      <td>left_only</td>\n",
       "    </tr>\n",
       "    <tr>\n",
       "      <th>1</th>\n",
       "      <td>2025-02-06</td>\n",
       "      <td>1.5913</td>\n",
       "      <td>1.5911</td>\n",
       "      <td>1.599</td>\n",
       "      <td>1.59</td>\n",
       "      <td>NaN</td>\n",
       "      <td>0.03</td>\n",
       "      <td>AUD</td>\n",
       "      <td>Australia</td>\n",
       "      <td>Developed</td>\n",
       "      <td>NaN</td>\n",
       "      <td>NaN</td>\n",
       "      <td>left_only</td>\n",
       "    </tr>\n",
       "    <tr>\n",
       "      <th>2</th>\n",
       "      <td>2025-02-05</td>\n",
       "      <td>1.5908</td>\n",
       "      <td>1.6</td>\n",
       "      <td>1.6027</td>\n",
       "      <td>1.5878</td>\n",
       "      <td>NaN</td>\n",
       "      <td>-0.48</td>\n",
       "      <td>AUD</td>\n",
       "      <td>Australia</td>\n",
       "      <td>Developed</td>\n",
       "      <td>NaN</td>\n",
       "      <td>NaN</td>\n",
       "      <td>left_only</td>\n",
       "    </tr>\n",
       "    <tr>\n",
       "      <th>3</th>\n",
       "      <td>2025-02-04</td>\n",
       "      <td>1.5985</td>\n",
       "      <td>1.6063</td>\n",
       "      <td>1.6209</td>\n",
       "      <td>1.5966</td>\n",
       "      <td>NaN</td>\n",
       "      <td>-0.45</td>\n",
       "      <td>AUD</td>\n",
       "      <td>Australia</td>\n",
       "      <td>Developed</td>\n",
       "      <td>NaN</td>\n",
       "      <td>NaN</td>\n",
       "      <td>left_only</td>\n",
       "    </tr>\n",
       "    <tr>\n",
       "      <th>4</th>\n",
       "      <td>2025-02-03</td>\n",
       "      <td>1.6057</td>\n",
       "      <td>1.6102</td>\n",
       "      <td>1.643</td>\n",
       "      <td>1.6031</td>\n",
       "      <td>NaN</td>\n",
       "      <td>-0.24</td>\n",
       "      <td>AUD</td>\n",
       "      <td>Australia</td>\n",
       "      <td>Developed</td>\n",
       "      <td>NaN</td>\n",
       "      <td>NaN</td>\n",
       "      <td>left_only</td>\n",
       "    </tr>\n",
       "    <tr>\n",
       "      <th>...</th>\n",
       "      <td>...</td>\n",
       "      <td>...</td>\n",
       "      <td>...</td>\n",
       "      <td>...</td>\n",
       "      <td>...</td>\n",
       "      <td>...</td>\n",
       "      <td>...</td>\n",
       "      <td>...</td>\n",
       "      <td>...</td>\n",
       "      <td>...</td>\n",
       "      <td>...</td>\n",
       "      <td>...</td>\n",
       "      <td>...</td>\n",
       "    </tr>\n",
       "    <tr>\n",
       "      <th>42837</th>\n",
       "      <td>2015-01-07</td>\n",
       "      <td>11.6738</td>\n",
       "      <td>11.718</td>\n",
       "      <td>11.7503</td>\n",
       "      <td>11.675</td>\n",
       "      <td>NaN</td>\n",
       "      <td>-0.32</td>\n",
       "      <td>ZAR</td>\n",
       "      <td>South Africa</td>\n",
       "      <td>Developing</td>\n",
       "      <td>NaN</td>\n",
       "      <td>NaN</td>\n",
       "      <td>left_only</td>\n",
       "    </tr>\n",
       "    <tr>\n",
       "      <th>42838</th>\n",
       "      <td>2015-01-06</td>\n",
       "      <td>11.711</td>\n",
       "      <td>11.708</td>\n",
       "      <td>11.7853</td>\n",
       "      <td>11.6615</td>\n",
       "      <td>NaN</td>\n",
       "      <td>0.07</td>\n",
       "      <td>ZAR</td>\n",
       "      <td>South Africa</td>\n",
       "      <td>Developing</td>\n",
       "      <td>NaN</td>\n",
       "      <td>NaN</td>\n",
       "      <td>left_only</td>\n",
       "    </tr>\n",
       "    <tr>\n",
       "      <th>42839</th>\n",
       "      <td>2015-01-05</td>\n",
       "      <td>11.703</td>\n",
       "      <td>11.735</td>\n",
       "      <td>11.7572</td>\n",
       "      <td>11.6731</td>\n",
       "      <td>NaN</td>\n",
       "      <td>0.03</td>\n",
       "      <td>ZAR</td>\n",
       "      <td>South Africa</td>\n",
       "      <td>Developing</td>\n",
       "      <td>NaN</td>\n",
       "      <td>NaN</td>\n",
       "      <td>left_only</td>\n",
       "    </tr>\n",
       "    <tr>\n",
       "      <th>42840</th>\n",
       "      <td>2015-01-02</td>\n",
       "      <td>11.699</td>\n",
       "      <td>11.5526</td>\n",
       "      <td>11.7393</td>\n",
       "      <td>11.5476</td>\n",
       "      <td>NaN</td>\n",
       "      <td>1.34</td>\n",
       "      <td>ZAR</td>\n",
       "      <td>South Africa</td>\n",
       "      <td>Developing</td>\n",
       "      <td>NaN</td>\n",
       "      <td>NaN</td>\n",
       "      <td>left_only</td>\n",
       "    </tr>\n",
       "    <tr>\n",
       "      <th>42841</th>\n",
       "      <td>2015-01-01</td>\n",
       "      <td>11.5438</td>\n",
       "      <td>11.576</td>\n",
       "      <td>11.576</td>\n",
       "      <td>11.5395</td>\n",
       "      <td>NaN</td>\n",
       "      <td>-0.19</td>\n",
       "      <td>ZAR</td>\n",
       "      <td>South Africa</td>\n",
       "      <td>Developing</td>\n",
       "      <td>NaN</td>\n",
       "      <td>NaN</td>\n",
       "      <td>left_only</td>\n",
       "    </tr>\n",
       "  </tbody>\n",
       "</table>\n",
       "<p>42842 rows × 13 columns</p>\n",
       "</div>"
      ],
      "text/plain": [
       "             Date    Price     Open     High      Low Vol.  Change % currency  \\\n",
       "0      2025-02-07   1.5944   1.5924   1.5993   1.5874  NaN      0.19      AUD   \n",
       "1      2025-02-06   1.5913   1.5911    1.599     1.59  NaN      0.03      AUD   \n",
       "2      2025-02-05   1.5908      1.6   1.6027   1.5878  NaN     -0.48      AUD   \n",
       "3      2025-02-04   1.5985   1.6063   1.6209   1.5966  NaN     -0.45      AUD   \n",
       "4      2025-02-03   1.6057   1.6102    1.643   1.6031  NaN     -0.24      AUD   \n",
       "...           ...      ...      ...      ...      ...  ...       ...      ...   \n",
       "42837  2015-01-07  11.6738   11.718  11.7503   11.675  NaN     -0.32      ZAR   \n",
       "42838  2015-01-06   11.711   11.708  11.7853  11.6615  NaN      0.07      ZAR   \n",
       "42839  2015-01-05   11.703   11.735  11.7572  11.6731  NaN      0.03      ZAR   \n",
       "42840  2015-01-02   11.699  11.5526  11.7393  11.5476  NaN      1.34      ZAR   \n",
       "42841  2015-01-01  11.5438   11.576   11.576  11.5395  NaN     -0.19      ZAR   \n",
       "\n",
       "            country development_status date foreign_policy_category     _merge  \n",
       "0         Australia          Developed  NaN                     NaN  left_only  \n",
       "1         Australia          Developed  NaN                     NaN  left_only  \n",
       "2         Australia          Developed  NaN                     NaN  left_only  \n",
       "3         Australia          Developed  NaN                     NaN  left_only  \n",
       "4         Australia          Developed  NaN                     NaN  left_only  \n",
       "...             ...                ...  ...                     ...        ...  \n",
       "42837  South Africa         Developing  NaN                     NaN  left_only  \n",
       "42838  South Africa         Developing  NaN                     NaN  left_only  \n",
       "42839  South Africa         Developing  NaN                     NaN  left_only  \n",
       "42840  South Africa         Developing  NaN                     NaN  left_only  \n",
       "42841  South Africa         Developing  NaN                     NaN  left_only  \n",
       "\n",
       "[42842 rows x 13 columns]"
      ]
     },
<<<<<<< HEAD
     "execution_count": 556,
=======
     "execution_count": 583,
>>>>>>> 3a2ec1de7891262211cd8d2e2f6158b3919fa56b
     "metadata": {},
     "output_type": "execute_result"
    }
   ],
   "source": [
    "# Clean time before merge\n",
    "tweet_treatment[\"date\"] = tweet_treatment[\"date\"].dt.strftime(\"%Y-%m-%d\")\n",
    "df_forex[\"Date\"] = df_forex[\"Date\"].dt.strftime(\"%Y-%m-%d\")\n",
    "\n",
    "\n",
    "merge = pd.merge(\n",
    "    df_forex,\n",
    "    tweet_treatment,\n",
    "    how=\"left\",\n",
    "    left_on=\"Date\",\n",
    "    right_on=\"date\",\n",
    "    indicator=True,\n",
    ")\n",
    "\n",
    "merge\n",
    "# Left only means that the tweet date is not in the forex data"
   ]
  },
  {
   "cell_type": "code",
<<<<<<< HEAD
   "execution_count": 557,
=======
   "execution_count": null,
>>>>>>> 3a2ec1de7891262211cd8d2e2f6158b3919fa56b
   "metadata": {},
   "outputs": [
    {
     "data": {
      "text/plain": [
       "_merge\n",
       "left_only     34450\n",
       "both           8392\n",
       "right_only        0\n",
       "Name: count, dtype: int64"
      ]
     },
<<<<<<< HEAD
     "execution_count": 557,
=======
     "execution_count": 584,
>>>>>>> 3a2ec1de7891262211cd8d2e2f6158b3919fa56b
     "metadata": {},
     "output_type": "execute_result"
    }
   ],
   "source": [
    "merge[\"_merge\"].value_counts()"
   ]
  },
  {
   "cell_type": "code",
<<<<<<< HEAD
   "execution_count": 558,
=======
   "execution_count": null,
>>>>>>> 3a2ec1de7891262211cd8d2e2f6158b3919fa56b
   "metadata": {},
   "outputs": [
    {
     "name": "stderr",
     "output_type": "stream",
     "text": [
<<<<<<< HEAD
      "C:\\Users\\chris\\AppData\\Local\\Temp\\ipykernel_20576\\1902405706.py:15: SettingWithCopyWarning: \n",
=======
      "C:\\Users\\chris\\AppData\\Local\\Temp\\ipykernel_24284\\1524904347.py:4: SettingWithCopyWarning: \n",
>>>>>>> 3a2ec1de7891262211cd8d2e2f6158b3919fa56b
      "A value is trying to be set on a copy of a slice from a DataFrame.\n",
      "Try using .loc[row_indexer,col_indexer] = value instead\n",
      "\n",
      "See the caveats in the documentation: https://pandas.pydata.org/pandas-docs/stable/user_guide/indexing.html#returning-a-view-versus-a-copy\n",
<<<<<<< HEAD
      "  merge[\"High\"] = pd.to_numeric(merge[\"High\"], errors=\"coerce\")\n",
      "C:\\Users\\chris\\AppData\\Local\\Temp\\ipykernel_20576\\1902405706.py:16: SettingWithCopyWarning: \n",
=======
      "  merge['High'] = pd.to_numeric(merge['High'], errors='coerce')\n",
      "C:\\Users\\chris\\AppData\\Local\\Temp\\ipykernel_24284\\1524904347.py:5: SettingWithCopyWarning: \n",
>>>>>>> 3a2ec1de7891262211cd8d2e2f6158b3919fa56b
      "A value is trying to be set on a copy of a slice from a DataFrame.\n",
      "Try using .loc[row_indexer,col_indexer] = value instead\n",
      "\n",
      "See the caveats in the documentation: https://pandas.pydata.org/pandas-docs/stable/user_guide/indexing.html#returning-a-view-versus-a-copy\n",
<<<<<<< HEAD
      "  merge[\"Low\"] = pd.to_numeric(merge[\"Low\"], errors=\"coerce\")\n"
=======
      "  merge['Low'] = pd.to_numeric(merge['Low'], errors='coerce')\n"
>>>>>>> 3a2ec1de7891262211cd8d2e2f6158b3919fa56b
     ]
    }
   ],
   "source": [
    "merge = merge[\n",
    "    [\n",
    "        \"Date\",\n",
    "        \"foreign_policy_category\",\n",
    "        \"High\",\n",
    "        \"Low\",\n",
    "        \"currency\",\n",
    "        \"country\",\n",
    "        \"development_status\",\n",
    "        \"_merge\",\n",
    "    ]\n",
    "]\n",
    "\n",
    "# Let's make HIgh and Low numeric first\n",
    "merge[\"High\"] = pd.to_numeric(merge[\"High\"], errors=\"coerce\")\n",
    "merge[\"Low\"] = pd.to_numeric(merge[\"Low\"], errors=\"coerce\")\n",
    "\n",
    "# Make sure high and low contain values\n",
    "merge = merge[merge[\"High\"].notna() & merge[\"Low\"].notna()]\n",
    "\n",
    "merge[\"volatility_percentage_change\"] = (\n",
    "    (merge[\"High\"] - merge[\"Low\"]) / merge[\"Low\"] * 100\n",
    ")"
   ]
  },
  {
   "cell_type": "code",
<<<<<<< HEAD
   "execution_count": 559,
=======
   "execution_count": null,
>>>>>>> 3a2ec1de7891262211cd8d2e2f6158b3919fa56b
   "metadata": {},
   "outputs": [
    {
     "data": {
      "text/plain": [
       "2637"
      ]
     },
<<<<<<< HEAD
     "execution_count": 559,
=======
     "execution_count": 586,
>>>>>>> 3a2ec1de7891262211cd8d2e2f6158b3919fa56b
     "metadata": {},
     "output_type": "execute_result"
    }
   ],
   "source": [
    "merge[\"Date\"].nunique()"
   ]
  },
  {
   "cell_type": "code",
<<<<<<< HEAD
   "execution_count": 560,
=======
   "execution_count": null,
>>>>>>> 3a2ec1de7891262211cd8d2e2f6158b3919fa56b
   "metadata": {},
   "outputs": [
    {
     "data": {
      "text/plain": [
       "2300"
      ]
     },
<<<<<<< HEAD
     "execution_count": 560,
=======
     "execution_count": 587,
>>>>>>> 3a2ec1de7891262211cd8d2e2f6158b3919fa56b
     "metadata": {},
     "output_type": "execute_result"
    }
   ],
   "source": [
    "no_tarriff = merge[merge[\"_merge\"] == \"left_only\"]\n",
    "\n",
    "no_tarriff[\"Date\"].nunique()"
   ]
  },
  {
   "cell_type": "code",
<<<<<<< HEAD
   "execution_count": 561,
=======
   "execution_count": null,
>>>>>>> 3a2ec1de7891262211cd8d2e2f6158b3919fa56b
   "metadata": {},
   "outputs": [
    {
     "data": {
      "text/plain": [
       "337"
      ]
     },
<<<<<<< HEAD
     "execution_count": 561,
=======
     "execution_count": 588,
>>>>>>> 3a2ec1de7891262211cd8d2e2f6158b3919fa56b
     "metadata": {},
     "output_type": "execute_result"
    }
   ],
   "source": [
    "tariff_group = merge[merge[\"_merge\"] == \"both\"]\n",
    "\n",
    "tariff_group[\"Date\"].nunique()"
   ]
  },
  {
   "cell_type": "code",
<<<<<<< HEAD
   "execution_count": 562,
=======
   "execution_count": null,
>>>>>>> 3a2ec1de7891262211cd8d2e2f6158b3919fa56b
   "metadata": {},
   "outputs": [
    {
     "data": {
      "application/vnd.microsoft.datawrangler.viewer.v0+json": {
       "columns": [
        {
         "name": "index",
         "rawType": "int64",
         "type": "integer"
        },
        {
         "name": "Date",
         "rawType": "object",
         "type": "string"
        },
        {
         "name": "foreign_policy_category",
         "rawType": "object",
         "type": "unknown"
        },
        {
         "name": "High",
         "rawType": "float64",
         "type": "float"
        },
        {
         "name": "Low",
         "rawType": "float64",
         "type": "float"
        },
        {
         "name": "currency",
         "rawType": "object",
         "type": "string"
        },
        {
         "name": "country",
         "rawType": "object",
         "type": "string"
        },
        {
         "name": "development_status",
         "rawType": "object",
         "type": "string"
        },
        {
         "name": "_merge",
         "rawType": "category",
         "type": "unknown"
        },
        {
         "name": "volatility_percentage_change",
         "rawType": "float64",
         "type": "float"
        }
       ],
       "conversionMethod": "pd.DataFrame",
<<<<<<< HEAD
       "ref": "a2e44dfa-f450-4b9d-863e-4d964ed76aff",
=======
       "ref": "5aaa7293-1dc8-48f5-8392-de9a73cb319a",
>>>>>>> 3a2ec1de7891262211cd8d2e2f6158b3919fa56b
       "rows": [
        [
         "0",
         "2025-02-07",
         null,
         "1.5993",
         "1.5874",
         "AUD",
         "Australia",
         "Developed",
         "left_only",
         "0.7496535214816695"
        ],
        [
         "1",
         "2025-02-06",
         null,
         "1.599",
         "1.59",
         "AUD",
         "Australia",
         "Developed",
         "left_only",
         "0.56603773584905"
        ],
        [
         "2",
         "2025-02-05",
         null,
         "1.6027",
         "1.5878",
         "AUD",
         "Australia",
         "Developed",
         "left_only",
         "0.9384053407230074"
        ],
        [
         "3",
         "2025-02-04",
         null,
         "1.6209",
         "1.5966",
         "AUD",
         "Australia",
         "Developed",
         "left_only",
         "1.5219842164599766"
        ],
        [
         "4",
         "2025-02-03",
         null,
         "1.643",
         "1.6031",
         "AUD",
         "Australia",
         "Developed",
         "left_only",
         "2.4889277025762615"
        ],
        [
         "5",
         "2025-01-31",
         null,
         "1.6124",
         "1.5966",
         "AUD",
         "Australia",
         "Developed",
         "left_only",
         "0.9896029061756255"
        ],
        [
         "6",
         "2025-01-30",
         null,
         "1.6132",
         "1.6013",
         "AUD",
         "Australia",
         "Developed",
         "left_only",
         "0.7431461937176058"
        ],
        [
         "7",
         "2025-01-29",
         null,
         "1.6104",
         "1.5984",
         "AUD",
         "Australia",
         "Developed",
         "left_only",
         "0.7507507507507515"
        ],
        [
         "8",
         "2025-01-28",
         null,
         "1.6035",
         "1.5887",
         "AUD",
         "Australia",
         "Developed",
         "left_only",
         "0.9315792786554998"
        ],
        [
         "9",
         "2025-01-27",
         null,
         "1.5938",
         "1.5813",
         "AUD",
         "Australia",
         "Developed",
         "left_only",
         "0.7904888382976144"
        ],
        [
         "10",
         "2025-01-24",
         null,
         "1.593",
         "1.5793",
         "AUD",
         "Australia",
         "Developed",
         "left_only",
         "0.8674729310454028"
        ],
        [
         "11",
         "2025-01-23",
         null,
         "1.5989",
         "1.5871",
         "AUD",
         "Australia",
         "Developed",
         "left_only",
         "0.7434944237918236"
        ],
        [
         "12",
         "2025-01-22",
         null,
         "1.5993",
         "1.5882",
         "AUD",
         "Australia",
         "Developed",
         "left_only",
         "0.6989044200982173"
        ],
        [
         "13",
         "2025-01-21",
         null,
         "1.6107",
         "1.5898",
         "AUD",
         "Australia",
         "Developed",
         "left_only",
         "1.314630771166179"
        ],
        [
         "14",
         "2025-01-20",
         null,
         "1.6158",
         "1.5905",
         "AUD",
         "Australia",
         "Developed",
         "left_only",
         "1.5906947500785842"
        ],
        [
         "15",
         "2025-01-17",
         null,
         "1.6222",
         "1.6055",
         "AUD",
         "Australia",
         "Developed",
         "left_only",
         "1.0401744004982971"
        ],
        [
         "16",
         "2025-01-16",
         null,
         "1.6151",
         "1.6013",
         "AUD",
         "Australia",
         "Developed",
         "left_only",
         "0.8617997876725183"
        ],
        [
         "17",
         "2025-01-15",
         null,
         "1.618",
         "1.6006",
         "AUD",
         "Australia",
         "Developed",
         "left_only",
         "1.0870923403723654"
        ],
        [
         "18",
         "2025-01-14",
         null,
         "1.6219",
         "1.6107",
         "AUD",
         "Australia",
         "Developed",
         "left_only",
         "0.6953498478922131"
        ],
        [
         "19",
         "2025-01-13",
         null,
         "1.6312",
         "1.6184",
         "AUD",
         "Australia",
         "Developed",
         "left_only",
         "0.7909045971329661"
        ],
        [
         "20",
         "2025-01-10",
         null,
         "1.629",
         "1.6111",
         "AUD",
         "Australia",
         "Developed",
         "left_only",
         "1.111042145118244"
        ],
        [
         "21",
         "2025-01-09",
         null,
         "1.6204",
         "1.6083",
         "AUD",
         "Australia",
         "Developed",
         "left_only",
         "0.7523471989056767"
        ],
        [
         "22",
         "2025-01-08",
         null,
         "1.6164",
         "1.6017",
         "AUD",
         "Australia",
         "Developed",
         "left_only",
         "0.9177748642067902"
        ],
        [
         "23",
         "2025-01-07",
         null,
         "1.6058",
         "1.5899",
         "AUD",
         "Australia",
         "Developed",
         "left_only",
         "1.0000628970375371"
        ],
        [
         "24",
         "2025-01-06",
         null,
         "1.6116",
         "1.5864",
         "AUD",
         "Australia",
         "Developed",
         "left_only",
         "1.588502269288949"
        ],
        [
         "25",
         "2025-01-03",
         null,
         "1.6135",
         "1.6059",
         "AUD",
         "Australia",
         "Developed",
         "left_only",
         "0.47325487265706634"
        ],
        [
         "26",
         "2025-01-02",
         null,
         "1.6173",
         "1.6068",
         "AUD",
         "Australia",
         "Developed",
         "left_only",
         "0.6534727408513787"
        ],
        [
         "27",
         "2025-01-01",
         null,
         "1.6174",
         "1.6146",
         "AUD",
         "Australia",
         "Developed",
         "left_only",
         "0.1734175647219072"
        ],
        [
         "28",
         "2024-12-31",
         null,
         "1.6185",
         "1.6045",
         "AUD",
         "Australia",
         "Developed",
         "left_only",
         "0.8725459644749152"
        ],
        [
         "29",
         "2024-12-30",
         null,
         "1.6125",
         "1.6005",
         "AUD",
         "Australia",
         "Developed",
         "left_only",
         "0.749765698219307"
        ],
        [
         "30",
         "2024-12-27",
         null,
         "1.613",
         "1.6054",
         "AUD",
         "Australia",
         "Developed",
         "left_only",
         "0.4734022673477047"
        ],
        [
         "31",
         "2024-12-26",
         null,
         "1.6089",
         "1.5986",
         "AUD",
         "Australia",
         "Developed",
         "left_only",
         "0.6443137745527321"
        ],
        [
         "32",
         "2024-12-25",
         null,
         "1.6056",
         "1.6006",
         "AUD",
         "Australia",
         "Developed",
         "left_only",
         "0.3123828564288325"
        ],
        [
         "33",
         "2024-12-24",
         null,
         "1.6068",
         "1.599",
         "AUD",
         "Australia",
         "Developed",
         "left_only",
         "0.4878048780487823"
        ],
        [
         "34",
         "2024-12-23",
         null,
         "1.6081",
         "1.5947",
         "AUD",
         "Australia",
         "Developed",
         "left_only",
         "0.8402834388913325"
        ],
        [
         "35",
         "2024-12-20",
         null,
         "1.6093",
         "1.5935",
         "AUD",
         "Australia",
         "Developed",
         "left_only",
         "0.9915280828365257"
        ],
        [
         "36",
         "2024-12-19",
         null,
         "1.6134",
         "1.5958",
         "AUD",
         "Australia",
         "Developed",
         "left_only",
         "1.1028950996365356"
        ],
        [
         "37",
         "2024-12-18",
         null,
         "1.6094",
         "1.577",
         "AUD",
         "Australia",
         "Developed",
         "left_only",
         "2.054533925174381"
        ],
        [
         "38",
         "2024-12-17",
         null,
         "1.5796",
         "1.5676",
         "AUD",
         "Australia",
         "Developed",
         "left_only",
         "0.7655014034192261"
        ],
        [
         "39",
         "2024-12-16",
         null,
         "1.5761",
         "1.5664",
         "AUD",
         "Australia",
         "Developed",
         "left_only",
         "0.6192543411644562"
        ],
        [
         "40",
         "2024-12-13",
         null,
         "1.5745",
         "1.5664",
         "AUD",
         "Australia",
         "Developed",
         "left_only",
         "0.5171092951991826"
        ],
        [
         "41",
         "2024-12-12",
         null,
         "1.5722",
         "1.5551",
         "AUD",
         "Australia",
         "Developed",
         "left_only",
         "1.0996077422673858"
        ],
        [
         "42",
         "2024-12-11",
         null,
         "1.5784",
         "1.5648",
         "AUD",
         "Australia",
         "Developed",
         "left_only",
         "0.8691206543967317"
        ],
        [
         "43",
         "2024-12-10",
         null,
         "1.5712",
         "1.5519",
         "AUD",
         "Australia",
         "Developed",
         "left_only",
         "1.2436368322701123"
        ],
        [
         "44",
         "2024-12-09",
         null,
         "1.5677",
         "1.545",
         "AUD",
         "Australia",
         "Developed",
         "left_only",
         "1.4692556634304315"
        ],
        [
         "45",
         "2024-12-06",
         null,
         "1.5694",
         "1.5489",
         "AUD",
         "Australia",
         "Developed",
         "left_only",
         "1.3235199173607053"
        ],
        [
         "46",
         "2024-12-05",
         null,
         "1.5575",
         "1.549",
         "AUD",
         "Australia",
         "Developed",
         "left_only",
         "0.5487411233053695"
        ],
        [
         "47",
         "2024-12-04",
         null,
         "1.5628",
         "1.5409",
         "AUD",
         "Australia",
         "Developed",
         "left_only",
         "1.4212473229930582"
        ],
        [
         "48",
         "2024-12-03",
         null,
         "1.5493",
         "1.5372",
         "AUD",
         "Australia",
         "Developed",
         "left_only",
         "0.7871454592766068"
        ],
        [
         "49",
         "2024-12-02",
         null,
         "1.5522",
         "1.5321",
         "AUD",
         "Australia",
         "Developed",
         "left_only",
         "1.3119248090855693"
        ]
       ],
       "shape": {
        "columns": 9,
        "rows": 37180
       }
      },
      "text/html": [
       "<div>\n",
       "<style scoped>\n",
       "    .dataframe tbody tr th:only-of-type {\n",
       "        vertical-align: middle;\n",
       "    }\n",
       "\n",
       "    .dataframe tbody tr th {\n",
       "        vertical-align: top;\n",
       "    }\n",
       "\n",
       "    .dataframe thead th {\n",
       "        text-align: right;\n",
       "    }\n",
       "</style>\n",
       "<table border=\"1\" class=\"dataframe\">\n",
       "  <thead>\n",
       "    <tr style=\"text-align: right;\">\n",
       "      <th></th>\n",
       "      <th>Date</th>\n",
       "      <th>foreign_policy_category</th>\n",
       "      <th>High</th>\n",
       "      <th>Low</th>\n",
       "      <th>currency</th>\n",
       "      <th>country</th>\n",
       "      <th>development_status</th>\n",
       "      <th>_merge</th>\n",
       "      <th>volatility_percentage_change</th>\n",
       "    </tr>\n",
       "  </thead>\n",
       "  <tbody>\n",
       "    <tr>\n",
       "      <th>0</th>\n",
       "      <td>2025-02-07</td>\n",
       "      <td>NaN</td>\n",
       "      <td>1.5993</td>\n",
       "      <td>1.5874</td>\n",
       "      <td>AUD</td>\n",
       "      <td>Australia</td>\n",
       "      <td>Developed</td>\n",
       "      <td>left_only</td>\n",
       "      <td>0.749654</td>\n",
       "    </tr>\n",
       "    <tr>\n",
       "      <th>1</th>\n",
       "      <td>2025-02-06</td>\n",
       "      <td>NaN</td>\n",
       "      <td>1.5990</td>\n",
       "      <td>1.5900</td>\n",
       "      <td>AUD</td>\n",
       "      <td>Australia</td>\n",
       "      <td>Developed</td>\n",
       "      <td>left_only</td>\n",
       "      <td>0.566038</td>\n",
       "    </tr>\n",
       "    <tr>\n",
       "      <th>2</th>\n",
       "      <td>2025-02-05</td>\n",
       "      <td>NaN</td>\n",
       "      <td>1.6027</td>\n",
       "      <td>1.5878</td>\n",
       "      <td>AUD</td>\n",
       "      <td>Australia</td>\n",
       "      <td>Developed</td>\n",
       "      <td>left_only</td>\n",
       "      <td>0.938405</td>\n",
       "    </tr>\n",
       "    <tr>\n",
       "      <th>3</th>\n",
       "      <td>2025-02-04</td>\n",
       "      <td>NaN</td>\n",
       "      <td>1.6209</td>\n",
       "      <td>1.5966</td>\n",
       "      <td>AUD</td>\n",
       "      <td>Australia</td>\n",
       "      <td>Developed</td>\n",
       "      <td>left_only</td>\n",
       "      <td>1.521984</td>\n",
       "    </tr>\n",
       "    <tr>\n",
       "      <th>4</th>\n",
       "      <td>2025-02-03</td>\n",
       "      <td>NaN</td>\n",
       "      <td>1.6430</td>\n",
       "      <td>1.6031</td>\n",
       "      <td>AUD</td>\n",
       "      <td>Australia</td>\n",
       "      <td>Developed</td>\n",
       "      <td>left_only</td>\n",
       "      <td>2.488928</td>\n",
       "    </tr>\n",
       "    <tr>\n",
       "      <th>...</th>\n",
       "      <td>...</td>\n",
       "      <td>...</td>\n",
       "      <td>...</td>\n",
       "      <td>...</td>\n",
       "      <td>...</td>\n",
       "      <td>...</td>\n",
       "      <td>...</td>\n",
       "      <td>...</td>\n",
       "      <td>...</td>\n",
       "    </tr>\n",
       "    <tr>\n",
       "      <th>42837</th>\n",
       "      <td>2015-01-07</td>\n",
       "      <td>NaN</td>\n",
       "      <td>11.7503</td>\n",
       "      <td>11.6750</td>\n",
       "      <td>ZAR</td>\n",
       "      <td>South Africa</td>\n",
       "      <td>Developing</td>\n",
       "      <td>left_only</td>\n",
       "      <td>0.644968</td>\n",
       "    </tr>\n",
       "    <tr>\n",
       "      <th>42838</th>\n",
       "      <td>2015-01-06</td>\n",
       "      <td>NaN</td>\n",
       "      <td>11.7853</td>\n",
       "      <td>11.6615</td>\n",
       "      <td>ZAR</td>\n",
       "      <td>South Africa</td>\n",
       "      <td>Developing</td>\n",
       "      <td>left_only</td>\n",
       "      <td>1.061613</td>\n",
       "    </tr>\n",
       "    <tr>\n",
       "      <th>42839</th>\n",
       "      <td>2015-01-05</td>\n",
       "      <td>NaN</td>\n",
       "      <td>11.7572</td>\n",
       "      <td>11.6731</td>\n",
       "      <td>ZAR</td>\n",
       "      <td>South Africa</td>\n",
       "      <td>Developing</td>\n",
       "      <td>left_only</td>\n",
       "      <td>0.720460</td>\n",
       "    </tr>\n",
       "    <tr>\n",
       "      <th>42840</th>\n",
       "      <td>2015-01-02</td>\n",
       "      <td>NaN</td>\n",
       "      <td>11.7393</td>\n",
       "      <td>11.5476</td>\n",
       "      <td>ZAR</td>\n",
       "      <td>South Africa</td>\n",
       "      <td>Developing</td>\n",
       "      <td>left_only</td>\n",
       "      <td>1.660085</td>\n",
       "    </tr>\n",
       "    <tr>\n",
       "      <th>42841</th>\n",
       "      <td>2015-01-01</td>\n",
       "      <td>NaN</td>\n",
       "      <td>11.5760</td>\n",
       "      <td>11.5395</td>\n",
       "      <td>ZAR</td>\n",
       "      <td>South Africa</td>\n",
       "      <td>Developing</td>\n",
       "      <td>left_only</td>\n",
       "      <td>0.316305</td>\n",
       "    </tr>\n",
       "  </tbody>\n",
       "</table>\n",
       "<p>37180 rows × 9 columns</p>\n",
       "</div>"
      ],
      "text/plain": [
       "             Date foreign_policy_category     High      Low currency  \\\n",
       "0      2025-02-07                     NaN   1.5993   1.5874      AUD   \n",
       "1      2025-02-06                     NaN   1.5990   1.5900      AUD   \n",
       "2      2025-02-05                     NaN   1.6027   1.5878      AUD   \n",
       "3      2025-02-04                     NaN   1.6209   1.5966      AUD   \n",
       "4      2025-02-03                     NaN   1.6430   1.6031      AUD   \n",
       "...           ...                     ...      ...      ...      ...   \n",
       "42837  2015-01-07                     NaN  11.7503  11.6750      ZAR   \n",
       "42838  2015-01-06                     NaN  11.7853  11.6615      ZAR   \n",
       "42839  2015-01-05                     NaN  11.7572  11.6731      ZAR   \n",
       "42840  2015-01-02                     NaN  11.7393  11.5476      ZAR   \n",
       "42841  2015-01-01                     NaN  11.5760  11.5395      ZAR   \n",
       "\n",
       "            country development_status     _merge  \\\n",
       "0         Australia          Developed  left_only   \n",
       "1         Australia          Developed  left_only   \n",
       "2         Australia          Developed  left_only   \n",
       "3         Australia          Developed  left_only   \n",
       "4         Australia          Developed  left_only   \n",
       "...             ...                ...        ...   \n",
       "42837  South Africa         Developing  left_only   \n",
       "42838  South Africa         Developing  left_only   \n",
       "42839  South Africa         Developing  left_only   \n",
       "42840  South Africa         Developing  left_only   \n",
       "42841  South Africa         Developing  left_only   \n",
       "\n",
       "       volatility_percentage_change  \n",
       "0                          0.749654  \n",
       "1                          0.566038  \n",
       "2                          0.938405  \n",
       "3                          1.521984  \n",
       "4                          2.488928  \n",
       "...                             ...  \n",
       "42837                      0.644968  \n",
       "42838                      1.061613  \n",
       "42839                      0.720460  \n",
       "42840                      1.660085  \n",
       "42841                      0.316305  \n",
       "\n",
       "[37180 rows x 9 columns]"
      ]
     },
<<<<<<< HEAD
     "execution_count": 562,
=======
     "execution_count": 589,
>>>>>>> 3a2ec1de7891262211cd8d2e2f6158b3919fa56b
     "metadata": {},
     "output_type": "execute_result"
    }
   ],
   "source": [
    "merge"
   ]
  },
  {
   "cell_type": "code",
<<<<<<< HEAD
   "execution_count": 563,
=======
   "execution_count": null,
>>>>>>> 3a2ec1de7891262211cd8d2e2f6158b3919fa56b
   "metadata": {},
   "outputs": [],
   "source": [
    "# IMport ttest\n",
    "from scipy import stats\n",
    "from scipy.stats import ttest_ind, ttest_rel\n",
    "import statsmodels.api as sm\n",
    "import statsmodels.formula.api as smf\n",
    "import statsmodels.stats.api as sms\n",
    "import statsmodels.stats.multitest as smm"
   ]
  },
  {
   "cell_type": "code",
<<<<<<< HEAD
   "execution_count": 564,
   "metadata": {},
   "outputs": [],
   "source": [
    "#"
=======
   "execution_count": null,
   "metadata": {},
   "outputs": [
    {
     "name": "stdout",
     "output_type": "stream",
     "text": [
      "T-statistic: -11.432534678863863, P-value: 4.0265979577265895e-30\n",
      "Reject the null hypothesis: There is a significant difference in volatility.\n"
     ]
    }
   ],
   "source": [
    "# T_test for Volatility\n",
    "\n",
    "v1 = tariff_group[\"volatility_percentage_change\"].dropna()\n",
    "v2 = no_tarriff[\"volatility_percentage_change\"].dropna()\n",
    "\n",
    "# Perform t-test\n",
    "t_stat, p_value = ttest_ind(v1, v2, equal_var=False)\n",
    "print(f\"T-statistic: {t_stat}, P-value: {p_value}\")\n",
    "\n",
    "# Check if p-value is less than 0.05\n",
    "if p_value < 0.05:\n",
    "    print(\n",
    "        \"Reject the null hypothesis: There is a significant difference in volatility.\"\n",
    "    )"
>>>>>>> 3a2ec1de7891262211cd8d2e2f6158b3919fa56b
   ]
  },
  {
   "cell_type": "code",
<<<<<<< HEAD
   "execution_count": 565,
=======
   "execution_count": null,
>>>>>>> 3a2ec1de7891262211cd8d2e2f6158b3919fa56b
   "metadata": {},
   "outputs": [
    {
     "name": "stderr",
     "output_type": "stream",
     "text": [
<<<<<<< HEAD
      "C:\\Users\\chris\\AppData\\Local\\Temp\\ipykernel_20576\\3314012213.py:1: SettingWithCopyWarning: \n",
=======
      "C:\\Users\\chris\\AppData\\Local\\Temp\\ipykernel_24284\\1784718070.py:1: SettingWithCopyWarning: \n",
>>>>>>> 3a2ec1de7891262211cd8d2e2f6158b3919fa56b
      "A value is trying to be set on a copy of a slice from a DataFrame.\n",
      "Try using .loc[row_indexer,col_indexer] = value instead\n",
      "\n",
      "See the caveats in the documentation: https://pandas.pydata.org/pandas-docs/stable/user_guide/indexing.html#returning-a-view-versus-a-copy\n",
<<<<<<< HEAD
      "  no_tarriff[\"Group\"] = \"Control\"\n",
      "C:\\Users\\chris\\AppData\\Local\\Temp\\ipykernel_20576\\3314012213.py:6: SettingWithCopyWarning: \n",
=======
      "  no_tarriff['Group'] = 'Control'\n",
      "C:\\Users\\chris\\AppData\\Local\\Temp\\ipykernel_24284\\1784718070.py:4: SettingWithCopyWarning: \n",
>>>>>>> 3a2ec1de7891262211cd8d2e2f6158b3919fa56b
      "A value is trying to be set on a copy of a slice from a DataFrame.\n",
      "Try using .loc[row_indexer,col_indexer] = value instead\n",
      "\n",
      "See the caveats in the documentation: https://pandas.pydata.org/pandas-docs/stable/user_guide/indexing.html#returning-a-view-versus-a-copy\n",
<<<<<<< HEAD
      "  tariff_group[\"Group\"] = \"Treatment\"\n"
=======
      "  tariff_group['Group'] = 'Treatment'\n"
>>>>>>> 3a2ec1de7891262211cd8d2e2f6158b3919fa56b
     ]
    }
   ],
   "source": [
    "no_tarriff[\"Group\"] = \"Control\"\n",
    "no_tarriff_subset = no_tarriff[\n",
    "    [\"Date\", \"currency\", \"volatility_percentage_change\", \"Group\"]\n",
    "]\n",
    "\n",
    "tariff_group[\"Group\"] = \"Treatment\"\n",
    "tariff_group_subset = tariff_group[\n",
    "    [\"Date\", \"currency\", \"volatility_percentage_change\", \"Group\"]\n",
    "]\n",
    "\n",
    "# concatenate\n",
    "combined = (\n",
    "    pd.concat([no_tarriff_subset, tariff_group_subset])\n",
    "    .sort_values(by=\"Date\")\n",
    "    .reset_index()\n",
    ")"
   ]
  },
  {
   "cell_type": "code",
<<<<<<< HEAD
   "execution_count": 566,
=======
   "execution_count": 593,
>>>>>>> 3a2ec1de7891262211cd8d2e2f6158b3919fa56b
   "metadata": {},
   "outputs": [
    {
     "data": {
      "application/vnd.microsoft.datawrangler.viewer.v0+json": {
       "columns": [
        {
         "name": "index",
         "rawType": "int64",
         "type": "integer"
        },
        {
         "name": "index",
         "rawType": "int64",
         "type": "integer"
        },
        {
         "name": "Date",
         "rawType": "object",
         "type": "string"
        },
        {
         "name": "currency",
         "rawType": "object",
         "type": "string"
        },
        {
         "name": "volatility_percentage_change",
         "rawType": "float64",
         "type": "float"
        },
        {
         "name": "Group",
         "rawType": "object",
         "type": "string"
        }
       ],
       "conversionMethod": "pd.DataFrame",
<<<<<<< HEAD
       "ref": "6fc67109-919a-4cbd-adeb-f1b1b1498bfc",
=======
       "ref": "e29db5dd-ba26-4030-a83c-690d236566b2",
>>>>>>> 3a2ec1de7891262211cd8d2e2f6158b3919fa56b
       "rows": [
        [
         "0",
         "28541",
         "2015-01-01",
         "JPY",
         "0.17549724218620086",
         "Control"
        ],
        [
         "1",
         "5719",
         "2015-01-01",
         "BRL",
         "0.0",
         "Control"
        ],
        [
         "2",
         "34261",
         "2015-01-01",
         "MXN",
         "0.030501236994600566",
         "Control"
        ],
        [
         "3",
         "25681",
         "2015-01-01",
         "INR",
         "0.44321329639889384",
         "Control"
        ],
        [
         "4",
         "42841",
         "2015-01-01",
         "ZAR",
         "0.31630486589540446",
         "Control"
        ],
        [
         "5",
         "37121",
         "2015-01-01",
         "SGD",
         "0.15111446921042704",
         "Control"
        ],
        [
         "6",
         "17159",
         "2015-01-01",
         "GBP",
         "0.24933769674301615",
         "Control"
        ],
        [
         "7",
         "11439",
         "2015-01-01",
         "CHF",
         "0.15098137896325572",
         "Control"
        ],
        [
         "8",
         "8579",
         "2015-01-01",
         "CAD",
         "0.11196279390234079",
         "Control"
        ],
        [
         "9",
         "2859",
         "2015-01-01",
         "AUD",
         "0.39305601048148664",
         "Control"
        ],
        [
         "10",
         "14299",
         "2015-01-01",
         "EUR",
         "0.14531363526277294",
         "Control"
        ],
        [
         "11",
         "20019",
         "2015-01-01",
         "HKD",
         "0.0012896902164070126",
         "Control"
        ],
        [
         "12",
         "39981",
         "2015-01-01",
         "THB",
         "0.27388922702374746",
         "Control"
        ],
        [
         "13",
         "17158",
         "2015-01-02",
         "GBP",
         "1.7147310989867512",
         "Control"
        ],
        [
         "14",
         "42840",
         "2015-01-02",
         "ZAR",
         "1.6600852125116985",
         "Control"
        ],
        [
         "15",
         "11438",
         "2015-01-02",
         "CHF",
         "0.8457511075312196",
         "Control"
        ],
        [
         "16",
         "2858",
         "2015-01-02",
         "AUD",
         "1.3428314091541775",
         "Control"
        ],
        [
         "17",
         "20018",
         "2015-01-02",
         "HKD",
         "0.05029856713568738",
         "Control"
        ],
        [
         "18",
         "5718",
         "2015-01-02",
         "BRL",
         "1.9153339604891795",
         "Control"
        ],
        [
         "19",
         "8578",
         "2015-01-02",
         "CAD",
         "1.629591308846365",
         "Control"
        ],
        [
         "20",
         "25680",
         "2015-01-02",
         "INR",
         "0.3904829657734565",
         "Control"
        ],
        [
         "21",
         "39980",
         "2015-01-02",
         "THB",
         "0.45648204503955747",
         "Control"
        ],
        [
         "22",
         "14298",
         "2015-01-02",
         "EUR",
         "0.9325420855032143",
         "Control"
        ],
        [
         "23",
         "28540",
         "2015-01-02",
         "JPY",
         "0.868693618443039",
         "Control"
        ],
        [
         "24",
         "34260",
         "2015-01-02",
         "MXN",
         "0.8769074262461896",
         "Control"
        ],
        [
         "25",
         "37120",
         "2015-01-02",
         "SGD",
         "0.7033731659355515",
         "Control"
        ],
        [
         "26",
         "34259",
         "2015-01-05",
         "MXN",
         "1.136486340567974",
         "Control"
        ],
        [
         "27",
         "25679",
         "2015-01-05",
         "INR",
         "0.33183218772221046",
         "Control"
        ],
        [
         "28",
         "8577",
         "2015-01-05",
         "CAD",
         "0.6728558044459602",
         "Control"
        ],
        [
         "29",
         "14297",
         "2015-01-05",
         "EUR",
         "1.0808214242824556",
         "Control"
        ],
        [
         "30",
         "42839",
         "2015-01-05",
         "ZAR",
         "0.7204598607053773",
         "Control"
        ],
        [
         "31",
         "20017",
         "2015-01-05",
         "HKD",
         "0.02321083172147319",
         "Control"
        ],
        [
         "32",
         "2857",
         "2015-01-05",
         "AUD",
         "0.9572483167031746",
         "Control"
        ],
        [
         "33",
         "11437",
         "2015-01-05",
         "CHF",
         "0.999000999001",
         "Control"
        ],
        [
         "34",
         "37119",
         "2015-01-05",
         "SGD",
         "0.5259203606311132",
         "Control"
        ],
        [
         "35",
         "5717",
         "2015-01-05",
         "BRL",
         "1.3696596265914298",
         "Control"
        ],
        [
         "36",
         "39979",
         "2015-01-05",
         "THB",
         "0.6688963210702307",
         "Control"
        ],
        [
         "37",
         "28539",
         "2015-01-05",
         "JPY",
         "1.0637406817991424",
         "Control"
        ],
        [
         "38",
         "17157",
         "2015-01-05",
         "GBP",
         "0.9203865623561904",
         "Control"
        ],
        [
         "39",
         "25678",
         "2015-01-06",
         "INR",
         "0.48961541498855293",
         "Control"
        ],
        [
         "40",
         "5716",
         "2015-01-06",
         "BRL",
         "1.192599197503336",
         "Control"
        ],
        [
         "41",
         "14296",
         "2015-01-06",
         "EUR",
         "0.7301891309552303",
         "Control"
        ],
        [
         "42",
         "8576",
         "2015-01-06",
         "CAD",
         "0.9462915601022921",
         "Control"
        ],
        [
         "43",
         "11436",
         "2015-01-06",
         "CHF",
         "0.7071713147410464",
         "Control"
        ],
        [
         "44",
         "17156",
         "2015-01-06",
         "GBP",
         "0.9013137794072743",
         "Control"
        ],
        [
         "45",
         "37118",
         "2015-01-06",
         "SGD",
         "0.4432757325319321",
         "Control"
        ],
        [
         "46",
         "42838",
         "2015-01-06",
         "ZAR",
         "1.0616130000428696",
         "Control"
        ],
        [
         "47",
         "28538",
         "2015-01-06",
         "JPY",
         "1.3467728273759134",
         "Control"
        ],
        [
         "48",
         "39978",
         "2015-01-06",
         "THB",
         "0.578915295551486",
         "Control"
        ],
        [
         "49",
         "2856",
         "2015-01-06",
         "AUD",
         "0.9957557949722485",
         "Control"
        ]
       ],
       "shape": {
        "columns": 5,
        "rows": 100
       }
      },
      "text/html": [
       "<div>\n",
       "<style scoped>\n",
       "    .dataframe tbody tr th:only-of-type {\n",
       "        vertical-align: middle;\n",
       "    }\n",
       "\n",
       "    .dataframe tbody tr th {\n",
       "        vertical-align: top;\n",
       "    }\n",
       "\n",
       "    .dataframe thead th {\n",
       "        text-align: right;\n",
       "    }\n",
       "</style>\n",
       "<table border=\"1\" class=\"dataframe\">\n",
       "  <thead>\n",
       "    <tr style=\"text-align: right;\">\n",
       "      <th></th>\n",
       "      <th>index</th>\n",
       "      <th>Date</th>\n",
       "      <th>currency</th>\n",
       "      <th>volatility_percentage_change</th>\n",
       "      <th>Group</th>\n",
       "    </tr>\n",
       "  </thead>\n",
       "  <tbody>\n",
       "    <tr>\n",
       "      <th>0</th>\n",
       "      <td>28541</td>\n",
       "      <td>2015-01-01</td>\n",
       "      <td>JPY</td>\n",
       "      <td>0.175497</td>\n",
       "      <td>Control</td>\n",
       "    </tr>\n",
       "    <tr>\n",
       "      <th>1</th>\n",
       "      <td>5719</td>\n",
       "      <td>2015-01-01</td>\n",
       "      <td>BRL</td>\n",
       "      <td>0.000000</td>\n",
       "      <td>Control</td>\n",
       "    </tr>\n",
       "    <tr>\n",
       "      <th>2</th>\n",
       "      <td>34261</td>\n",
       "      <td>2015-01-01</td>\n",
       "      <td>MXN</td>\n",
       "      <td>0.030501</td>\n",
       "      <td>Control</td>\n",
       "    </tr>\n",
       "    <tr>\n",
       "      <th>3</th>\n",
       "      <td>25681</td>\n",
       "      <td>2015-01-01</td>\n",
       "      <td>INR</td>\n",
       "      <td>0.443213</td>\n",
       "      <td>Control</td>\n",
       "    </tr>\n",
       "    <tr>\n",
       "      <th>4</th>\n",
       "      <td>42841</td>\n",
       "      <td>2015-01-01</td>\n",
       "      <td>ZAR</td>\n",
       "      <td>0.316305</td>\n",
       "      <td>Control</td>\n",
       "    </tr>\n",
       "    <tr>\n",
       "      <th>...</th>\n",
       "      <td>...</td>\n",
       "      <td>...</td>\n",
       "      <td>...</td>\n",
       "      <td>...</td>\n",
       "      <td>...</td>\n",
       "    </tr>\n",
       "    <tr>\n",
       "      <th>95</th>\n",
       "      <td>28534</td>\n",
       "      <td>2015-01-12</td>\n",
       "      <td>JPY</td>\n",
       "      <td>1.041490</td>\n",
       "      <td>Control</td>\n",
       "    </tr>\n",
       "    <tr>\n",
       "      <th>96</th>\n",
       "      <td>8572</td>\n",
       "      <td>2015-01-12</td>\n",
       "      <td>CAD</td>\n",
       "      <td>1.191381</td>\n",
       "      <td>Control</td>\n",
       "    </tr>\n",
       "    <tr>\n",
       "      <th>97</th>\n",
       "      <td>39974</td>\n",
       "      <td>2015-01-12</td>\n",
       "      <td>THB</td>\n",
       "      <td>0.549618</td>\n",
       "      <td>Control</td>\n",
       "    </tr>\n",
       "    <tr>\n",
       "      <th>98</th>\n",
       "      <td>25674</td>\n",
       "      <td>2015-01-12</td>\n",
       "      <td>INR</td>\n",
       "      <td>0.467252</td>\n",
       "      <td>Control</td>\n",
       "    </tr>\n",
       "    <tr>\n",
       "      <th>99</th>\n",
       "      <td>37114</td>\n",
       "      <td>2015-01-12</td>\n",
       "      <td>SGD</td>\n",
       "      <td>0.526276</td>\n",
       "      <td>Control</td>\n",
       "    </tr>\n",
       "  </tbody>\n",
       "</table>\n",
       "<p>100 rows × 5 columns</p>\n",
       "</div>"
      ],
      "text/plain": [
       "    index        Date currency  volatility_percentage_change    Group\n",
       "0   28541  2015-01-01      JPY                      0.175497  Control\n",
       "1    5719  2015-01-01      BRL                      0.000000  Control\n",
       "2   34261  2015-01-01      MXN                      0.030501  Control\n",
       "3   25681  2015-01-01      INR                      0.443213  Control\n",
       "4   42841  2015-01-01      ZAR                      0.316305  Control\n",
       "..    ...         ...      ...                           ...      ...\n",
       "95  28534  2015-01-12      JPY                      1.041490  Control\n",
       "96   8572  2015-01-12      CAD                      1.191381  Control\n",
       "97  39974  2015-01-12      THB                      0.549618  Control\n",
       "98  25674  2015-01-12      INR                      0.467252  Control\n",
       "99  37114  2015-01-12      SGD                      0.526276  Control\n",
       "\n",
       "[100 rows x 5 columns]"
      ]
     },
<<<<<<< HEAD
     "execution_count": 566,
=======
     "execution_count": 593,
>>>>>>> 3a2ec1de7891262211cd8d2e2f6158b3919fa56b
     "metadata": {},
     "output_type": "execute_result"
    }
   ],
   "source": [
    "combined.head(100)"
   ]
  },
  {
   "cell_type": "code",
<<<<<<< HEAD
   "execution_count": 567,
=======
   "execution_count": null,
>>>>>>> 3a2ec1de7891262211cd8d2e2f6158b3919fa56b
   "metadata": {},
   "outputs": [],
   "source": [
    "combined = combined[combined[\"volatility_percentage_change\"] > 0]"
   ]
  },
  {
   "cell_type": "code",
<<<<<<< HEAD
   "execution_count": 568,
   "metadata": {},
   "outputs": [],
   "source": [
    "# filtered_combined = combined[combined[\"Group\"] == \"Control\"]\n",
    "# filtered_combined = filtered_combined[filtered_combined[\"Date\"] < \"2021-01-01\"]\n",
    "\n",
    "# filtered_combined = filtered_combined[filtered_combined[\"Date\"] > \"2017-01-01\"]\n",
    "\n",
    "\n",
    "# unique_dates = filtered_combined[\"Date\"].dropna().unique()\n",
    "\n",
    "# # Step 2: Randomly sample 241 of those dates\n",
    "# sampled_dates = pd.Series(unique_dates).sample(n=241, random_state=42)\n",
    "\n",
    "# filtered_combined = filtered_combined[filtered_combined[\"Date\"].isin(sampled_dates)]\n",
    "\n",
    "# combined = combined[combined[\"Group\"] == \"Treatment\"]\n",
    "\n",
    "# combined = pd.concat([combined, filtered_combined]).sort_values(by=\"Date\").reset_index()"
=======
   "execution_count": null,
   "metadata": {},
   "outputs": [],
   "source": [
    "filtered_combined = combined[combined[\"Group\"] == \"Control\"]\n",
    "filtered_combined = filtered_combined[filtered_combined[\"Date\"] < \"2021-01-01\"]\n",
    "\n",
    "filtered_combined = filtered_combined[filtered_combined[\"Date\"] > \"2017-01-01\"]\n",
    "\n",
    "\n",
    "unique_dates = filtered_combined[\"Date\"].dropna().unique()\n",
    "\n",
    "# Step 2: Randomly sample 241 of those dates\n",
    "sampled_dates = pd.Series(unique_dates).sample(n=241, random_state=42)\n",
    "\n",
    "filtered_combined = filtered_combined[filtered_combined[\"Date\"].isin(sampled_dates)]\n",
    "\n",
    "combined = combined[combined[\"Group\"] == \"Treatment\"]\n",
    "\n",
    "combined = pd.concat([combined, filtered_combined]).sort_values(by=\"Date\").reset_index()"
>>>>>>> 3a2ec1de7891262211cd8d2e2f6158b3919fa56b
   ]
  },
  {
   "cell_type": "code",
<<<<<<< HEAD
   "execution_count": 569,
   "metadata": {},
   "outputs": [],
=======
   "execution_count": null,
   "metadata": {},
   "outputs": [
    {
     "data": {
      "image/png": "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",
      "text/plain": [
       "<Figure size 1200x600 with 1 Axes>"
      ]
     },
     "metadata": {},
     "output_type": "display_data"
    }
   ],
>>>>>>> 3a2ec1de7891262211cd8d2e2f6158b3919fa56b
   "source": [
    "# Make chart of time series vs volatility for Control mean volatility and Treatment mean volatility\n",
    "\n",
    "import pandas as pd\n",
    "import matplotlib.pyplot as plt\n",
    "import seaborn as sns\n",
    "\n",
    "# Ensure Date is datetime\n",
    "combined[\"Date\"] = pd.to_datetime(combined[\"Date\"])\n",
    "\n",
    "# Only give days before 2021\n",
    "combined = combined[combined[\"Date\"] < \"2021-01-01\"]\n",
    "\n",
    "# Only Give results after 2018\n",
    "combined = combined[combined[\"Date\"] > \"2017-01-01\"]\n",
    "\n",
    "\n",
<<<<<<< HEAD
    "# # Group by date and group to get mean volatility per day per group\n",
    "# daily_mean_vol = (\n",
    "#     combined.groupby([\"Date\", \"Group\"])[\"volatility_percentage_change\"]\n",
    "#     .mean()\n",
    "#     .reset_index()\n",
    "# )\n",
    "\n",
    "# # Plotting\n",
    "# plt.figure(figsize=(12, 6))\n",
    "# sns.lineplot(\n",
    "#     data=daily_mean_vol, x=\"Date\", y=\"volatility_percentage_change\", hue=\"Group\"\n",
    "# )\n",
    "# plt.title(\"Daily Mean Volatility by Group\")\n",
    "# plt.xlabel(\"Date\")\n",
    "# plt.ylabel(\"Mean Volatility (%)\")\n",
    "# plt.legend(title=\"Group\")\n",
    "# plt.tight_layout()\n",
    "# plt.show()"
   ]
  },
  {
   "cell_type": "code",
   "execution_count": 570,
   "metadata": {},
   "outputs": [],
   "source": [
    "# mean_treatment_value = combined[combined[\"Group\"] == \"Treatment\"][\n",
    "#     \"volatility_percentage_change\"\n",
    "# ].mean()\n",
    "# mean_control_value = combined[combined[\"Group\"] == \"Control\"][\n",
    "#     \"volatility_percentage_change\"\n",
    "# ].mean()\n",
    "\n",
    "# print(f\"Mean Treatment Value: {mean_treatment_value}\")\n",
    "# print(f\"Mean Control Value: {mean_control_value}\")"
   ]
  },
  {
   "cell_type": "code",
   "execution_count": 571,
   "metadata": {},
   "outputs": [],
   "source": [
    "# n_obs_treat_before_2018 = combined[combined[\"Group\"] == \"Treatment\"]\n",
    "# n_obs_treat_before_2018 = n_obs_treat_before_2018[\n",
    "#     n_obs_treat_before_2018[\"Date\"] < \"2018-01-01\"\n",
    "# ].shape[0]\n",
    "\n",
    "# n_obs_treat_after_2018 = combined[combined[\"Group\"] == \"Treatment\"]\n",
    "# n_obs_treat_after_2018 = n_obs_treat_after_2018[\n",
    "#     n_obs_treat_after_2018[\"Date\"] >= \"2018-01-01\"\n",
    "# ].shape[0]\n",
    "\n",
    "# print(\n",
    "#     f\"Number of observations in Treatment group before 2018: {n_obs_treat_before_2018}\"\n",
    "# )\n",
    "# print(f\"Number of observations in Treatment group after 2018: {n_obs_treat_after_2018}\")"
   ]
  },
  {
   "cell_type": "code",
   "execution_count": 572,
   "metadata": {},
   "outputs": [],
   "source": [
    "# Treatment = combined[combined[\"Group\"] == \"Treatment\"].nunique()[\"Date\"]\n",
    "# Control = combined[combined[\"Group\"] == \"Control\"].nunique()[\"Date\"]\n",
    "# print(f\"Number of unique dates in Treatment group: {Treatment}\")\n",
    "# print(f\"Number of unique dates in Control group: {Control}\")\n",
    "\n",
    "\n",
    "# # LEt's sample just 240 random dates in control group"
   ]
  },
  {
   "cell_type": "code",
   "execution_count": 573,
   "metadata": {},
   "outputs": [
    {
     "name": "stdout",
     "output_type": "stream",
     "text": [
      "  no_tweet_date\n",
      "0    2016-01-01\n",
      "1    2016-01-04\n",
      "2    2016-01-05\n",
      "3    2016-01-08\n",
      "4    2016-01-09\n"
     ]
    }
   ],
   "source": [
    "import pandas as pd\n",
    "\n",
    "# Load your Trump tweets dataset\n",
    "tweets = pd.read_csv(\"trump_datasets/foreign_policy_df.csv\")\n",
    "\n",
    "# Convert 'date' column to datetime format\n",
    "tweets[\"date\"] = pd.to_datetime(tweets[\"date\"], errors=\"coerce\")\n",
    "\n",
    "# Filter for tweets between Jan 1, 2016 and Jan 20, 2021 (inauguration day)\n",
    "tweets = tweets[(tweets[\"date\"] >= \"2016-01-01\") & (tweets[\"date\"] < \"2021-01-20\")]\n",
    "\n",
    "# Create a set of all tweet dates (day-only)\n",
    "tweet_days = set(tweets[\"date\"].dt.date)\n",
    "\n",
    "# Create a full range of dates during his presidency\n",
    "all_days = pd.date_range(start=\"2016-01-01\", end=\"2021-01-19\", freq=\"D\")\n",
    "all_days_set = set(all_days.date)\n",
    "\n",
    "# Get the difference: days with NO tweets\n",
    "no_tweet_days = sorted(all_days_set - tweet_days)\n",
    "\n",
    "# Convert to DataFrame\n",
    "no_tweet_days_df = pd.DataFrame(no_tweet_days, columns=[\"no_tweet_date\"])\n",
    "\n",
    "# Preview\n",
    "print(no_tweet_days_df.head())"
   ]
  },
  {
   "cell_type": "code",
   "execution_count": 574,
   "metadata": {},
   "outputs": [
    {
     "data": {
      "text/plain": [
       "Index(['index', 'Date', 'currency', 'volatility_percentage_change', 'Group'], dtype='object')"
      ]
     },
     "execution_count": 574,
     "metadata": {},
     "output_type": "execute_result"
    }
   ],
   "source": [
    "combined.columns"
   ]
  },
  {
   "cell_type": "code",
   "execution_count": 575,
   "metadata": {},
   "outputs": [
    {
     "name": "stdout",
     "output_type": "stream",
     "text": [
      "Min date: 2017-01-02 00:00:00\n",
      "Max date: 2020-12-31 00:00:00\n"
     ]
    }
   ],
   "source": [
    "# Get the max and min date from combined\n",
    "\n",
    "min_date = combined[\"Date\"].min()\n",
    "max_date = combined[\"Date\"].max()\n",
    "\n",
    "print(f\"Min date: {min_date}\")\n",
    "print(f\"Max date: {max_date}\")"
   ]
  },
  {
   "cell_type": "code",
   "execution_count": 576,
   "metadata": {},
   "outputs": [
    {
     "data": {
      "application/vnd.microsoft.datawrangler.viewer.v0+json": {
       "columns": [
        {
         "name": "index",
         "rawType": "int64",
         "type": "integer"
        },
        {
         "name": "Date",
         "rawType": "object",
         "type": "string"
        },
        {
         "name": "Time Period",
         "rawType": "object",
         "type": "unknown"
        },
        {
         "name": "Economic Events",
         "rawType": "object",
         "type": "unknown"
        }
       ],
       "conversionMethod": "pd.DataFrame",
       "ref": "b2af9641-f8a4-427e-8de5-4fd74386229a",
       "rows": [
        [
         "0",
         "1/1/2017",
         null,
         null
        ],
        [
         "1",
         "1/2/2017",
         null,
         null
        ],
        [
         "2",
         "1/3/2017",
         null,
         null
        ],
        [
         "3",
         "1/4/2017",
         null,
         null
        ],
        [
         "4",
         "1/5/2017",
         null,
         null
        ],
        [
         "5",
         "1/6/2017",
         null,
         null
        ],
        [
         "6",
         "1/7/2017",
         null,
         null
        ],
        [
         "7",
         "1/8/2017",
         null,
         null
        ],
        [
         "8",
         "1/9/2017",
         null,
         null
        ],
        [
         "9",
         "1/10/2017",
         null,
         null
        ],
        [
         "10",
         "1/11/2017",
         null,
         null
        ],
        [
         "11",
         "1/12/2017",
         null,
         null
        ],
        [
         "12",
         "1/13/2017",
         null,
         null
        ],
        [
         "13",
         "1/14/2017",
         null,
         null
        ],
        [
         "14",
         "1/15/2017",
         null,
         null
        ],
        [
         "15",
         "1/16/2017",
         null,
         null
        ],
        [
         "16",
         "1/17/2017",
         null,
         null
        ],
        [
         "17",
         "1/18/2017",
         "ELECTION",
         null
        ],
        [
         "18",
         "1/19/2017",
         "ELECTION",
         null
        ],
        [
         "19",
         "1/20/2017",
         "ELECTION",
         null
        ],
        [
         "20",
         "1/21/2017",
         "ELECTION",
         null
        ],
        [
         "21",
         "1/22/2017",
         "ELECTION",
         null
        ],
        [
         "22",
         "1/23/2017",
         null,
         null
        ],
        [
         "23",
         "1/24/2017",
         null,
         null
        ],
        [
         "24",
         "1/25/2017",
         null,
         null
        ],
        [
         "25",
         "1/26/2017",
         null,
         null
        ],
        [
         "26",
         "1/27/2017",
         null,
         null
        ],
        [
         "27",
         "1/28/2017",
         null,
         null
        ],
        [
         "28",
         "1/29/2017",
         null,
         null
        ],
        [
         "29",
         "1/30/2017",
         null,
         null
        ],
        [
         "30",
         "1/31/2017",
         null,
         null
        ],
        [
         "31",
         "2/1/2017",
         null,
         null
        ],
        [
         "32",
         "2/2/2017",
         null,
         null
        ],
        [
         "33",
         "2/3/2017",
         null,
         null
        ],
        [
         "34",
         "2/4/2017",
         null,
         null
        ],
        [
         "35",
         "2/5/2017",
         null,
         null
        ],
        [
         "36",
         "2/6/2017",
         null,
         null
        ],
        [
         "37",
         "2/7/2017",
         null,
         null
        ],
        [
         "38",
         "2/8/2017",
         null,
         null
        ],
        [
         "39",
         "2/9/2017",
         null,
         null
        ],
        [
         "40",
         "2/10/2017",
         null,
         null
        ],
        [
         "41",
         "2/11/2017",
         null,
         null
        ],
        [
         "42",
         "2/12/2017",
         null,
         null
        ],
        [
         "43",
         "2/13/2017",
         null,
         null
        ],
        [
         "44",
         "2/14/2017",
         null,
         null
        ],
        [
         "45",
         "2/15/2017",
         null,
         null
        ],
        [
         "46",
         "2/16/2017",
         null,
         null
        ],
        [
         "47",
         "2/17/2017",
         null,
         null
        ],
        [
         "48",
         "2/18/2017",
         null,
         null
        ],
        [
         "49",
         "2/19/2017",
         null,
         null
        ]
       ],
       "shape": {
        "columns": 3,
        "rows": 1466
       }
      },
      "text/html": [
       "<div>\n",
       "<style scoped>\n",
       "    .dataframe tbody tr th:only-of-type {\n",
       "        vertical-align: middle;\n",
       "    }\n",
       "\n",
       "    .dataframe tbody tr th {\n",
       "        vertical-align: top;\n",
       "    }\n",
       "\n",
       "    .dataframe thead th {\n",
       "        text-align: right;\n",
       "    }\n",
       "</style>\n",
       "<table border=\"1\" class=\"dataframe\">\n",
       "  <thead>\n",
       "    <tr style=\"text-align: right;\">\n",
       "      <th></th>\n",
       "      <th>Date</th>\n",
       "      <th>Time Period</th>\n",
       "      <th>Economic Events</th>\n",
       "    </tr>\n",
       "  </thead>\n",
       "  <tbody>\n",
       "    <tr>\n",
       "      <th>0</th>\n",
       "      <td>1/1/2017</td>\n",
       "      <td>NaN</td>\n",
       "      <td>NaN</td>\n",
       "    </tr>\n",
       "    <tr>\n",
       "      <th>1</th>\n",
       "      <td>1/2/2017</td>\n",
       "      <td>NaN</td>\n",
       "      <td>NaN</td>\n",
       "    </tr>\n",
       "    <tr>\n",
       "      <th>2</th>\n",
       "      <td>1/3/2017</td>\n",
       "      <td>NaN</td>\n",
       "      <td>NaN</td>\n",
       "    </tr>\n",
       "    <tr>\n",
       "      <th>3</th>\n",
       "      <td>1/4/2017</td>\n",
       "      <td>NaN</td>\n",
       "      <td>NaN</td>\n",
       "    </tr>\n",
       "    <tr>\n",
       "      <th>4</th>\n",
       "      <td>1/5/2017</td>\n",
       "      <td>NaN</td>\n",
       "      <td>NaN</td>\n",
       "    </tr>\n",
       "    <tr>\n",
       "      <th>...</th>\n",
       "      <td>...</td>\n",
       "      <td>...</td>\n",
       "      <td>...</td>\n",
       "    </tr>\n",
       "    <tr>\n",
       "      <th>1461</th>\n",
       "      <td>1/1/2021</td>\n",
       "      <td>ELECTION</td>\n",
       "      <td>NaN</td>\n",
       "    </tr>\n",
       "    <tr>\n",
       "      <th>1462</th>\n",
       "      <td>1/2/2021</td>\n",
       "      <td>ELECTION</td>\n",
       "      <td>NaN</td>\n",
       "    </tr>\n",
       "    <tr>\n",
       "      <th>1463</th>\n",
       "      <td>1/3/2021</td>\n",
       "      <td>ELECTION</td>\n",
       "      <td>NaN</td>\n",
       "    </tr>\n",
       "    <tr>\n",
       "      <th>1464</th>\n",
       "      <td>1/4/2021</td>\n",
       "      <td>ELECTION</td>\n",
       "      <td>NaN</td>\n",
       "    </tr>\n",
       "    <tr>\n",
       "      <th>1465</th>\n",
       "      <td>1/5/2021</td>\n",
       "      <td>ELECTION</td>\n",
       "      <td>NaN</td>\n",
       "    </tr>\n",
       "  </tbody>\n",
       "</table>\n",
       "<p>1466 rows × 3 columns</p>\n",
       "</div>"
      ],
      "text/plain": [
       "          Date Time Period Economic Events\n",
       "0     1/1/2017         NaN             NaN\n",
       "1     1/2/2017         NaN             NaN\n",
       "2     1/3/2017         NaN             NaN\n",
       "3     1/4/2017         NaN             NaN\n",
       "4     1/5/2017         NaN             NaN\n",
       "...        ...         ...             ...\n",
       "1461  1/1/2021    ELECTION             NaN\n",
       "1462  1/2/2021    ELECTION             NaN\n",
       "1463  1/3/2021    ELECTION             NaN\n",
       "1464  1/4/2021    ELECTION             NaN\n",
       "1465  1/5/2021    ELECTION             NaN\n",
       "\n",
       "[1466 rows x 3 columns]"
      ]
     },
     "execution_count": 576,
     "metadata": {},
     "output_type": "execute_result"
    }
   ],
   "source": [
    "events = pd.read_csv(\"datasets/events.csv\")\n",
    "events"
   ]
  },
  {
   "cell_type": "code",
   "execution_count": 577,
   "metadata": {},
   "outputs": [
    {
     "data": {
      "application/vnd.microsoft.datawrangler.viewer.v0+json": {
       "columns": [
        {
         "name": "index",
         "rawType": "int64",
         "type": "integer"
        },
        {
         "name": "index",
         "rawType": "int64",
         "type": "integer"
        },
        {
         "name": "Date",
         "rawType": "object",
         "type": "string"
        },
        {
         "name": "currency",
         "rawType": "object",
         "type": "string"
        },
        {
         "name": "volatility_percentage_change",
         "rawType": "float64",
         "type": "float"
        },
        {
         "name": "Group",
         "rawType": "object",
         "type": "string"
        }
       ],
       "conversionMethod": "pd.DataFrame",
       "ref": "edfdc97b-543e-42bf-8d33-0467e37f480a",
       "rows": [
        [
         "6955",
         "28006",
         "01/02/2017",
         "JPY",
         "0.8137741990748697",
         "Control"
        ],
        [
         "6956",
         "33726",
         "01/02/2017",
         "MXN",
         "0.4356950811427669",
         "Control"
        ],
        [
         "6957",
         "25146",
         "01/02/2017",
         "INR",
         "0.478602774423451",
         "Control"
        ],
        [
         "6958",
         "10904",
         "01/02/2017",
         "CHF",
         "0.7572032648244705",
         "Control"
        ],
        [
         "6959",
         "8044",
         "01/02/2017",
         "CAD",
         "0.5004481625336068",
         "Control"
        ]
       ],
       "shape": {
        "columns": 5,
        "rows": 5
       }
      },
      "text/html": [
       "<div>\n",
       "<style scoped>\n",
       "    .dataframe tbody tr th:only-of-type {\n",
       "        vertical-align: middle;\n",
       "    }\n",
       "\n",
       "    .dataframe tbody tr th {\n",
       "        vertical-align: top;\n",
       "    }\n",
       "\n",
       "    .dataframe thead th {\n",
       "        text-align: right;\n",
       "    }\n",
       "</style>\n",
       "<table border=\"1\" class=\"dataframe\">\n",
       "  <thead>\n",
       "    <tr style=\"text-align: right;\">\n",
       "      <th></th>\n",
       "      <th>index</th>\n",
       "      <th>Date</th>\n",
       "      <th>currency</th>\n",
       "      <th>volatility_percentage_change</th>\n",
       "      <th>Group</th>\n",
       "    </tr>\n",
       "  </thead>\n",
       "  <tbody>\n",
       "    <tr>\n",
       "      <th>6955</th>\n",
       "      <td>28006</td>\n",
       "      <td>01/02/2017</td>\n",
       "      <td>JPY</td>\n",
       "      <td>0.813774</td>\n",
       "      <td>Control</td>\n",
       "    </tr>\n",
       "    <tr>\n",
       "      <th>6956</th>\n",
       "      <td>33726</td>\n",
       "      <td>01/02/2017</td>\n",
       "      <td>MXN</td>\n",
       "      <td>0.435695</td>\n",
       "      <td>Control</td>\n",
       "    </tr>\n",
       "    <tr>\n",
       "      <th>6957</th>\n",
       "      <td>25146</td>\n",
       "      <td>01/02/2017</td>\n",
       "      <td>INR</td>\n",
       "      <td>0.478603</td>\n",
       "      <td>Control</td>\n",
       "    </tr>\n",
       "    <tr>\n",
       "      <th>6958</th>\n",
       "      <td>10904</td>\n",
       "      <td>01/02/2017</td>\n",
       "      <td>CHF</td>\n",
       "      <td>0.757203</td>\n",
       "      <td>Control</td>\n",
       "    </tr>\n",
       "    <tr>\n",
       "      <th>6959</th>\n",
       "      <td>8044</td>\n",
       "      <td>01/02/2017</td>\n",
       "      <td>CAD</td>\n",
       "      <td>0.500448</td>\n",
       "      <td>Control</td>\n",
       "    </tr>\n",
       "  </tbody>\n",
       "</table>\n",
       "</div>"
      ],
      "text/plain": [
       "      index        Date currency  volatility_percentage_change    Group\n",
       "6955  28006  01/02/2017      JPY                      0.813774  Control\n",
       "6956  33726  01/02/2017      MXN                      0.435695  Control\n",
       "6957  25146  01/02/2017      INR                      0.478603  Control\n",
       "6958  10904  01/02/2017      CHF                      0.757203  Control\n",
       "6959   8044  01/02/2017      CAD                      0.500448  Control"
      ]
     },
     "execution_count": 577,
     "metadata": {},
     "output_type": "execute_result"
    }
   ],
   "source": [
    "combined[\"Date\"] = pd.to_datetime(combined[\"Date\"]).dt.date\n",
    "combined[\"Date\"] = pd.to_datetime(combined[\"Date\"]).dt.strftime(\"%m/%d/%Y\")\n",
    "combined.head()"
   ]
  },
  {
   "cell_type": "code",
   "execution_count": 578,
   "metadata": {},
   "outputs": [
    {
     "data": {
      "text/plain": [
       "Time Period\n",
       "International Tariffs    1286\n",
       "COVID Lockdown            478\n",
       "ELECTION                  102\n",
       "taxcut                     91\n",
       "Name: count, dtype: int64"
      ]
     },
     "execution_count": 578,
     "metadata": {},
     "output_type": "execute_result"
    }
   ],
   "source": [
    "# Force both to datetime, which solves string formatting inconsistencies\n",
    "combined[\"Date\"] = pd.to_datetime(combined[\"Date\"], format=\"%m/%d/%Y\")\n",
    "events[\"Date\"] = pd.to_datetime(events[\"Date\"], format=\"%m/%d/%Y\")\n",
    "\n",
    "# Then merge\n",
    "new_combined = pd.merge(combined, events, how=\"left\", on=\"Date\")\n",
    "new_combined = pd.merge(combined, events, how=\"left\", left_on=\"Date\", right_on=\"Date\")\n",
    "\n",
    "new_combined[\"Time Period\"].value_counts()"
   ]
  },
  {
   "cell_type": "code",
   "execution_count": 579,
   "metadata": {},
   "outputs": [
    {
     "data": {
      "text/plain": [
       "Economic Events\n",
       "Fed Hikes Rates    452\n",
       "Fed Cut Rates      286\n",
       "Name: count, dtype: int64"
      ]
     },
     "execution_count": 579,
     "metadata": {},
     "output_type": "execute_result"
    }
   ],
   "source": [
    "new_combined[\"Economic Events\"].value_counts()"
   ]
  },
  {
   "cell_type": "code",
   "execution_count": 580,
   "metadata": {},
   "outputs": [
    {
     "data": {
      "text/plain": [
       "Index(['index', 'Date', 'currency', 'volatility_percentage_change', 'Group',\n",
       "       'Time Period', 'Economic Events'],\n",
       "      dtype='object')"
      ]
     },
     "execution_count": 580,
     "metadata": {},
     "output_type": "execute_result"
    }
   ],
   "source": [
    "new_combined.columns"
   ]
  },
  {
   "cell_type": "code",
   "execution_count": 581,
   "metadata": {},
   "outputs": [
    {
     "data": {
      "application/vnd.microsoft.datawrangler.viewer.v0+json": {
       "columns": [
        {
         "name": "index",
         "rawType": "int64",
         "type": "integer"
        },
        {
         "name": "index",
         "rawType": "int64",
         "type": "integer"
        },
        {
         "name": "Date",
         "rawType": "datetime64[ns]",
         "type": "datetime"
        },
        {
         "name": "currency",
         "rawType": "object",
         "type": "string"
        },
        {
         "name": "volatility_percentage_change",
         "rawType": "float64",
         "type": "float"
        },
        {
         "name": "Group",
         "rawType": "object",
         "type": "string"
        },
        {
         "name": "Time Period",
         "rawType": "object",
         "type": "unknown"
        },
        {
         "name": "Economic Events",
         "rawType": "object",
         "type": "unknown"
        }
       ],
       "conversionMethod": "pd.DataFrame",
       "ref": "dfaa1f09-b9fa-4767-87da-ef9fc221aa3e",
       "rows": [
        [
         "0",
         "28006",
         "2017-01-02 00:00:00",
         "JPY",
         "0.8137741990748697",
         "Control",
         null,
         null
        ],
        [
         "1",
         "33726",
         "2017-01-02 00:00:00",
         "MXN",
         "0.4356950811427669",
         "Control",
         null,
         null
        ],
        [
         "2",
         "25146",
         "2017-01-02 00:00:00",
         "INR",
         "0.478602774423451",
         "Control",
         null,
         null
        ],
        [
         "3",
         "10904",
         "2017-01-02 00:00:00",
         "CHF",
         "0.7572032648244705",
         "Control",
         null,
         null
        ],
        [
         "4",
         "8044",
         "2017-01-02 00:00:00",
         "CAD",
         "0.5004481625336068",
         "Control",
         null,
         null
        ]
       ],
       "shape": {
        "columns": 7,
        "rows": 5
       }
      },
      "text/html": [
       "<div>\n",
       "<style scoped>\n",
       "    .dataframe tbody tr th:only-of-type {\n",
       "        vertical-align: middle;\n",
       "    }\n",
       "\n",
       "    .dataframe tbody tr th {\n",
       "        vertical-align: top;\n",
       "    }\n",
       "\n",
       "    .dataframe thead th {\n",
       "        text-align: right;\n",
       "    }\n",
       "</style>\n",
       "<table border=\"1\" class=\"dataframe\">\n",
       "  <thead>\n",
       "    <tr style=\"text-align: right;\">\n",
       "      <th></th>\n",
       "      <th>index</th>\n",
       "      <th>Date</th>\n",
       "      <th>currency</th>\n",
       "      <th>volatility_percentage_change</th>\n",
       "      <th>Group</th>\n",
       "      <th>Time Period</th>\n",
       "      <th>Economic Events</th>\n",
       "    </tr>\n",
       "  </thead>\n",
       "  <tbody>\n",
       "    <tr>\n",
       "      <th>0</th>\n",
       "      <td>28006</td>\n",
       "      <td>2017-01-02</td>\n",
       "      <td>JPY</td>\n",
       "      <td>0.813774</td>\n",
       "      <td>Control</td>\n",
       "      <td>NaN</td>\n",
       "      <td>NaN</td>\n",
       "    </tr>\n",
       "    <tr>\n",
       "      <th>1</th>\n",
       "      <td>33726</td>\n",
       "      <td>2017-01-02</td>\n",
       "      <td>MXN</td>\n",
       "      <td>0.435695</td>\n",
       "      <td>Control</td>\n",
       "      <td>NaN</td>\n",
       "      <td>NaN</td>\n",
       "    </tr>\n",
       "    <tr>\n",
       "      <th>2</th>\n",
       "      <td>25146</td>\n",
       "      <td>2017-01-02</td>\n",
       "      <td>INR</td>\n",
       "      <td>0.478603</td>\n",
       "      <td>Control</td>\n",
       "      <td>NaN</td>\n",
       "      <td>NaN</td>\n",
       "    </tr>\n",
       "    <tr>\n",
       "      <th>3</th>\n",
       "      <td>10904</td>\n",
       "      <td>2017-01-02</td>\n",
       "      <td>CHF</td>\n",
       "      <td>0.757203</td>\n",
       "      <td>Control</td>\n",
       "      <td>NaN</td>\n",
       "      <td>NaN</td>\n",
       "    </tr>\n",
       "    <tr>\n",
       "      <th>4</th>\n",
       "      <td>8044</td>\n",
       "      <td>2017-01-02</td>\n",
       "      <td>CAD</td>\n",
       "      <td>0.500448</td>\n",
       "      <td>Control</td>\n",
       "      <td>NaN</td>\n",
       "      <td>NaN</td>\n",
       "    </tr>\n",
       "  </tbody>\n",
       "</table>\n",
       "</div>"
      ],
      "text/plain": [
       "   index       Date currency  volatility_percentage_change    Group  \\\n",
       "0  28006 2017-01-02      JPY                      0.813774  Control   \n",
       "1  33726 2017-01-02      MXN                      0.435695  Control   \n",
       "2  25146 2017-01-02      INR                      0.478603  Control   \n",
       "3  10904 2017-01-02      CHF                      0.757203  Control   \n",
       "4   8044 2017-01-02      CAD                      0.500448  Control   \n",
       "\n",
       "  Time Period Economic Events  \n",
       "0         NaN             NaN  \n",
       "1         NaN             NaN  \n",
       "2         NaN             NaN  \n",
       "3         NaN             NaN  \n",
       "4         NaN             NaN  "
      ]
     },
     "execution_count": 581,
     "metadata": {},
     "output_type": "execute_result"
    }
   ],
   "source": [
    "new_combined.head(5)"
   ]
  },
  {
   "cell_type": "code",
   "execution_count": 582,
   "metadata": {},
   "outputs": [
    {
     "data": {
      "text/plain": [
       "(16259, 7)"
      ]
     },
     "execution_count": 582,
     "metadata": {},
     "output_type": "execute_result"
    }
   ],
   "source": [
    "new_combined.shape"
   ]
  },
  {
   "cell_type": "code",
   "execution_count": 585,
   "metadata": {},
   "outputs": [
    {
     "name": "stdout",
     "output_type": "stream",
     "text": [
      "Matched dataset shape: (6342, 10)\n",
      "  currency Date_treated  volatility_treated Date_control  volatility_control  \\\n",
      "0      BRL   2017-01-11            1.680725   2017-01-04            1.305133   \n",
      "1      CAD   2017-01-11            1.341463   2017-01-04            1.332631   \n",
      "2      SGD   2017-01-11            1.207865   2017-01-04            0.862009   \n",
      "3      ZAR   2017-01-11            2.500476   2017-01-04            1.935584   \n",
      "4      CHF   2017-01-11            1.495050   2017-01-04            0.921569   \n",
      "\n",
      "  Time Period (Treated) Time Period (Control) Economic Events (Treated)  \\\n",
      "0              NA_EVENT              NA_EVENT                  NA_EVENT   \n",
      "1              NA_EVENT              NA_EVENT                  NA_EVENT   \n",
      "2              NA_EVENT              NA_EVENT                  NA_EVENT   \n",
      "3              NA_EVENT              NA_EVENT                  NA_EVENT   \n",
      "4              NA_EVENT              NA_EVENT                  NA_EVENT   \n",
      "\n",
      "  Economic Events (Control)  Weekday  \n",
      "0                  NA_EVENT        2  \n",
      "1                  NA_EVENT        2  \n",
      "2                  NA_EVENT        2  \n",
      "3                  NA_EVENT        2  \n",
      "4                  NA_EVENT        2  \n"
     ]
    }
   ],
   "source": [
    "import pandas as pd\n",
    "from datetime import timedelta\n",
    "\n",
    "# Ensure datetime format\n",
    "new_combined[\"Date\"] = pd.to_datetime(new_combined[\"Date\"])\n",
    "\n",
    "# Add a weekday column: Monday=0, ..., Friday=4\n",
    "new_combined[\"weekday\"] = new_combined[\"Date\"].dt.weekday\n",
    "\n",
    "# Split treated and control\n",
    "treated = new_combined[new_combined[\"Group\"] == \"Treatment\"].copy()\n",
    "control = new_combined[new_combined[\"Group\"] == \"Control\"].copy()\n",
    "\n",
    "# Fill missing values with 'NA_EVENT' for flexible matching\n",
    "treated[[\"Time Period\", \"Economic Events\"]] = treated[\n",
    "    [\"Time Period\", \"Economic Events\"]\n",
    "].fillna(\"NA_EVENT\")\n",
    "control[[\"Time Period\", \"Economic Events\"]] = control[\n",
    "    [\"Time Period\", \"Economic Events\"]\n",
    "].fillna(\"NA_EVENT\")\n",
    "\n",
    "matched_rows = []\n",
    "\n",
    "for _, t_row in treated.iterrows():\n",
    "    # Step 1: Currency match\n",
    "    potential_matches = control[control[\"currency\"] == t_row[\"currency\"]]\n",
    "\n",
    "    # Step 2: Flexible match on time period and economic events\n",
    "    time_match = (\n",
    "        (potential_matches[\"Time Period\"] == t_row[\"Time Period\"])\n",
    "        | (potential_matches[\"Time Period\"] == \"NA_EVENT\")\n",
    "        | (t_row[\"Time Period\"] == \"NA_EVENT\")\n",
    "    )\n",
    "    event_match = (\n",
    "        (potential_matches[\"Economic Events\"] == t_row[\"Economic Events\"])\n",
    "        | (potential_matches[\"Economic Events\"] == \"NA_EVENT\")\n",
    "        | (t_row[\"Economic Events\"] == \"NA_EVENT\")\n",
    "    )\n",
    "\n",
    "    potential_matches = potential_matches[time_match & event_match]\n",
    "\n",
    "    if potential_matches.empty:\n",
    "        continue  # Skip if no good matches at all\n",
    "\n",
    "    # Step 3: Try to match on the same weekday first\n",
    "    weekday_matches = potential_matches[\n",
    "        potential_matches[\"weekday\"] == t_row[\"weekday\"]\n",
    "    ]\n",
    "\n",
    "    if not weekday_matches.empty:\n",
    "        pool = weekday_matches\n",
    "    else:\n",
    "        # fallback to relaxed match\n",
    "        pool = potential_matches\n",
    "\n",
    "    # Step 4: Find closest control date\n",
    "    pool = pool.copy()\n",
    "    pool[\"date_diff\"] = (pool[\"Date\"] - t_row[\"Date\"]).abs()\n",
    "    best_match = pool.loc[pool[\"date_diff\"].idxmin()]\n",
    "\n",
    "    matched_rows.append(\n",
    "        {\n",
    "            \"currency\": t_row[\"currency\"],\n",
    "            \"Date_treated\": t_row[\"Date\"],\n",
    "            \"volatility_treated\": t_row[\"volatility_percentage_change\"],\n",
    "            \"Date_control\": best_match[\"Date\"],\n",
    "            \"volatility_control\": best_match[\"volatility_percentage_change\"],\n",
    "            \"Time Period (Treated)\": t_row[\"Time Period\"],\n",
    "            \"Time Period (Control)\": best_match[\"Time Period\"],\n",
    "            \"Economic Events (Treated)\": t_row[\"Economic Events\"],\n",
    "            \"Economic Events (Control)\": best_match[\"Economic Events\"],\n",
    "            \"Weekday\": t_row[\"weekday\"],\n",
    "        }\n",
    "    )\n",
    "\n",
    "# Convert to final matched DataFrame\n",
    "matched_df = pd.DataFrame(matched_rows)\n",
    "\n",
    "# Preview results\n",
    "print(f\"Matched dataset shape: {matched_df.shape}\")\n",
    "print(matched_df.head())"
=======
    "# Group by date and group to get mean volatility per day per group\n",
    "daily_mean_vol = (\n",
    "    combined.groupby([\"Date\", \"Group\"])[\"volatility_percentage_change\"]\n",
    "    .mean()\n",
    "    .reset_index()\n",
    ")\n",
    "\n",
    "# Plotting\n",
    "plt.figure(figsize=(12, 6))\n",
    "sns.lineplot(\n",
    "    data=daily_mean_vol, x=\"Date\", y=\"volatility_percentage_change\", hue=\"Group\"\n",
    ")\n",
    "plt.title(\"Daily Mean Volatility by Group\")\n",
    "plt.xlabel(\"Date\")\n",
    "plt.ylabel(\"Mean Volatility (%)\")\n",
    "plt.legend(title=\"Group\")\n",
    "plt.tight_layout()\n",
    "plt.show()"
>>>>>>> 3a2ec1de7891262211cd8d2e2f6158b3919fa56b
   ]
  },
  {
   "cell_type": "code",
   "execution_count": null,
   "metadata": {},
   "outputs": [
    {
<<<<<<< HEAD
     "data": {
      "text/plain": [
       "(6342, 9)"
      ]
     },
     "execution_count": 584,
     "metadata": {},
     "output_type": "execute_result"
    }
   ],
   "source": [
    "currency_dic = {\n",
    "    \"EUR\": 0.3370026895548272,\n",
    "    \"JPY\": 0.18415367205067532,\n",
    "    \"GBP\": 0.14241413265531075,\n",
    "    \"AUD\": 0.07039873017739304,\n",
    "    \"CAD\": 0.06848811745859114,\n",
    "    \"CHF\": 0.05731838156405696,\n",
    "    \"HKD\": 0.028512220572889872,\n",
    "    \"SGD\": 0.02689554827236519,\n",
    "    \"KRW\": 0.02086976969768228,\n",
    "    \"INR\": 0.017930365514910125,\n",
    "    \"MXN\": 0.016769300862715126,\n",
    "    \"ZAR\": 0.010728825267118354,\n",
    "    \"BRL\": 0.009700033803148102,\n",
    "    \"THB\": 0.004556076483296836,\n",
    "    \"IDR\": 0.0042621360650196205,\n",
    "}"
=======
     "name": "stdout",
     "output_type": "stream",
     "text": [
      "Mean Treatment Value: 0.7326073250878763\n",
      "Mean Control Value: 0.78880818147413\n"
     ]
    }
   ],
   "source": [
    "mean_treatment_value = combined[combined[\"Group\"] == \"Treatment\"][\n",
    "    \"volatility_percentage_change\"\n",
    "].mean()\n",
    "mean_control_value = combined[combined[\"Group\"] == \"Control\"][\n",
    "    \"volatility_percentage_change\"\n",
    "].mean()\n",
    "\n",
    "print(f\"Mean Treatment Value: {mean_treatment_value}\")\n",
    "print(f\"Mean Control Value: {mean_control_value}\")"
   ]
  },
  {
   "cell_type": "code",
   "execution_count": null,
   "metadata": {},
   "outputs": [
    {
     "name": "stdout",
     "output_type": "stream",
     "text": [
      "Number of observations in Treatment group before 2018: 662\n",
      "Number of observations in Treatment group after 2018: 5680\n"
     ]
    }
   ],
   "source": [
    "n_obs_treat_before_2018 = combined[combined[\"Group\"] == \"Treatment\"]\n",
    "n_obs_treat_before_2018 = n_obs_treat_before_2018[\n",
    "    n_obs_treat_before_2018[\"Date\"] < \"2018-01-01\"\n",
    "].shape[0]\n",
    "\n",
    "n_obs_treat_after_2018 = combined[combined[\"Group\"] == \"Treatment\"]\n",
    "n_obs_treat_after_2018 = n_obs_treat_after_2018[\n",
    "    n_obs_treat_after_2018[\"Date\"] >= \"2018-01-01\"\n",
    "].shape[0]\n",
    "\n",
    "print(\n",
    "    f\"Number of observations in Treatment group before 2018: {n_obs_treat_before_2018}\"\n",
    ")\n",
    "print(f\"Number of observations in Treatment group after 2018: {n_obs_treat_after_2018}\")"
   ]
  },
  {
   "cell_type": "code",
   "execution_count": null,
   "metadata": {},
   "outputs": [
    {
     "name": "stdout",
     "output_type": "stream",
     "text": [
      "Number of unique dates in Treatment group: 279\n",
      "Number of unique dates in Control group: 241\n"
     ]
    }
   ],
   "source": [
    "Treatment = combined[combined[\"Group\"] == \"Treatment\"].nunique()[\"Date\"]\n",
    "Control = combined[combined[\"Group\"] == \"Control\"].nunique()[\"Date\"]\n",
    "print(f\"Number of unique dates in Treatment group: {Treatment}\")\n",
    "print(f\"Number of unique dates in Control group: {Control}\")\n",
    "\n",
    "\n",
    "# LEt's sample just 240 random dates in control group"
   ]
  },
  {
   "cell_type": "code",
   "execution_count": null,
   "metadata": {},
   "outputs": [
    {
     "name": "stdout",
     "output_type": "stream",
     "text": [
      "T-statistic: -4.217212070015354, P-value: 2.5126831478796506e-05\n",
      "Reject the null hypothesis: There is a significant difference in volatility.\n"
     ]
    }
   ],
   "source": [
    "# Run t_test\n",
    "\n",
    "# T_test for Volatility\n",
    "\n",
    "v1 = combined[combined[\"Group\"] == \"Treatment\"][\"volatility_percentage_change\"].dropna()\n",
    "\n",
    "v2 = combined[combined[\"Group\"] == \"Control\"][\"volatility_percentage_change\"].dropna()\n",
    "\n",
    "# Perform t-test\n",
    "t_stat, p_value = ttest_ind(v1, v2, equal_var=False)\n",
    "print(f\"T-statistic: {t_stat}, P-value: {p_value}\")\n",
    "\n",
    "# Check if p-value is less than 0.05\n",
    "if p_value < 0.05:\n",
    "    print(\n",
    "        \"Reject the null hypothesis: There is a significant difference in volatility.\"\n",
    "    )"
   ]
  },
  {
   "cell_type": "code",
   "execution_count": null,
   "metadata": {},
   "outputs": [
    {
     "name": "stderr",
     "output_type": "stream",
     "text": [
      "C:\\Users\\chris\\AppData\\Local\\Temp\\ipykernel_24284\\2719977403.py:9: FutureWarning: \n",
      "\n",
      "Passing `palette` without assigning `hue` is deprecated and will be removed in v0.14.0. Assign the `x` variable to `hue` and set `legend=False` for the same effect.\n",
      "\n",
      "  sns.boxplot(\n"
     ]
    },
    {
     "data": {
      "image/png": "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",
      "text/plain": [
       "<Figure size 1000x600 with 1 Axes>"
      ]
     },
     "metadata": {},
     "output_type": "display_data"
    }
   ],
   "source": [
    "import matplotlib.pyplot as plt\n",
    "import seaborn as sns\n",
    "import pandas as pd\n",
    "\n",
    "# Set up the plot\n",
    "plt.figure(figsize=(10, 6))\n",
    "\n",
    "# Boxplot for central tendency + spread\n",
    "sns.boxplot(\n",
    "    data=combined,\n",
    "    x=\"Group\",\n",
    "    y=\"volatility_percentage_change\",\n",
    "    palette=\"Set2\",\n",
    "    showmeans=True,\n",
    "    meanprops={\"marker\": \"o\", \"markerfacecolor\": \"black\", \"markeredgecolor\": \"black\"},\n",
    ")\n",
    "\n",
    "# Optional: Add swarmplot to show individual data points\n",
    "sns.stripplot(\n",
    "    data=combined,\n",
    "    x=\"Group\",\n",
    "    y=\"volatility_percentage_change\",\n",
    "    color=\"gray\",\n",
    "    alpha=0.4,\n",
    "    jitter=True,\n",
    ")\n",
    "\n",
    "plt.title(\"Volatility Distribution by Group\")\n",
    "plt.ylabel(\"Volatility (%)\")\n",
    "plt.xlabel(\"Group\")\n",
    "plt.tight_layout()\n",
    "plt.show()"
>>>>>>> 3a2ec1de7891262211cd8d2e2f6158b3919fa56b
   ]
  }
 ],
 "metadata": {
  "kernelspec": {
   "display_name": "base",
   "language": "python",
   "name": "python3"
  },
  "language_info": {
   "codemirror_mode": {
    "name": "ipython",
    "version": 3
   },
   "file_extension": ".py",
   "mimetype": "text/x-python",
   "name": "python",
   "nbconvert_exporter": "python",
   "pygments_lexer": "ipython3",
   "version": "3.12.7"
  }
 },
 "nbformat": 4,
 "nbformat_minor": 2
}
